{
 "cells": [
  {
   "cell_type": "markdown",
   "source": [
    "# Sets\n",
    "The notebook created after the *sets* module.\n",
    "\n",
    "Demonstrates working with sets in Python."
   ],
   "metadata": {
    "collapsed": false,
    "pycharm": {
     "name": "#%% md\n"
    }
   }
  },
  {
   "cell_type": "code",
   "execution_count": null,
   "outputs": [],
   "source": [
    "def demonstrate_sets():\n",
    "    \"\"\"Creating and using sets.\n",
    "    - create a set and make an attempt to duplicate items\n",
    "    - demonstrate some typical set operators:\n",
    "        & (intersection)\n",
    "        | (union)\n",
    "        - (difference)\n",
    "        ^ (disjoint)\n",
    "    \"\"\"\n",
    "\n",
    "    s = set()\n",
    "    s.add('Paul McCartney')\n",
    "    print(type(s))\n",
    "    print(s)\n",
    "    s.update([1942, 'Liverpool'])\n",
    "    print(s)\n",
    "    s.update([1942, 'Liverpool'])\n",
    "    print(s)\n",
    "    s.add(1942)\n",
    "    print(s)\n",
    "    s = s | {1942}\n",
    "    print(s)\n",
    "    print()\n",
    "\n",
    "    print(s | {'John Lennon'})\n",
    "    print(s | {'John Lennon', 1942})\n",
    "    print(s & {'John Lennon', 1942})\n",
    "    print(s - {'John Lennon', 1942})\n",
    "    print(s ^ {'John Lennon', 1942})"
   ],
   "metadata": {
    "collapsed": false,
    "pycharm": {
     "name": "#%%\n"
    }
   }
  },
  {
   "cell_type": "code",
   "execution_count": null,
   "outputs": [],
   "source": [
    "demonstrate_sets()"
   ],
   "metadata": {
    "collapsed": false,
    "pycharm": {
     "name": "#%%\n"
    }
   }
  }
 ],
 "metadata": {
  "kernelspec": {
   "display_name": "Python 3",
   "language": "python",
   "name": "python3"
  },
  "language_info": {
   "codemirror_mode": {
    "name": "ipython",
    "version": 2
   },
   "file_extension": ".py",
   "mimetype": "text/x-python",
   "name": "python",
   "nbconvert_exporter": "python",
   "pygments_lexer": "ipython2",
   "version": "2.7.6"
  }
 },
 "nbformat": 4,
 "nbformat_minor": 0
}