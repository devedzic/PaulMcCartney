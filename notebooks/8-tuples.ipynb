{
 "cells": [
  {
   "cell_type": "markdown",
   "source": [
    "# Tuples\n",
    "The notebook created after the *tuples* module.\n",
    "\n",
    "Demonstrates working with tuples in Python."
   ],
   "metadata": {
    "collapsed": false,
    "pycharm": {
     "name": "#%% md\n"
    }
   }
  },
  {
   "cell_type": "markdown",
   "source": [
    "## Creating and using tuples\n",
    "Define a simple function to demonstrate working with tuples."
   ],
   "metadata": {
    "collapsed": false,
    "pycharm": {
     "name": "#%% md\n"
    }
   }
  },
  {
   "cell_type": "code",
   "execution_count": null,
   "outputs": [],
   "source": [
    "def demonstrate_tuples():\n",
    "    \"\"\"Creating and using tuples.\n",
    "    - create and print empty tuple, 1-tuple, 2-tuple, mixed-type n-tuple\n",
    "    - accessing elements of a tuple using []\n",
    "    - demonstrate that tuples are immutable\n",
    "    \"\"\"\n",
    "\n",
    "    empty_tuple = ()\n",
    "    print(type(empty_tuple))\n",
    "    print(empty_tuple)\n",
    "    one_tuple = (1, )\n",
    "    print(one_tuple)\n",
    "    pair = (1, 3, )\n",
    "    print(pair)\n",
    "    triplet = (1, 5, 8, )\n",
    "    print(triplet)\n",
    "    paul = ('Paul McCartney', 'Liverpool', 1942, True)\n",
    "    print(paul)\n",
    "    print(paul[2])\n",
    "    print()\n",
    "    for i in paul:\n",
    "        print(i)\n",
    "    # paul[2] = 'L'"
   ],
   "metadata": {
    "collapsed": false,
    "pycharm": {
     "name": "#%%\n"
    }
   }
  },
  {
   "cell_type": "code",
   "execution_count": null,
   "outputs": [],
   "source": [
    "demonstrate_tuples()"
   ],
   "metadata": {
    "collapsed": false,
    "pycharm": {
     "name": "#%%\n"
    }
   }
  },
  {
   "cell_type": "markdown",
   "source": [
    "## Packing and unpacking tuples\n",
    "Define a simple function to demonstrate packing and unpacking tuples."
   ],
   "metadata": {
    "collapsed": false,
    "pycharm": {
     "name": "#%% md\n"
    }
   }
  },
  {
   "cell_type": "code",
   "execution_count": null,
   "outputs": [],
   "source": [
    "def demonstrate_packing():\n",
    "    \"\"\"Packing and unpacking tuples.\n",
    "    \"\"\"\n",
    "\n",
    "    paul = 'Paul McCartney', 'Liverpool', 1942, True\n",
    "    print(paul)\n",
    "    name, city, year, b = paul\n",
    "    print(name, city, year, b)\n",
    "    print({name, city, year, b})\n",
    "    print(type({name, city, year, b}))"
   ],
   "metadata": {
    "collapsed": false,
    "pycharm": {
     "name": "#%%\n"
    }
   }
  },
  {
   "cell_type": "code",
   "execution_count": null,
   "outputs": [],
   "source": [
    "demonstrate_packing()"
   ],
   "metadata": {
    "collapsed": false,
    "pycharm": {
     "name": "#%%\n"
    }
   }
  },
  {
   "cell_type": "markdown",
   "source": [
    "## Using the built-in *zip()* function with tuples\n",
    "Define a simple function to demonstrate using the built-in `zip()` function with tuples and multi-counter for-loop."
   ],
   "metadata": {
    "collapsed": false,
    "pycharm": {
     "name": "#%% md\n"
    }
   }
  },
  {
   "cell_type": "code",
   "execution_count": null,
   "outputs": [],
   "source": [
    "def demonstrate_zip():\n",
    "    \"\"\"Using the built-in zip() function with tuples and multi-counter for-loop.\n",
    "    - demonstrate zip object\n",
    "    - demonstrate converting a zip object to a list object\n",
    "    - demonstrate that a zip object is an iterator (must be re-initialized after looping)\n",
    "    \"\"\"\n",
    "\n",
    "    members = ('John Lennon', 'Paul McCartney', 'George Harrison', 'Ringo Starr')\n",
    "    birth_years = (1940, 1942, 1943, 1940)\n",
    "    birth_places = ('Liverpool', 'Liverpool', 'Liverpool', 'Liverpool', )\n",
    "\n",
    "    theBeatles = zip(members, birth_years, birth_places)\n",
    "    print(theBeatles)\n",
    "    print(list(theBeatles))\n",
    "    theBeatles = zip(members, birth_years, birth_places)\n",
    "    print(tuple(theBeatles))\n",
    "    print()\n",
    "\n",
    "    theBeatles = zip(members, birth_years, birth_places)\n",
    "    for name, year, city in theBeatles:\n",
    "        print(f'{name} was born in {year} in {city}.')"
   ],
   "metadata": {
    "collapsed": false,
    "pycharm": {
     "name": "#%%\n"
    }
   }
  },
  {
   "cell_type": "code",
   "execution_count": null,
   "outputs": [],
   "source": [
    "demonstrate_zip()"
   ],
   "metadata": {
    "collapsed": false,
    "pycharm": {
     "name": "#%%\n"
    }
   }
  }
 ],
 "metadata": {
  "kernelspec": {
   "display_name": "Python 3",
   "language": "python",
   "name": "python3"
  },
  "language_info": {
   "codemirror_mode": {
    "name": "ipython",
    "version": 2
   },
   "file_extension": ".py",
   "mimetype": "text/x-python",
   "name": "python",
   "nbconvert_exporter": "python",
   "pygments_lexer": "ipython2",
   "version": "2.7.6"
  }
 },
 "nbformat": 4,
 "nbformat_minor": 0
}