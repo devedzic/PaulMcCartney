{
 "cells": [
  {
   "cell_type": "markdown",
   "source": [
    "# The notebook created after the *inception* module\n",
    "The code copied/moved from *main.py* is included at the end of this notebook."
   ],
   "metadata": {
    "collapsed": false,
    "pycharm": {
     "name": "#%% md\n"
    }
   }
  },
  {
   "cell_type": "markdown",
   "source": [
    "## A function defined at the notebook level\n",
    "A simple function defined in this notebook, but can be also defined in another Python module."
   ],
   "metadata": {
    "collapsed": false,
    "pycharm": {
     "name": "#%% md\n"
    }
   }
  },
  {
   "cell_type": "code",
   "execution_count": null,
   "outputs": [],
   "source": [
    "def year_of_birth():\n",
    "    \"\"\"A simple function defined in a module\n",
    "    \"\"\"\n",
    "\n",
    "    print('Paul McCartney was born in: ', end='')\n",
    "    year = input()\n",
    "    return year"
   ],
   "metadata": {
    "collapsed": false,
    "pycharm": {
     "name": "#%%\n"
    }
   }
  },
  {
   "cell_type": "markdown",
   "source": [
    "## *if __name__ == '__main__'*\n",
    "It works, but it probably doesn't make much sense here.\n",
    "\n",
    "Of course, make sure to run the previous cell before running the next one."
   ],
   "metadata": {
    "collapsed": false,
    "pycharm": {
     "name": "#%% md\n"
    }
   }
  },
  {
   "cell_type": "code",
   "execution_count": null,
   "outputs": [],
   "source": [
    "if __name__ == '__main__':\n",
    "\n",
    "    print(year_of_birth())"
   ],
   "metadata": {
    "collapsed": false,
    "pycharm": {
     "name": "#%%\n"
    }
   }
  },
  {
   "cell_type": "markdown",
   "source": [
    "## Printing with classical formatting\n",
    "Using `%` to format the output."
   ],
   "metadata": {
    "collapsed": false,
    "pycharm": {
     "name": "#%% md\n"
    }
   }
  },
  {
   "cell_type": "code",
   "execution_count": null,
   "outputs": [],
   "source": [
    "city = 'Liverpool'\n",
    "year = 1942"
   ],
   "metadata": {
    "collapsed": false,
    "pycharm": {
     "name": "#%%\n"
    }
   }
  },
  {
   "cell_type": "code",
   "execution_count": null,
   "outputs": [],
   "source": [
    "print('Paul McCartney was born in %s, in %d ' % (city, year))"
   ],
   "metadata": {
    "collapsed": false,
    "pycharm": {
     "name": "#%%\n"
    }
   }
  },
  {
   "cell_type": "markdown",
   "source": [
    "## Printing with f-strings"
   ],
   "metadata": {
    "collapsed": false,
    "pycharm": {
     "name": "#%% md\n"
    }
   }
  },
  {
   "cell_type": "code",
   "execution_count": null,
   "outputs": [],
   "source": [
    "print(f'Paul McCartney was born in {city}, in {year}.')"
   ],
   "metadata": {
    "collapsed": false,
    "pycharm": {
     "name": "#%%\n"
    }
   }
  },
  {
   "cell_type": "markdown",
   "source": [
    "## *break* and *continue*"
   ],
   "metadata": {
    "collapsed": false,
    "pycharm": {
     "name": "#%% md\n"
    }
   }
  },
  {
   "cell_type": "code",
   "execution_count": null,
   "outputs": [],
   "source": [
    "for i in range(5):\n",
    "    if i == 2:\n",
    "        break\n",
    "        # continue\n",
    "    print(i)\n",
    "print()"
   ],
   "metadata": {
    "collapsed": false,
    "pycharm": {
     "name": "#%%\n"
    }
   }
  },
  {
   "cell_type": "markdown",
   "source": [
    "## Printing docstrings"
   ],
   "metadata": {
    "collapsed": false,
    "pycharm": {
     "name": "#%% md\n"
    }
   }
  },
  {
   "cell_type": "code",
   "execution_count": null,
   "outputs": [],
   "source": [
    "print(year_of_birth.__doc__)"
   ],
   "metadata": {
    "collapsed": false,
    "pycharm": {
     "name": "#%%\n"
    }
   }
  },
  {
   "cell_type": "markdown",
   "source": [
    "## Printing a list using enumerate()"
   ],
   "metadata": {
    "collapsed": false,
    "pycharm": {
     "name": "#%% md\n"
    }
   }
  },
  {
   "cell_type": "code",
   "execution_count": null,
   "outputs": [],
   "source": [
    "songs = ['The Long and Winding Road', 'Let It Be', 'Rocky Racoon']\n",
    "for i, song in enumerate(songs, start=1):\n",
    "    print(i, song)"
   ],
   "metadata": {
    "collapsed": false,
    "pycharm": {
     "name": "#%%\n"
    }
   }
  },
  {
   "cell_type": "markdown",
   "source": [
    "## Importing from Standard Library\n",
    "The following example imports the `date` class from the `datetime` module. The date formatting strings are explained [here](https://docs.python.org/3/library/datetime.html?highlight=date%20format%20strings#strftime-and-strptime-format-codes)."
   ],
   "metadata": {
    "collapsed": false,
    "pycharm": {
     "name": "#%% md\n"
    }
   }
  },
  {
   "cell_type": "code",
   "execution_count": null,
   "outputs": [],
   "source": [
    "from datetime import date\n",
    "\n",
    "d = date(1942, 6, 18)\n",
    "print(d)\n",
    "date_formatting_string = '%b %d, %Y'\n",
    "print(d.strftime(date_formatting_string))"
   ],
   "metadata": {
    "collapsed": false,
    "pycharm": {
     "name": "#%%\n"
    }
   }
  },
  {
   "cell_type": "markdown",
   "source": [
    "\n",
    "\n",
    "\n",
    "<br><br><br><br>\n",
    "________________\n",
    "The code copied/moved from *main.py*."
   ],
   "metadata": {
    "collapsed": false,
    "pycharm": {
     "name": "#%% md\n"
    }
   }
  },
  {
   "cell_type": "code",
   "execution_count": null,
   "outputs": [],
   "source": [
    "\"\"\"The very first Python script - main.py.\n",
    "\"\"\"\n",
    "\n",
    "\n",
    "# # Hello world: the print() built-in function and the + operator.\n",
    "#\n",
    "# print('Paul McCartney')\n",
    "# print('Paul McCartney', 'was born in', 1942)\n",
    "#\n",
    "# # print('Paul McCartney', 'was born in', 1942 + '.')\n",
    "# print('Paul McCartney', 'was born in', str(1942) + '.')\n",
    "# print('Paul McCartney wrote \\'Yesterday\\' in \\n' + str(1965))\n",
    "#\n",
    "#\n",
    "# # # The input() built-in function\n",
    "#\n",
    "# # print('Paul McCartney was born in: ')\n",
    "# # year = input()\n",
    "# # print('Paul McCartney was born in: ', end='')\n",
    "# # year = input()\n",
    "# # print('Paul McCartney was born in:', year + '.')\n",
    "#\n",
    "# print('Paul McCartney was born in:', int(input()))\n",
    "#\n",
    "#\n",
    "# # A simple function and function call\n",
    "#\n",
    "# def year_of_birth():\n",
    "#     print('Paul McCartney was born in: ', end='')\n",
    "#     year = input()\n",
    "#     return year\n",
    "#\n",
    "# print(year_of_birth())\n",
    "#\n",
    "#\n",
    "# # A simple loop and the range() built-in function\n",
    "#\n",
    "# for i in range(5):\n",
    "#     print(i)\n",
    "# print()\n",
    "#\n",
    "# i = 0\n",
    "# while i < 5:\n",
    "#     print(i)\n",
    "#     i += 1\n",
    "#\n",
    "#\n",
    "# # A simple list, accessing list elements, printing lists\n",
    "#\n",
    "# songs = ['Oh, Darling', 'The Long and Winding Road', 'She\\'s a Woman']\n",
    "# print(songs[2])\n",
    "# print(songs)\n",
    "# print('; '.join(songs) + '.')\n",
    "#\n",
    "#\n",
    "# # Looping through list elements - for and enumerate()\n",
    "#\n",
    "# for i in range(len(songs)):\n",
    "#     print(songs[i])\n",
    "# print()\n",
    "#\n",
    "# for i, song in enumerate(songs):\n",
    "#     print(str(i + 1) + ':', song)\n",
    "# print()\n",
    "#\n",
    "# print(enumerate(songs))\n",
    "# print(list(enumerate(songs)))\n",
    "# print(list(enumerate(songs, start=1)))\n",
    "# print()\n",
    "#\n",
    "# for i, song in enumerate(songs, start=1):\n",
    "#     print(str(i) + ':', song)\n",
    "#\n",
    "#\n",
    "# # Global variables: __name__, __file__, __doc__,...\n",
    "#\n",
    "# print(__name__)\n",
    "# # print(__file__)   # Doesn't work from a notebook and from a .py generated from a notebook, just from an original .py\n",
    "# print(__doc__)\n",
    "# print(globals())\n",
    "#\n",
    "# from inception import year_of_birth\n",
    "# print(year_of_birth())\n"
   ],
   "metadata": {
    "collapsed": false,
    "pycharm": {
     "name": "#%%\n"
    }
   }
  }
 ],
 "metadata": {
  "kernelspec": {
   "display_name": "Python 3",
   "language": "python",
   "name": "python3"
  },
  "language_info": {
   "codemirror_mode": {
    "name": "ipython",
    "version": 2
   },
   "file_extension": ".py",
   "mimetype": "text/x-python",
   "name": "python",
   "nbconvert_exporter": "python",
   "pygments_lexer": "ipython2",
   "version": "2.7.6"
  }
 },
 "nbformat": 4,
 "nbformat_minor": 0
}