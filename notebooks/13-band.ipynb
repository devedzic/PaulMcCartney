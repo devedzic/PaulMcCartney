{
 "cells": [
  {
   "cell_type": "markdown",
   "source": [
    "# Band\n",
    "The notebook created after the *band* module.\n",
    "\n",
    "Demonstrates domain classes, methods and functions related to the concept of musical band, as well as the mandatory `__init__()`, `__str__()` and `__eq__()` methods. The `__eq__()` method notes the problem of comparing unhashable objects.\n",
    "\n",
    "Introduces static fields/attributes and static methods (`@staticmethod`).\n",
    "\n",
    "Illustrates iterators and generators.\n",
    "\n",
    "Shows how to serialize `Band` objects to JSON."
   ],
   "metadata": {
    "collapsed": false
   }
  },
  {
   "cell_type": "markdown",
   "source": [
    "## Setup / Data"
   ],
   "metadata": {
    "collapsed": false
   }
  },
  {
   "cell_type": "code",
   "execution_count": 5,
   "outputs": [
    {
     "name": "stdout",
     "output_type": "stream",
     "text": [
      "Paul McCartney (solo musician)\n",
      "Paul McC (band member)\n",
      "True\n",
      "1942\n",
      "Paul McC playing I Saw Her Standing There - One, two, three, four! - ... (playing) ... Thank You! We Love You!\n",
      "Paul McC playing I Saw Her Standing There... (playing) ... Thank You! We Love You!\n",
      "Paul McC playing I Saw Her Standing There... (playing) ... Thank You! We Love You!\n",
      "2\n",
      "1\n",
      "<class 'int'>\n",
      "int\n",
      "['__new__', '__repr__', '__hash__', '__getattribute__', '__lt__', '__le__', '__eq__', '__ne__', '__gt__', '__ge__', '__add__', '__radd__', '__sub__', '__rsub__', '__mul__', '__rmul__', '__mod__', '__rmod__', '__divmod__', '__rdivmod__', '__pow__', '__rpow__', '__neg__', '__pos__', '__abs__', '__bool__', '__invert__', '__lshift__', '__rlshift__', '__rshift__', '__rrshift__', '__and__', '__rand__', '__xor__', '__rxor__', '__or__', '__ror__', '__int__', '__float__', '__floordiv__', '__rfloordiv__', '__truediv__', '__rtruediv__', '__index__', 'conjugate', 'bit_length', 'bit_count', 'to_bytes', 'from_bytes', 'as_integer_ratio', '__trunc__', '__floor__', '__ceil__', '__round__', '__getnewargs__', '__format__', '__sizeof__', 'real', 'imag', 'numerator', 'denominator', '__doc__', '__str__', '__setattr__', '__delattr__', '__init__', '__reduce_ex__', '__reduce__', '__subclasshook__', '__init_subclass__', '__dir__', '__class__']\n",
      "{'__new__': <built-in method __new__ of type object at 0x00007FFD7AB2A780>, '__repr__': <slot wrapper '__repr__' of 'object' objects>, '__hash__': <slot wrapper '__hash__' of 'object' objects>, '__str__': <slot wrapper '__str__' of 'object' objects>, '__getattribute__': <slot wrapper '__getattribute__' of 'object' objects>, '__setattr__': <slot wrapper '__setattr__' of 'object' objects>, '__delattr__': <slot wrapper '__delattr__' of 'object' objects>, '__lt__': <slot wrapper '__lt__' of 'object' objects>, '__le__': <slot wrapper '__le__' of 'object' objects>, '__eq__': <slot wrapper '__eq__' of 'object' objects>, '__ne__': <slot wrapper '__ne__' of 'object' objects>, '__gt__': <slot wrapper '__gt__' of 'object' objects>, '__ge__': <slot wrapper '__ge__' of 'object' objects>, '__init__': <slot wrapper '__init__' of 'object' objects>, '__reduce_ex__': <method '__reduce_ex__' of 'object' objects>, '__reduce__': <method '__reduce__' of 'object' objects>, '__subclasshook__': <method '__subclasshook__' of 'object' objects>, '__init_subclass__': <method '__init_subclass__' of 'object' objects>, '__format__': <method '__format__' of 'object' objects>, '__sizeof__': <method '__sizeof__' of 'object' objects>, '__dir__': <method '__dir__' of 'object' objects>, '__class__': <attribute '__class__' of 'object' objects>, '__doc__': 'The base class of the class hierarchy.\\n\\nWhen called, it accepts no arguments and returns a new featureless\\ninstance that has no instance attributes and cannot be given any.\\n'}\n",
      "{'_Musician__name': 'Paul McC', 'is_band_member': True, 'year': 1942}\n",
      "<class 'music.musician.Musician'>\n",
      "Musician\n",
      "True\n",
      "Paul McC playing I Saw Her Standing There - One, two, three, four! - ... (playing) ... Thank You! We Love You!\n",
      "(<class 'music.musician.SingerSongwriter'>, <class 'music.musician.Singer'>, <class 'music.musician.Songwriter'>, <class 'music.musician.Musician'>, <class 'object'>)\n",
      "Bob Dylan (solo musician)\n",
      "rhythm guitar\n",
      "lead vocals\n",
      "\n",
      "True\n",
      "\n",
      "I am Bob Dylan and I sing songs.\n",
      "I am Bob Dylan and I write songs.\n",
      "Paul McCartney (band member)\n",
      "lead vocals\n",
      "True\n",
      "\n",
      "{\n",
      "    \"one\": [\n",
      "        1,\n",
      "        true,\n",
      "        \"Uno\"\n",
      "    ],\n",
      "    \"two\": [\n",
      "        2,\n",
      "        3,\n",
      "        4\n",
      "    ]\n",
      "}\n",
      "{'one': [1, True, 'Uno'], 'two': [2, 3, 4]}\n",
      "{\n",
      "    \"__instance_type__\": [\n",
      "        \"music.musician\",\n",
      "        \"Singer\"\n",
      "    ],\n",
      "    \"attributes\": {\n",
      "        \"_Musician__name\": \"Paul McCartney\",\n",
      "        \"is_band_member\": true,\n",
      "        \"vocals\": {\n",
      "            \"__enum__\": {\n",
      "                \"__enum_instance_type__\": [\n",
      "                    \"music.enums\",\n",
      "                    \"Vocals\"\n",
      "                ],\n",
      "                \"name\": \"LEAD_VOCALS\"\n",
      "            }\n",
      "        }\n",
      "    }\n",
      "}\n",
      "True\n"
     ]
    },
    {
     "ename": "NameError",
     "evalue": "name 'john' is not defined",
     "output_type": "error",
     "traceback": [
      "\u001B[1;31m---------------------------------------------------------------------------\u001B[0m",
      "\u001B[1;31mNameError\u001B[0m                                 Traceback (most recent call last)",
      "Input \u001B[1;32mIn [5]\u001B[0m, in \u001B[0;36m<cell line: 7>\u001B[1;34m()\u001B[0m\n\u001B[0;32m      4\u001B[0m \u001B[38;5;28;01mimport\u001B[39;00m \u001B[38;5;21;01msys\u001B[39;00m\n\u001B[0;32m      5\u001B[0m \u001B[38;5;28;01mimport\u001B[39;00m \u001B[38;5;21;01mpickle\u001B[39;00m\n\u001B[1;32m----> 7\u001B[0m \u001B[38;5;28;01mfrom\u001B[39;00m \u001B[38;5;21;01mmusic\u001B[39;00m\u001B[38;5;21;01m.\u001B[39;00m\u001B[38;5;21;01mmusician\u001B[39;00m \u001B[38;5;28;01mimport\u001B[39;00m Musician\n\u001B[0;32m      8\u001B[0m \u001B[38;5;28;01mfrom\u001B[39;00m \u001B[38;5;21;01mutil\u001B[39;00m\u001B[38;5;21;01m.\u001B[39;00m\u001B[38;5;21;01mutility\u001B[39;00m \u001B[38;5;28;01mimport\u001B[39;00m format_date, get_data_dir, get_project_dir\n\u001B[0;32m      9\u001B[0m \u001B[38;5;28;01mfrom\u001B[39;00m \u001B[38;5;21;01msettings\u001B[39;00m \u001B[38;5;28;01mimport\u001B[39;00m PROJECT_DIR, DATA_DIR\n",
      "File \u001B[1;32mM:\\Vladan\\Courses\\P3\\Python\\Python projects\\Jupyter projects\\PaulMcCartney\\music\\musician.py:443\u001B[0m, in \u001B[0;36m<module>\u001B[1;34m\u001B[0m\n\u001B[0;32m    439\u001B[0m \u001B[38;5;28mprint\u001B[39m(paul \u001B[38;5;241m==\u001B[39m loads(paul_json))\n\u001B[0;32m    441\u001B[0m \u001B[38;5;66;03m#%%\u001B[39;00m\n\u001B[0;32m    442\u001B[0m \u001B[38;5;66;03m# List of objects\u001B[39;00m\n\u001B[1;32m--> 443\u001B[0m john_and_paul_json \u001B[38;5;241m=\u001B[39m dumps([\u001B[43mjohn\u001B[49m, paul], indent\u001B[38;5;241m=\u001B[39m\u001B[38;5;241m4\u001B[39m)\n\u001B[0;32m    444\u001B[0m \u001B[38;5;28mprint\u001B[39m(john_and_paul_json)\n\u001B[0;32m    445\u001B[0m \u001B[38;5;28mprint\u001B[39m([john, paul] \u001B[38;5;241m==\u001B[39m loads(john_and_paul_json))\n",
      "\u001B[1;31mNameError\u001B[0m: name 'john' is not defined"
     ]
    }
   ],
   "source": [
    "from datetime import date, datetime, time\n",
    "from pathlib import Path\n",
    "import json\n",
    "import sys\n",
    "import pickle\n",
    "\n",
    "from music.musician import Musician\n",
    "from util.utility import format_date, get_data_dir, get_project_dir\n",
    "from settings import PROJECT_DIR, DATA_DIR\n",
    "\n",
    "from testdata.musicians import *"
   ],
   "metadata": {
    "collapsed": false
   }
  },
  {
   "cell_type": "markdown",
   "source": [
    "## The *Band* class\n",
    "The class describing the concept of musical band. It is assumed that a musician is sufficiently described by their name and whether they are a solo musician or a member of a band. It includes a list of `Musician` objects (band members) and the dates when the band started/stopped performing together.\n",
    "\n",
    "Introduces `@staticmethod`s, iterators (the `__iter__()` and `__next__()` methods) and generators. Implicitly introduces exception handling as well (in demonstrating iterators and generators)."
   ],
   "metadata": {
    "collapsed": false
   }
  },
  {
   "cell_type": "code",
   "execution_count": 6,
   "outputs": [],
   "source": [
    "class Band():\n",
    "    \"\"\"The class describing the concept of a music group/band.\n",
    "    It includes a list of Musician objects (band members)\n",
    "    and the dates when the band started/stopped performing together.\n",
    "    \"\"\"\n",
    "\n",
    "    # Class variables: like static fields in Java; typically defined and initialized before __init__()\n",
    "    # Insert a class variable (static field), such as genres, date_pattern,...\n",
    "\n",
    "    genres = ['rock', 'blues', 'pop', 'alternative', 'unknown']\n",
    "\n",
    "    def __init__(self, name, *members, start=date.today(), end=date.today()):\n",
    "        # pass                                            # introduce and initialize iterator counter, self.__i\n",
    "        self.name = name\n",
    "        self.members = members\n",
    "        self.start = start\n",
    "        self.end = end\n",
    "        self.__i = 0\n",
    "\n",
    "    def __str__(self):\n",
    "        n = self.name\n",
    "        m = f'({\", \".join([member.name for member in self.members]) if self.members else \"members unknown\"})'\n",
    "        s = self.start.year\n",
    "        e = self.end.year\n",
    "        return f'{n} {m}, {s}-{e}'\n",
    "\n",
    "    def __eq__(self, other):\n",
    "        # Musician objects are unhashable, so comparing the members tuples from self and other directly does not work;\n",
    "        # see https://stackoverflow.com/a/14721133/1899061, https://stackoverflow.com/a/17236824/1899061\n",
    "        # return self == other if isinstance(other, Band) else False    # No! Musician objects are unhashable!\n",
    "        # However, this works:\n",
    "        # return self.__dict__ == other.__dict__ if isinstance(other, Band) else False\n",
    "\n",
    "        t = isinstance(other, Band)\n",
    "        n = self.name == other.name\n",
    "\n",
    "        # # members must be compared 'both ways', because the two tuples can be of different length\n",
    "        # m_diff_1 = [x for x in self.members if x not in other.members]\n",
    "        # m_diff_2 = [x for x in other.members if x not in self.members]\n",
    "        # m = len(m_diff_1) == len(m_diff_2) == 0\n",
    "\n",
    "        # members must be compared 'both ways', because the two tuples can be of different length\n",
    "        m = all([x in self.members for x in other.members]) and all([x in other.members for x in self.members])\n",
    "\n",
    "        y = (self.start == other.start) and (self.end == other.end)\n",
    "        return t and n and m and y\n",
    "\n",
    "    @staticmethod\n",
    "    def is_date_valid(d):\n",
    "        \"\"\"It is assumed that a band does not perform together since more than ~60 years ago.\n",
    "        So, the valid date to denote the start of a band's career is between Jan 01, 1960, and today.\n",
    "        \"\"\"\n",
    "\n",
    "        return date(1954, 7, 5) <= d <= date.today() if isinstance(d, date) else False\n",
    "\n",
    "    def __iter__(self):\n",
    "        \"\"\"Once __iter__() and __next__() are implemented in a class,\n",
    "        we can create an iterator object by calling the iter() built-in function on an object of the class,\n",
    "        and then call the next() built-in function on that object.\n",
    "        It is often sufficient to just return self in __iter__(),\n",
    "        if the iterator counter such as self.__i is introduced and initialized in __init__().\n",
    "        Alternatively, the iterator counter (self.__i) is introduced and initialized here.\n",
    "        \"\"\"\n",
    "\n",
    "        self.__i = 0\n",
    "        return self               # sufficient if the iterator counter is introduced and initialized in __init__()\n",
    "\n",
    "    def __next__(self):\n",
    "        if self.__i < len(self.members):\n",
    "            next_m = self.members[self.__i]\n",
    "            self.__i += 1\n",
    "            return next_m\n",
    "        else:\n",
    "            raise StopIteration"
   ],
   "metadata": {
    "collapsed": false
   }
  },
  {
   "cell_type": "markdown",
   "source": [
    "#### The basic methods\n",
    "Check the basic methods (`__init__()`, `__str__()`,...) of the `Band` class."
   ],
   "metadata": {
    "collapsed": false
   }
  },
  {
   "cell_type": "code",
   "execution_count": 7,
   "outputs": [
    {
     "ename": "NameError",
     "evalue": "name 'johnLennon' is not defined",
     "output_type": "error",
     "traceback": [
      "\u001B[1;31m---------------------------------------------------------------------------\u001B[0m",
      "\u001B[1;31mNameError\u001B[0m                                 Traceback (most recent call last)",
      "Input \u001B[1;32mIn [7]\u001B[0m, in \u001B[0;36m<cell line: 1>\u001B[1;34m()\u001B[0m\n\u001B[1;32m----> 1\u001B[0m theBeatles \u001B[38;5;241m=\u001B[39m Band(\u001B[38;5;124m'\u001B[39m\u001B[38;5;124mThe Beatles\u001B[39m\u001B[38;5;124m'\u001B[39m, \u001B[38;5;241m*\u001B[39m[\u001B[43mjohnLennon\u001B[49m, paulMcCartney, georgeHarrison, ringoStarr, ],\n\u001B[0;32m      2\u001B[0m                   start\u001B[38;5;241m=\u001B[39mdate(\u001B[38;5;241m1957\u001B[39m, \u001B[38;5;241m7\u001B[39m, \u001B[38;5;241m6\u001B[39m), end\u001B[38;5;241m=\u001B[39mdate(\u001B[38;5;241m1970\u001B[39m, \u001B[38;5;241m4\u001B[39m, \u001B[38;5;241m10\u001B[39m))\n\u001B[0;32m      3\u001B[0m \u001B[38;5;28mprint\u001B[39m(theBeatles)\n\u001B[0;32m      4\u001B[0m beatles \u001B[38;5;241m=\u001B[39m Band(\u001B[38;5;124m'\u001B[39m\u001B[38;5;124mThe Beatles\u001B[39m\u001B[38;5;124m'\u001B[39m, \u001B[38;5;241m*\u001B[39m[johnLennon, georgeHarrison, paulMcCartney, ringoStarr, Musician(\u001B[38;5;124m'\u001B[39m\u001B[38;5;124mPete Best\u001B[39m\u001B[38;5;124m'\u001B[39m)],\n\u001B[0;32m      5\u001B[0m                start\u001B[38;5;241m=\u001B[39mdate(\u001B[38;5;241m1957\u001B[39m, \u001B[38;5;241m7\u001B[39m, \u001B[38;5;241m6\u001B[39m), end\u001B[38;5;241m=\u001B[39mdate(\u001B[38;5;241m1970\u001B[39m, \u001B[38;5;241m4\u001B[39m, \u001B[38;5;241m10\u001B[39m))\n",
      "\u001B[1;31mNameError\u001B[0m: name 'johnLennon' is not defined"
     ]
    }
   ],
   "source": [
    "theBeatles = Band('The Beatles', *[johnLennon, paulMcCartney, georgeHarrison, ringoStarr, ],\n",
    "                  start=date(1957, 7, 6), end=date(1970, 4, 10))\n",
    "print(theBeatles)\n",
    "beatles = Band('The Beatles', *[johnLennon, georgeHarrison, paulMcCartney, ringoStarr, Musician('Pete Best')],\n",
    "               start=date(1957, 7, 6), end=date(1970, 4, 10))\n",
    "print(theBeatles == beatles)"
   ],
   "metadata": {
    "collapsed": false
   }
  },
  {
   "cell_type": "markdown",
   "source": [
    "#### Class variables\n",
    "Python class variables are much like `static` fields in Java. They are typically defined and initialized before `__init__()`."
   ],
   "metadata": {
    "collapsed": false
   }
  },
  {
   "cell_type": "code",
   "execution_count": null,
   "outputs": [],
   "source": [
    "print(Band.genres)"
   ],
   "metadata": {
    "collapsed": false
   }
  },
  {
   "cell_type": "markdown",
   "source": [
    "#### Class methods\n",
    "Check the date validator (the `@staticmethod` `is_date_valid(<date>)`)."
   ],
   "metadata": {
    "collapsed": false
   }
  },
  {
   "cell_type": "code",
   "execution_count": null,
   "outputs": [],
   "source": [
    "print(Band.is_date_valid(date(1957, 7, 6)))"
   ],
   "metadata": {
    "collapsed": false
   }
  },
  {
   "cell_type": "markdown",
   "source": [
    "#### Iterators\n",
    "Check the iterator defined in the `Band` class. After the iterator is exhausted, repeated attempts to run the iterator fail before the iterator is re-initialized."
   ],
   "metadata": {
    "collapsed": false
   }
  },
  {
   "cell_type": "code",
   "execution_count": null,
   "outputs": [],
   "source": [
    "for _ in range(len(theBeatles.members)):\n",
    "    print(theBeatles.__next__().name)\n",
    "# print(theBeatles.__next__().name)             # iterator exhausted, must be re-initiated\n",
    "print()\n",
    "\n",
    "# i = iter(theBeatles)\n",
    "# print(i)\n",
    "i = iter(theBeatles)                            # re-initiating the iterator\n",
    "for _ in range(len(theBeatles.members)):\n",
    "    print(next(theBeatles))\n",
    "print()\n",
    "\n",
    "# # Alternatively\n",
    "# theBeatles.__iter__()\n",
    "# for _ in range(len(theBeatles.members)):\n",
    "#     print(theBeatles.__next__().name)\n",
    "# print()\n",
    "\n",
    "# Repeated attempt to run the iterator fails, because the iterator is exhausted"
   ],
   "metadata": {
    "collapsed": false
   }
  },
  {
   "cell_type": "markdown",
   "source": [
    "#### Generators\n",
    "Develop a simple generator to demonstrate generator objects and the `yield` command."
   ],
   "metadata": {
    "collapsed": false
   }
  },
  {
   "cell_type": "code",
   "execution_count": null,
   "outputs": [],
   "source": [
    "def next_member(band):\n",
    "    \"\"\"Generator that shows members of a band, one at a time.\n",
    "    yield produces a generator object, on which we call the next() built-in function.\n",
    "    A great tutorial on generators: https://realpython.com/introduction-to-python-generators/.\n",
    "    \"\"\"\n",
    "\n",
    "    for member in band.members:\n",
    "        input('Next: ')\n",
    "        yield member\n",
    "        print('Yeah!')"
   ],
   "metadata": {
    "collapsed": false
   }
  },
  {
   "cell_type": "code",
   "execution_count": null,
   "outputs": [],
   "source": [
    "member_generator = next_member(theBeatles)\n",
    "print(member_generator)\n",
    "print(type(member_generator))\n",
    "print()\n",
    "\n",
    "while True:\n",
    "    try:\n",
    "        print(next(member_generator))\n",
    "    except:\n",
    "        break"
   ],
   "metadata": {
    "collapsed": false
   }
  },
  {
   "cell_type": "markdown",
   "source": [
    "#### Generator expressions"
   ],
   "metadata": {
    "collapsed": false
   }
  },
  {
   "cell_type": "code",
   "execution_count": null,
   "outputs": [],
   "source": [
    "print(i**2 for i in range(4))\n",
    "print(next((i**2 for i in range(4))))\n",
    "print(next((i**2 for i in range(4))))\n",
    "ge = (i**2 for i in range(4))\n",
    "print(ge)\n",
    "print(next(ge))     # 0\n",
    "print(next(ge))     # 1\n",
    "print(next(ge))     # 4\n",
    "print(next(ge))     # 9\n",
    "print(next(ge))     # raises StopIteration"
   ],
   "metadata": {
    "collapsed": false
   }
  },
  {
   "cell_type": "markdown",
   "source": [
    "## JSON\n",
    "The traditional way to work with JSON would be something like the following class and functions:"
   ],
   "metadata": {
    "collapsed": false
   }
  },
  {
   "cell_type": "code",
   "execution_count": null,
   "outputs": [],
   "source": [
    "class BandEncoder(json.JSONEncoder):\n",
    "    \"\"\"JSON encoder for Band objects (cls= parameter in json.dumps()).\n",
    "    \"\"\"\n",
    "\n",
    "    def default(self, band):\n",
    "        # recommendation: always use double quotes with JSON\n",
    "\n",
    "        pass\n",
    "\n",
    "\n",
    "def band_py_to_json(band):\n",
    "    \"\"\"JSON encoder for Band objects (default= parameter in json.dumps()).\n",
    "    \"\"\"\n",
    "\n",
    "\n",
    "def band_json_to_py(band_json):\n",
    "    \"\"\"JSON decoder for Band objects (object_hook= parameter in json.loads()).\n",
    "    \"\"\""
   ],
   "metadata": {
    "collapsed": false
   }
  },
  {
   "cell_type": "markdown",
   "source": [
    "Demonstrate JSON encoding/decoding of simple data types.\n",
    "Refer to [this section in the Standard Library](https://docs.python.org/3.3/library/json.html#encoders-and-decoders) for details."
   ],
   "metadata": {
    "collapsed": false
   }
  },
  {
   "cell_type": "code",
   "execution_count": null,
   "outputs": [],
   "source": [
    "d = json.dumps({'one': [1, True, 'Uno'], 'two': (2, 3, 4)}, indent=4)\n",
    "print(d)\n",
    "l = json.loads(d)\n",
    "print(l)"
   ],
   "metadata": {
    "collapsed": false
   }
  },
  {
   "cell_type": "markdown",
   "source": [
    "It is much more complicated with classes, objects, dates, etc. However, with the `json_tricks` module (from the external `json-tricks` library) the things are largely simplified.\n",
    "\n",
    "From the [json-tricks external package](https://github.com/mverleg/pyjson_tricks) documentation:\n",
    "\n",
    "The JSON string resulting from applying the `json_tricks.dumps()` function stores the module and class name. The class must be importable from the same module when decoding (and should not have changed). If it isn't, you have to manually provide a dictionary to `cls_lookup_map` when loading in which the class name can be looked up. Note that if the class is imported, then `globals()` is such a dictionary (so try `loads(json, cls_lookup_map=glboals()))`.\n",
    "\n",
    "Also note that if the class is defined in the 'top' script (that you're calling directly), then this isn't a module and the import part cannot be extracted. Only the class name will be stored; it can then only be deserialized in the same script, or if you provide `cls_lookup_map`.\n",
    "\n",
    "That's why the following warning appears when serializing Band objects in this script:\n",
    "\n",
    "UserWarning: class <class '__main__.Musician'> seems to have been defined in the main file;\n",
    "unfortunately this means that it's module/import path is unknown,\n",
    "so you might have to provide cls_lookup_map when decoding.\n"
   ],
   "metadata": {
    "collapsed": false
   }
  },
  {
   "cell_type": "markdown",
   "source": [
    "JSON encoding of `Musician` objects using `json_tricks`:"
   ],
   "metadata": {
    "collapsed": false
   }
  },
  {
   "cell_type": "code",
   "execution_count": null,
   "outputs": [],
   "source": [
    "from json_tricks import loads, dumps"
   ],
   "metadata": {
    "collapsed": false
   }
  },
  {
   "cell_type": "code",
   "execution_count": null,
   "outputs": [],
   "source": [
    "# Single object\n",
    "theBeatles = Band('The Beatles', *[johnLennon, paulMcCartney, georgeHarrison, ringoStarr, ],\n",
    "                  start=date(1957, 7, 6), end=date(1970, 4, 10))\n",
    "theBeatles_json = dumps(theBeatles, indent=4)\n",
    "print(theBeatles_json)\n",
    "print(theBeatles == loads(theBeatles_json))"
   ],
   "metadata": {
    "collapsed": false
   }
  },
  {
   "cell_type": "code",
   "execution_count": null,
   "outputs": [],
   "source": [
    "# List of objects\n",
    "theBeatles = Band('The Beatles', *[johnLennon, paulMcCartney, georgeHarrison, ringoStarr],\n",
    "                  start=date(1957, 7, 6), end=date(1970, 4, 10))\n",
    "theRollingStones = Band('The Rolling Stones', *[mickJagger, keithRichards, ronWood, charlieWatts],\n",
    "                        start=date(1962, 7, 12))\n",
    "pinkFloyd = Band('Pink Floyd', *[sydBarrett, davidGilmour, rogerWaters, nickMason, rickWright])\n",
    "\n",
    "bands_json = dumps([theBeatles, theRollingStones, pinkFloyd], indent=4)\n",
    "print(bands_json)\n",
    "print([theBeatles, theRollingStones, pinkFloyd] == loads(bands_json))"
   ],
   "metadata": {
    "collapsed": false
   }
  },
  {
   "cell_type": "markdown",
   "source": [
    "# Exception handling\n",
    "Base class:"
   ],
   "metadata": {
    "collapsed": false
   }
  },
  {
   "cell_type": "code",
   "execution_count": null,
   "outputs": [],
   "source": [
    "class BandError(Exception):\n",
    "    \"\"\"Base class for exceptions in this module.\n",
    "    \"\"\"\n",
    "\n",
    "    pass"
   ],
   "metadata": {
    "collapsed": false
   }
  },
  {
   "cell_type": "markdown",
   "source": [
    "A simple user-defined exception:"
   ],
   "metadata": {
    "collapsed": false
   }
  },
  {
   "cell_type": "code",
   "execution_count": null,
   "outputs": [],
   "source": [
    "class BandNameError(BandError):\n",
    "    \"\"\"Exception raised when the name of a band is specified incorrectly.\n",
    "    \"\"\"\n",
    "\n",
    "    def __init__(self, name):\n",
    "        self.name = name\n",
    "        self.message = f'BandNameError: \\'{self.name}\\' is not a valid band name'"
   ],
   "metadata": {
    "collapsed": false
   }
  },
  {
   "cell_type": "markdown",
   "source": [
    "#### Catching exceptions - *try-except* block"
   ],
   "metadata": {
    "collapsed": false
   }
  },
  {
   "cell_type": "code",
   "execution_count": null,
   "outputs": [],
   "source": [
    "theBeatles = Band('The Beatles', *[johnLennon, paulMcCartney, georgeHarrison, ringoStarr, ],\n",
    "                  start=date(1957, 7, 6), end=date(1970, 4, 10))\n",
    "try:\n",
    "    for i in range(5):\n",
    "        print(theBeatles.members[i])\n",
    "except Exception as err:\n",
    "    print()\n",
    "    # print(err)\n",
    "    # sys.stderr.write('\\n' + str(type(err)) + ': ' + err.args[0] + '\\n')\n",
    "    sys.stderr.write(f'\\n{type(err).__name__}: {err.args[0]}\\n\\n')"
   ],
   "metadata": {
    "collapsed": false
   }
  },
  {
   "cell_type": "markdown",
   "source": [
    "#### Catching multiple exceptions and the *finally* clause"
   ],
   "metadata": {
    "collapsed": false
   }
  },
  {
   "cell_type": "code",
   "execution_count": null,
   "outputs": [],
   "source": [
    "# Catching multiple exceptions and the 'finally' clause\n",
    "theBeatles = Band('The Beatles', *[johnLennon, paulMcCartney, georgeHarrison, ringoStarr, ],\n",
    "                  start=date(1957, 7, 6), end=date(1970, 4, 10))\n",
    "try:\n",
    "    for i in range(4):\n",
    "        print(theBeatles.members[i])\n",
    "    print(theBeatles / 4)\n",
    "except IndexError as err:\n",
    "    print()\n",
    "    sys.stderr.write(f'\\n{type(err).__name__}: {err.args[0]}\\n\\n')\n",
    "except Exception as err:\n",
    "    print()\n",
    "    sys.stderr.write(f'\\nCaught an exception: {type(err).__name__}: {err.args[0]}\\n\\n')\n",
    "finally:\n",
    "    print('Caught an exception. Stopped any further processing.')"
   ],
   "metadata": {
    "collapsed": false
   }
  },
  {
   "cell_type": "markdown",
   "source": [
    "#### Using the *else* clause\n",
    "If present in the `try-except` block, the `else` clause must be after all `except` clauses."
   ],
   "metadata": {
    "collapsed": false
   }
  },
  {
   "cell_type": "code",
   "execution_count": null,
   "outputs": [],
   "source": [
    "theBeatles = Band('The Beatles', *[johnLennon, paulMcCartney, georgeHarrison, ringoStarr, ],\n",
    "                  start=date(1957, 7, 6), end=date(1970, 4, 10))\n",
    "try:\n",
    "    for i in range(4):\n",
    "        print(theBeatles.members[i])\n",
    "except IndexError as err:\n",
    "    print()\n",
    "    sys.stderr.write(f'\\n{type(err).__name__}: {err.args[0]}\\n\\n')\n",
    "else:\n",
    "    print(f'\\nThat\\'s all.')"
   ],
   "metadata": {
    "collapsed": false
   }
  },
  {
   "cell_type": "markdown",
   "source": [],
   "metadata": {
    "collapsed": false
   }
  },
  {
   "cell_type": "markdown",
   "source": [
    "#### Catching 'any' exception\n",
    "An empty `except` clause catches any exception that can possibly be raised in the `try` block."
   ],
   "metadata": {
    "collapsed": false
   }
  },
  {
   "cell_type": "code",
   "execution_count": null,
   "outputs": [],
   "source": [
    "theBeatles = Band('The Beatles', *[johnLennon, paulMcCartney, georgeHarrison, ringoStarr, ],\n",
    "                  start=date(1957, 7, 6), end=date(1970, 4, 10))\n",
    "try:\n",
    "    for i in range(5):\n",
    "        print(theBeatles.members[i])\n",
    "except:\n",
    "    print()\n",
    "    sys.stderr.write(f'\\nCaught an exception\\n\\n')"
   ],
   "metadata": {
    "collapsed": false
   }
  },
  {
   "cell_type": "markdown",
   "source": [
    "#### Catching user-defined exceptions"
   ],
   "metadata": {
    "collapsed": false
   }
  },
  {
   "cell_type": "code",
   "execution_count": null,
   "outputs": [],
   "source": [
    "theBeatles = Band('The Beatles', *[johnLennon, paulMcCartney, georgeHarrison, ringoStarr, ],\n",
    "                  start=date(1957, 7, 6), end=date(1970, 4, 10))\n",
    "try:\n",
    "    band = Band('')\n",
    "except Exception as err:\n",
    "    print()\n",
    "    #     sys.stderr.write(f'\\n{type(err).__name__}: {err.args[0]}\\n\\n')\n",
    "    # sys.stderr.write(f'\\n{type(err).__name__}:\\n{err.message}\\n\\n')\n",
    "    sys.stderr.write(f'\\n{err.message}\\n\\n')"
   ],
   "metadata": {
    "collapsed": false
   }
  },
  {
   "cell_type": "markdown",
   "source": [
    "# Working with files\n",
    "For some reasons, `get_project_dir()` and `get_data_dir()` from `util.utility` return `None` when called from here. Thus `DATA_DIR` is imported from *settings.py* and used here."
   ],
   "metadata": {
    "collapsed": false
   }
  },
  {
   "cell_type": "markdown",
   "source": [
    "#### Writing to a text file\n",
    "`<outfile>.write(str(<obj>)`, `<outfile>.writelines([str(<obj>)+'\\n' for <obj> in <objs>]`"
   ],
   "metadata": {
    "collapsed": false
   }
  },
  {
   "cell_type": "code",
   "execution_count": null,
   "outputs": [],
   "source": [
    "theBeatles = Band('The Beatles', *[johnLennon, paulMcCartney, georgeHarrison, ringoStarr],\n",
    "                      start=date(1957, 7, 6), end=date(1970, 4, 10))\n",
    "theRollingStones = Band('The Rolling Stones', *[mickJagger, keithRichards, ronWood, charlieWatts],\n",
    "                        start=date(1962, 7, 12))\n",
    "pinkFloyd = Band('Pink Floyd', *[sydBarrett, davidGilmour, rogerWaters, nickMason, rickWright])\n",
    "bands = [theBeatles, theRollingStones, pinkFloyd]"
   ],
   "metadata": {
    "collapsed": false
   }
  },
  {
   "cell_type": "code",
   "execution_count": null,
   "outputs": [],
   "source": [
    "# print(type(get_data_dir()))                 # get_data_dir() returns None for some reasons and is not used here\n",
    "file = DATA_DIR / 'bands.txt'\n",
    "with open(file, 'w') as f:\n",
    "    # for b in bands:\n",
    "    #     f.write(str(b) + '\\n')\n",
    "    f.writelines([str(b) + '\\n' for b in bands])\n",
    "print('Done')"
   ],
   "metadata": {
    "collapsed": false
   }
  },
  {
   "cell_type": "markdown",
   "source": [
    "#### Reading from a text file\n",
    "`<infile>.read()`, `<infile>.readline()`"
   ],
   "metadata": {
    "collapsed": false
   }
  },
  {
   "cell_type": "code",
   "execution_count": null,
   "outputs": [],
   "source": [
    "# print(type(get_data_dir()))                 # get_data_dir() returns None for some reasons and is not used here\n",
    "file = DATA_DIR / 'bands.txt'\n",
    "with open(file, 'r') as f:\n",
    "    # lines = f.read().rstrip()             # rstrip() removes an extra '\\n' in the end\n",
    "    lines = ''\n",
    "    while True:\n",
    "        line = f.readline()\n",
    "        if line:\n",
    "            lines += line\n",
    "        else:\n",
    "            break\n",
    "print(lines.rstrip())                       # rstrip() removes an extra '\\n' in the end\n",
    "print('Done')"
   ],
   "metadata": {
    "collapsed": false
   }
  },
  {
   "cell_type": "markdown",
   "source": [
    "#### Writing to a binary file\n",
    "`pickle.dump(<obj>, <outfile>)`\n"
   ],
   "metadata": {
    "collapsed": false
   }
  },
  {
   "cell_type": "code",
   "execution_count": null,
   "outputs": [],
   "source": [
    "# print(type(get_data_dir()))                 # get_data_dir() returns None for some reasons and is not used here\n",
    "file = DATA_DIR / 'bands.txt'\n",
    "bands = [theBeatles, theRollingStones, pinkFloyd]\n",
    "with open(file, 'wb') as f:\n",
    "    pickle.dump(bands, f)\n",
    "print('Done')"
   ],
   "metadata": {
    "collapsed": false
   }
  },
  {
   "cell_type": "markdown",
   "source": [
    "#### Reading from a binary file\n",
    "`pickle.load(<infile>)`"
   ],
   "metadata": {
    "collapsed": false
   }
  },
  {
   "cell_type": "code",
   "execution_count": null,
   "outputs": [],
   "source": [
    "# print(type(get_data_dir()))                 # get_data_dir() returns None for some reasons and is not used here\n",
    "file = DATA_DIR / 'bands.txt'\n",
    "with open(file, 'rb') as f:\n",
    "    bands_from_file = pickle.load(f)\n",
    "print('Done')\n",
    "for band in bands_from_file:\n",
    "    print(band)"
   ],
   "metadata": {
    "collapsed": false
   }
  }
 ],
 "metadata": {
  "kernelspec": {
   "display_name": "Python 3",
   "language": "python",
   "name": "python3"
  },
  "language_info": {
   "codemirror_mode": {
    "name": "ipython",
    "version": 2
   },
   "file_extension": ".py",
   "mimetype": "text/x-python",
   "name": "python",
   "nbconvert_exporter": "python",
   "pygments_lexer": "ipython2",
   "version": "2.7.6"
  }
 },
 "nbformat": 4,
 "nbformat_minor": 0
}
