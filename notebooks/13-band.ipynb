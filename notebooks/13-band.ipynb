{
 "cells": [
  {
   "cell_type": "markdown",
   "source": [
    "# Band\n",
    "The notebook created after the *band* module.\n",
    "\n",
    "Demonstrates domain classes, methods and functions related to the concept of musical band, as well as the mandatory `__init__()`, `__str__()` and `__eq__()` methods. The `__eq__()` method notes the problem of comparing unhashable objects.\n",
    "\n",
    "Introduces static fields/attributes and static methods (`@staticmethod`).\n",
    "\n",
    "Illustrates iterators and generators.\n",
    "\n",
    "Shows how to serialize `Band` objects to JSON."
   ],
   "metadata": {
    "collapsed": false,
    "pycharm": {
     "name": "#%% md\n"
    }
   }
  },
  {
   "cell_type": "markdown",
   "source": [
    "## Setup / Data"
   ],
   "metadata": {
    "collapsed": false,
    "pycharm": {
     "name": "#%% md\n"
    }
   }
  },
  {
   "cell_type": "code",
   "execution_count": null,
   "outputs": [],
   "source": [
    "from datetime import date, datetime, time\n",
    "import json\n",
    "\n",
    "from music.musician import Musician\n",
    "from util.utility import format_date\n",
    "\n",
    "from testdata.musicians import *"
   ],
   "metadata": {
    "collapsed": false,
    "pycharm": {
     "name": "#%%\n"
    }
   }
  },
  {
   "cell_type": "markdown",
   "source": [
    "## The *Band* class\n",
    "The class describing the concept of musical band. It is assumed that a musician is sufficiently described by their name and whether they are a solo musician or a member of a band. It includes a list of `Musician` objects (band members) and the dates when the band started/stopped performing together.\n",
    "\n",
    "Introduces `@staticmethod`s, iterators (the `__iter__()` and `__next__()` methods) and generators. Implicitly introduces exception handling as well (in demonstrating iterators and generators)."
   ],
   "metadata": {
    "collapsed": false,
    "pycharm": {
     "name": "#%% md\n"
    }
   }
  },
  {
   "cell_type": "code",
   "execution_count": null,
   "outputs": [],
   "source": [
    "class Band():\n",
    "    \"\"\"The class describing the concept of a music group/band.\n",
    "    It includes a list of Musician objects (band members)\n",
    "    and the dates when the band started/stopped performing together.\n",
    "    \"\"\"\n",
    "\n",
    "    # Class variables: like static fields in Java; typically defined and initialized before __init__()\n",
    "    # Insert a class variable (static field), such as genres, date_pattern,...\n",
    "\n",
    "    genres = ['rock', 'blues', 'pop', 'alternative', 'unknown']\n",
    "\n",
    "    def __init__(self, name, *members, start=date.today(), end=date.today()):\n",
    "        # pass                                            # introduce and initialize iterator counter, self.__i\n",
    "        self.name = name\n",
    "        self.members = members\n",
    "        self.start = start\n",
    "        self.end = end\n",
    "        self.__i = 0\n",
    "\n",
    "    def __str__(self):\n",
    "        n = self.name\n",
    "        m = f'({\", \".join([member.name for member in self.members]) if self.members else \"members unknown\"})'\n",
    "        s = self.start.year\n",
    "        e = self.end.year\n",
    "        return f'{n} {m}, {s}-{e}'\n",
    "\n",
    "    def __eq__(self, other):\n",
    "        # Musician objects are unhashable, so comparing the members tuples from self and other directly does not work;\n",
    "        # see https://stackoverflow.com/a/14721133/1899061, https://stackoverflow.com/a/17236824/1899061\n",
    "        # return self == other if isinstance(other, Band) else False    # No! Musician objects are unhashable!\n",
    "\n",
    "        t = isinstance(other, Band)\n",
    "        n = self.name == other.name\n",
    "\n",
    "        # # members must be compared 'both ways', because the two tuples can be of different length\n",
    "        # m_diff_1 = [x for x in self.members if x not in other.members]\n",
    "        # m_diff_2 = [x for x in other.members if x not in self.members]\n",
    "        # m = len(m_diff_1) == len(m_diff_2) == 0\n",
    "\n",
    "        # members must be compared 'both ways', because the two tuples can be of different length\n",
    "        m = all([x in self.members for x in other.members]) and all([x in other.members for x in self.members])\n",
    "\n",
    "        y = (self.start == other.start) and (self.end == other.end)\n",
    "        return t and n and m and y\n",
    "\n",
    "    @staticmethod\n",
    "    def is_date_valid(d):\n",
    "        \"\"\"It is assumed that a band does not perform together since more than ~60 years ago.\n",
    "        So, the valid date to denote the start of a band's career is between Jan 01, 1960, and today.\n",
    "        \"\"\"\n",
    "\n",
    "        return date(1954, 7, 5) <= d <= date.today() if isinstance(d, date) else False\n",
    "\n",
    "    def __iter__(self):\n",
    "        \"\"\"Once __iter__() and __next__() are implemented in a class,\n",
    "        we can create an iterator object by calling the iter() built-in function on an object of the class,\n",
    "        and then call the next() built-in function on that object.\n",
    "        It is often sufficient to just return self in __iter__(),\n",
    "        if the iterator counter such as self.__i is introduced and initialized in __init__().\n",
    "        Alternatively, the iterator counter (self.__i) is introduced and initialized here.\n",
    "        \"\"\"\n",
    "\n",
    "        self.__i = 0\n",
    "        return self               # sufficient if the iterator counter is introduced and initialized in __init__()\n",
    "\n",
    "    def __next__(self):\n",
    "        if self.__i < len(self.members):\n",
    "            next_m = self.members[self.__i]\n",
    "            self.__i += 1\n",
    "            return next_m\n",
    "        else:\n",
    "            raise StopIteration"
   ],
   "metadata": {
    "collapsed": false,
    "pycharm": {
     "name": "#%%\n"
    }
   }
  },
  {
   "cell_type": "markdown",
   "source": [
    "#### The basic methods\n",
    "Check the basic methods (`__init__()`, `__str__()`,...) of the `Band` class."
   ],
   "metadata": {
    "collapsed": false,
    "pycharm": {
     "name": "#%% md\n"
    }
   }
  },
  {
   "cell_type": "code",
   "execution_count": null,
   "outputs": [],
   "source": [
    "theBeatles = Band('The Beatles', *[johnLennon, paulMcCartney, georgeHarrison, ringoStarr, ],\n",
    "                  start=date(1957, 7, 6), end=date(1970, 4, 10))\n",
    "print(theBeatles)\n",
    "beatles = Band('The Beatles', *[johnLennon, georgeHarrison, paulMcCartney, ringoStarr, Musician('Pete Best')],\n",
    "               start=date(1957, 7, 6), end=date(1970, 4, 10))\n",
    "print(theBeatles == beatles)"
   ],
   "metadata": {
    "collapsed": false,
    "pycharm": {
     "name": "#%%\n"
    }
   }
  },
  {
   "cell_type": "markdown",
   "source": [
    "#### Class variables\n",
    "Python class variables are much like `static` fields in Java. They are typically defined and initialized before `__init__()`."
   ],
   "metadata": {
    "collapsed": false,
    "pycharm": {
     "name": "#%% md\n"
    }
   }
  },
  {
   "cell_type": "code",
   "execution_count": null,
   "outputs": [],
   "source": [
    "print(Band.genres)"
   ],
   "metadata": {
    "collapsed": false,
    "pycharm": {
     "name": "#%%\n"
    }
   }
  },
  {
   "cell_type": "markdown",
   "source": [
    "#### Class methods\n",
    "Check the date validator (the `@staticmethod` `is_date_valid(<date>)`)."
   ],
   "metadata": {
    "collapsed": false,
    "pycharm": {
     "name": "#%% md\n"
    }
   }
  },
  {
   "cell_type": "code",
   "execution_count": null,
   "outputs": [],
   "source": [
    "print(Band.is_date_valid(date(1957, 7, 6)))"
   ],
   "metadata": {
    "collapsed": false,
    "pycharm": {
     "name": "#%%\n"
    }
   }
  },
  {
   "cell_type": "markdown",
   "source": [
    "#### Iterators\n",
    "Check the iterator defined in the `Band` class. After the iterator is exhausted, repeated attempts to run the iterator fail before the iterator is re-initialized."
   ],
   "metadata": {
    "collapsed": false,
    "pycharm": {
     "name": "#%% md\n"
    }
   }
  },
  {
   "cell_type": "code",
   "execution_count": null,
   "outputs": [],
   "source": [
    "for _ in range(len(theBeatles.members)):\n",
    "    print(theBeatles.__next__().name)\n",
    "# print(theBeatles.__next__().name)             # iterator exhausted, must be re-initiated\n",
    "print()\n",
    "\n",
    "# i = iter(theBeatles)\n",
    "# print(i)\n",
    "i = iter(theBeatles)                            # re-initiating the iterator\n",
    "for _ in range(len(theBeatles.members)):\n",
    "    print(next(theBeatles))\n",
    "print()\n",
    "\n",
    "# # Alternatively\n",
    "# theBeatles.__iter__()\n",
    "# for _ in range(len(theBeatles.members)):\n",
    "#     print(theBeatles.__next__().name)\n",
    "# print()\n",
    "\n",
    "# Repeated attempt to run the iterator fails, because the iterator is exhausted"
   ],
   "metadata": {
    "collapsed": false,
    "pycharm": {
     "name": "#%%\n"
    }
   }
  },
  {
   "cell_type": "markdown",
   "source": [
    "#### Generators\n",
    "Develop a simple generator to demonstrate generator objects and the `yield` command."
   ],
   "metadata": {
    "collapsed": false,
    "pycharm": {
     "name": "#%% md\n"
    }
   }
  },
  {
   "cell_type": "code",
   "execution_count": null,
   "outputs": [],
   "source": [
    "def next_member(band):\n",
    "    \"\"\"Generator that shows members of a band, one at a time.\n",
    "    yield produces a generator object, on which we call the next() built-in function.\n",
    "    A great tutorial on generators: https://realpython.com/introduction-to-python-generators/.\n",
    "    \"\"\"\n",
    "\n",
    "    for member in band.members:\n",
    "        input('Next: ')\n",
    "        yield member\n",
    "        print('Yeah!')"
   ],
   "metadata": {
    "collapsed": false,
    "pycharm": {
     "name": "#%%\n"
    }
   }
  },
  {
   "cell_type": "code",
   "execution_count": null,
   "outputs": [],
   "source": [
    "member_generator = next_member(theBeatles)\n",
    "print(member_generator)\n",
    "print(type(member_generator))\n",
    "print()\n",
    "\n",
    "while True:\n",
    "    try:\n",
    "        print(next(member_generator))\n",
    "    except:\n",
    "        break"
   ],
   "metadata": {
    "collapsed": false,
    "pycharm": {
     "name": "#%%\n"
    }
   }
  },
  {
   "cell_type": "markdown",
   "source": [
    "#### Generator expressions"
   ],
   "metadata": {
    "collapsed": false,
    "pycharm": {
     "name": "#%% md\n"
    }
   }
  },
  {
   "cell_type": "code",
   "execution_count": null,
   "outputs": [],
   "source": [
    "print(i**2 for i in range(4))\n",
    "print(next((i**2 for i in range(4))))\n",
    "print(next((i**2 for i in range(4))))\n",
    "ge = (i**2 for i in range(4))\n",
    "print(ge)\n",
    "print(next(ge))     # 0\n",
    "print(next(ge))     # 1\n",
    "print(next(ge))     # 4\n",
    "print(next(ge))     # 9\n",
    "print(next(ge))     # raises StopIteration"
   ],
   "metadata": {
    "collapsed": false,
    "pycharm": {
     "name": "#%%\n"
    }
   }
  },
  {
   "cell_type": "markdown",
   "source": [
    "## JSON"
   ],
   "metadata": {
    "collapsed": false,
    "pycharm": {
     "name": "#%% md\n"
    }
   }
  },
  {
   "cell_type": "code",
   "execution_count": null,
   "outputs": [],
   "source": [
    "class BandEncoder(json.JSONEncoder):\n",
    "    \"\"\"JSON encoder for Band objects (cls= parameter in json.dumps()).\n",
    "    \"\"\"\n",
    "\n",
    "    def default(self, band):\n",
    "        # recommendation: always use double quotes with JSON\n",
    "\n",
    "        pass\n",
    "\n",
    "\n",
    "def band_py_to_json(band):\n",
    "    \"\"\"JSON encoder for Band objects (default= parameter in json.dumps()).\n",
    "    \"\"\"\n",
    "\n",
    "\n",
    "def band_json_to_py(band_json):\n",
    "    \"\"\"JSON decoder for Band objects (object_hook= parameter in json.loads()).\n",
    "    \"\"\"\n",
    "\n",
    "#\n",
    "if __name__ == \"__main__\":\n",
    "\n",
    "    from testdata.musicians import *\n",
    "\n",
    "    # Demonstrate JSON encoding/decoding of Band objects\n",
    "    # Single object\n",
    "    print()\n",
    "\n",
    "    # List of objects\n",
    "    print()\n",
    "\n",
    "\n"
   ],
   "metadata": {
    "collapsed": false,
    "pycharm": {
     "name": "#%%\n"
    }
   }
  }
 ],
 "metadata": {
  "kernelspec": {
   "display_name": "Python 3",
   "language": "python",
   "name": "python3"
  },
  "language_info": {
   "codemirror_mode": {
    "name": "ipython",
    "version": 2
   },
   "file_extension": ".py",
   "mimetype": "text/x-python",
   "name": "python",
   "nbconvert_exporter": "python",
   "pygments_lexer": "ipython2",
   "version": "2.7.6"
  }
 },
 "nbformat": 4,
 "nbformat_minor": 0
}