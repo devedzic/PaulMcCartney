{
 "cells": [
  {
   "cell_type": "markdown",
   "source": [
    "# Strings\n",
    "The notebook created after the *strings* module.\n",
    "\n",
    "Demonstrates working with strings in Python."
   ],
   "metadata": {
    "collapsed": false,
    "pycharm": {
     "name": "#%% md\n"
    }
   }
  },
  {
   "cell_type": "markdown",
   "source": [
    "## Formatting\n",
    "Define a simple function to demonstrate details of string formatting."
   ],
   "metadata": {
    "collapsed": false,
    "pycharm": {
     "name": "#%% md\n"
    }
   }
  },
  {
   "cell_type": "code",
   "execution_count": null,
   "metadata": {
    "collapsed": true,
    "pycharm": {
     "name": "#%%\n"
    }
   },
   "outputs": [],
   "source": [
    "def demonstrate_formatting():\n",
    "    \"\"\"Demonstrating details of string formatting.\n",
    "    - using classical formatting\n",
    "    - \\n is the new line char\n",
    "    - r'...' - raw formatting\n",
    "    - using \\\"\\\"\\\"...\\\"\\\"\\\" for multi-line formatting\n",
    "    - string \"multiplication\"\n",
    "    - substrings / slicing\n",
    "    - str() vs. repr() (usually the same, but with whitespace there is a difference)\n",
    "    \"\"\"\n",
    "\n",
    "    print('Sir %s is %d now.' % ('Paul', 80))\n",
    "    print()\n",
    "\n",
    "    print('C:\\notebooks')\n",
    "    print()\n",
    "\n",
    "    print(r'C:\\notebooks')\n",
    "    print()\n",
    "\n",
    "    print(\"\"\"Paul\n",
    "    McCartney\"\"\")\n",
    "    print()\n",
    "\n",
    "    print('Paul McCartney\\t' * 3)\n",
    "    print()\n",
    "\n",
    "    print('Paul McCartney')\n",
    "    print('Paul McCartney'[5:])\n",
    "    print('Paul McCartney'[5:8])\n",
    "    print('Paul McCartney'[:8])\n",
    "    print('Paul McCartney'[5:-3])\n",
    "    print('Paul McCartney'[5:])\n",
    "    print('Paul McCartney'[-7:-3])\n",
    "    print()\n",
    "\n",
    "    print(str('Paul McCartney'))\n",
    "    print(repr('Paul McCartney'))\n",
    "    print(str('Paul McCartney\\t'))\n",
    "    print(repr('Paul McCartney\\t'))"
   ]
  },
  {
   "cell_type": "code",
   "execution_count": null,
   "outputs": [],
   "source": [
    "demonstrate_formatting()"
   ],
   "metadata": {
    "collapsed": false,
    "pycharm": {
     "name": "#%%\n"
    }
   }
  },
  {
   "cell_type": "markdown",
   "source": [
    "## \"Fancy\" formatting\n",
    "Define a simple function to demonstrate \"fancy\" formatting."
   ],
   "metadata": {
    "collapsed": false,
    "pycharm": {
     "name": "#%% md\n"
    }
   }
  },
  {
   "cell_type": "code",
   "execution_count": null,
   "outputs": [],
   "source": [
    "def demonstrate_fancy_formatting():\n",
    "    \"\"\"Using \"fancy\" formatting.\n",
    "    - format strings like '{0}{1} {2}', '{0}{1} {2}, {3}', etc.\n",
    "    \"\"\"\n",
    "\n",
    "    print('Sir {0} was born in {1} in {2}.'.format('Paul McCartney', 'Liverpool', 1942))"
   ],
   "metadata": {
    "collapsed": false,
    "pycharm": {
     "name": "#%%\n"
    }
   }
  },
  {
   "cell_type": "code",
   "execution_count": null,
   "outputs": [],
   "source": [
    "demonstrate_fancy_formatting()"
   ],
   "metadata": {
    "collapsed": false,
    "pycharm": {
     "name": "#%%\n"
    }
   }
  },
  {
   "cell_type": "markdown",
   "source": [
    "## \"Fancy\" formatting with f-strings\n",
    "Define a simple function to demonstrate \"fancy\" formatting with f-strings."
   ],
   "metadata": {
    "collapsed": false,
    "pycharm": {
     "name": "#%% md\n"
    }
   }
  },
  {
   "cell_type": "code",
   "execution_count": null,
   "outputs": [],
   "source": [
    "def demonstrate_fancy_formatting_with_f_strings():\n",
    "    \"\"\"Using f-strings in formatting.\n",
    "    - format strings like f'Some text {some var}, more text {another var}...', etc.\n",
    "    \"\"\"\n",
    "\n",
    "    name = 'Paul McCartney'\n",
    "    city = 'Liverpool'\n",
    "    year = 1942\n",
    "    print(f'Sir {name} was born in {city} in {year}.')"
   ],
   "metadata": {
    "collapsed": false,
    "pycharm": {
     "name": "#%%\n"
    }
   }
  },
  {
   "cell_type": "code",
   "execution_count": null,
   "outputs": [],
   "source": [
    "demonstrate_fancy_formatting_with_f_strings()"
   ],
   "metadata": {
    "collapsed": false,
    "pycharm": {
     "name": "#%%\n"
    }
   }
  },
  {
   "cell_type": "markdown",
   "source": [
    "## String operations\n",
    "Define a simple function to demonstrate different string operations."
   ],
   "metadata": {
    "collapsed": false,
    "pycharm": {
     "name": "#%% md\n"
    }
   }
  },
  {
   "cell_type": "code",
   "execution_count": null,
   "outputs": [],
   "source": [
    "def demonstrate_string_operations():\n",
    "    \"\"\"Using different string operations.\n",
    "    - endswith(), split(), center(), in (aka contains()), == (aka equals()), len(), ..., strip() (lstrip(), rstrip())\n",
    "    \"\"\"\n",
    "\n",
    "    from datetime import date\n",
    "    from util.utility import format_date\n",
    "    d = date(1957, 7, 6)\n",
    "\n",
    "    bigBang = f'Paul McCartney met John Lennon for the first time on {format_date(d)} in Woolton.'\n",
    "\n",
    "    print(bigBang.endswith('Woolton'))\n",
    "    print(bigBang.split())\n",
    "    print(bigBang.split('in '))\n",
    "    print(' Paul McCartney '.center(30, '*'))\n",
    "    print('John Lennon' in bigBang)\n",
    "    print(bigBang.split()[0] == 'Paul')\n",
    "    print(len(bigBang))\n",
    "    print('         Paul McCartney            '.strip())\n",
    "    print('         Paul McCartney            '.rstrip())"
   ],
   "metadata": {
    "collapsed": false,
    "pycharm": {
     "name": "#%%\n"
    }
   }
  },
  {
   "cell_type": "code",
   "execution_count": null,
   "outputs": [],
   "source": [
    "demonstrate_string_operations()"
   ],
   "metadata": {
    "collapsed": false,
    "pycharm": {
     "name": "#%%\n"
    }
   }
  }
 ],
 "metadata": {
  "kernelspec": {
   "display_name": "Python 3",
   "language": "python",
   "name": "python3"
  },
  "language_info": {
   "codemirror_mode": {
    "name": "ipython",
    "version": 2
   },
   "file_extension": ".py",
   "mimetype": "text/x-python",
   "name": "python",
   "nbconvert_exporter": "python",
   "pygments_lexer": "ipython2",
   "version": "2.7.6"
  }
 },
 "nbformat": 4,
 "nbformat_minor": 0
}