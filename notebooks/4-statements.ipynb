{
 "cells": [
  {
   "cell_type": "markdown",
   "source": [
    "# Statements\n",
    "The notebook created after the *statements* module.\n",
    "\n",
    "Demonstrates peculiarities of `if`, `for`, `while` and other statements."
   ],
   "metadata": {
    "collapsed": false,
    "pycharm": {
     "name": "#%% md\n"
    }
   }
  },
  {
   "cell_type": "markdown",
   "source": [
    "## Branching\n",
    "Define a simple function to demonstrate details and peculiarities of `if` statements."
   ],
   "metadata": {
    "collapsed": false,
    "pycharm": {
     "name": "#%% md\n"
    }
   }
  },
  {
   "cell_type": "code",
   "execution_count": null,
   "outputs": [],
   "source": [
    "def demonstrate_branching():\n",
    "    \"\"\"Details and peculiarities of if statements.\n",
    "    - is compares id()'s, == compares contents\n",
    "    - id()'s are the same for equal strings and numbers, but not for lists, user class instances,...\n",
    "    - the condition of an if-statement need not necessarily be a boolean\n",
    "    - there can be more than one elif after if (no switch statement, use multiple elif instead)\n",
    "    \"\"\"\n",
    "\n",
    "    i = [23, 23]\n",
    "    j = [23, 23]\n",
    "    if id(i) == id(j):\n",
    "        print(True)\n",
    "    else:\n",
    "        print(False)\n",
    "    print()\n",
    "\n",
    "    if 4:\n",
    "        print(True)\n",
    "    else:\n",
    "        print(False)\n",
    "    print()\n",
    "\n",
    "    n = 4\n",
    "    if n == 1:\n",
    "        print(1)\n",
    "    elif n == 2:\n",
    "        print(2)\n",
    "    elif n == 3:\n",
    "        print(3)\n",
    "    else:\n",
    "        print(None)"
   ],
   "metadata": {
    "collapsed": false,
    "pycharm": {
     "name": "#%%\n"
    }
   }
  },
  {
   "cell_type": "code",
   "execution_count": null,
   "outputs": [],
   "source": [
    "demonstrate_branching()"
   ],
   "metadata": {
    "collapsed": false,
    "pycharm": {
     "name": "#%%\n"
    }
   }
  },
  {
   "cell_type": "markdown",
   "source": [
    "## Loops\n",
    "Define a simple function to demonstrate different kinds of loops, as well as `break` and `continue` statements.."
   ],
   "metadata": {
    "collapsed": false,
    "pycharm": {
     "name": "#%% md\n"
    }
   }
  },
  {
   "cell_type": "code",
   "execution_count": null,
   "outputs": [],
   "source": [
    "def demonstrate_loops():\n",
    "    \"\"\"Different kinds of loops. Also break and continue.\n",
    "    - it is not necessary to iterate through all elements of an iterable\n",
    "    - step in range()\n",
    "    - unimportant counter (_)\n",
    "    - break and continue\n",
    "    - while loop\n",
    "    \"\"\"\n",
    "\n",
    "    l = [1, 2, 3, 4, 5, 6, 7, 8, 9, 0]\n",
    "    for i in l[2:-3]:\n",
    "        print(i)\n",
    "    print()\n",
    "\n",
    "    for i in range(1, 12, 2):\n",
    "        print(i)\n",
    "    print()\n",
    "\n",
    "    for _ in range(1, 12, 2):\n",
    "        print('Sir Paul')\n",
    "    print()"
   ],
   "metadata": {
    "collapsed": false,
    "pycharm": {
     "name": "#%%\n"
    }
   }
  },
  {
   "cell_type": "code",
   "execution_count": null,
   "outputs": [],
   "source": [
    "demonstrate_loops()"
   ],
   "metadata": {
    "collapsed": false,
    "pycharm": {
     "name": "#%%\n"
    }
   }
  }
 ],
 "metadata": {
  "kernelspec": {
   "display_name": "Python 3",
   "language": "python",
   "name": "python3"
  },
  "language_info": {
   "codemirror_mode": {
    "name": "ipython",
    "version": 2
   },
   "file_extension": ".py",
   "mimetype": "text/x-python",
   "name": "python",
   "nbconvert_exporter": "python",
   "pygments_lexer": "ipython2",
   "version": "2.7.6"
  }
 },
 "nbformat": 4,
 "nbformat_minor": 0
}