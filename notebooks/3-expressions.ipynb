{
 "cells": [
  {
   "cell_type": "markdown",
   "source": [
    "# Expressions\n",
    "The notebook created after the *expressions* module.\n",
    "\n",
    "Demonstrates how operators and expressions work in Python."
   ],
   "metadata": {
    "collapsed": false,
    "pycharm": {
     "name": "#%% md\n"
    }
   }
  },
  {
   "cell_type": "markdown",
   "source": [
    "## Import settings"
   ],
   "metadata": {
    "collapsed": false,
    "pycharm": {
     "name": "#%% md\n"
    }
   }
  },
  {
   "cell_type": "code",
   "execution_count": null,
   "metadata": {
    "collapsed": true,
    "pycharm": {
     "name": "#%%\n"
    }
   },
   "outputs": [],
   "source": [
    "from settings import *"
   ]
  },
  {
   "cell_type": "markdown",
   "source": [
    "## Arithmetic operators\n",
    "Define a simple function to demonstrate arithmetic operators."
   ],
   "metadata": {
    "collapsed": false,
    "pycharm": {
     "name": "#%% md\n"
    }
   }
  },
  {
   "cell_type": "code",
   "execution_count": null,
   "outputs": [],
   "source": [
    "def demonstrate_arithmetic_operators():\n",
    "    \"\"\"Working with arithmetic operators.\n",
    "    Arithmetic operators in Python are pretty much the same as in other programming languages.\n",
    "    The integer division operator: //\n",
    "    \"\"\"\n",
    "\n",
    "    print(23 // 5 + 13 % 7 - 2**3)"
   ],
   "metadata": {
    "collapsed": false,
    "pycharm": {
     "name": "#%%\n"
    }
   }
  },
  {
   "cell_type": "code",
   "execution_count": null,
   "outputs": [],
   "source": [
    "demonstrate_arithmetic_operators()"
   ],
   "metadata": {
    "collapsed": false,
    "pycharm": {
     "name": "#%%\n"
    }
   }
  },
  {
   "cell_type": "markdown",
   "source": [
    "## Relational operators\n",
    "Define a simple function to demonstrate relational operators."
   ],
   "metadata": {
    "collapsed": false,
    "pycharm": {
     "name": "#%% md\n"
    }
   }
  },
  {
   "cell_type": "code",
   "execution_count": null,
   "outputs": [],
   "source": [
    "def demonstrate_relational_operators():\n",
    "    \"\"\"Working with relational operators.\n",
    "    - simple comparisons\n",
    "    - comparing dates (== vs. is)\n",
    "    - comparing dates (>, <, etc. with dates)\n",
    "    - None in comparisons, type(None)\n",
    "    \"\"\"\n",
    "\n",
    "    print(2 > 3)\n",
    "    print()\n",
    "\n",
    "    if '':\n",
    "        print(True)\n",
    "    else:\n",
    "        print(False)\n",
    "    print()\n",
    "\n",
    "    from datetime import date\n",
    "    d1 = date(1942, 6, 18)\n",
    "    d2 = date.today()\n",
    "    print(d1 == d2)\n",
    "    print(d2 is date.today())\n",
    "    print('id(d1):', id(d1))\n",
    "    print('id(date.today()):', id(date.today()))\n",
    "    print(d2 == date.today())\n",
    "    print()\n",
    "\n",
    "    print(None)\n",
    "    print(None == 2)\n",
    "    print(type(2))\n",
    "    print(type(None))\n",
    "    print(not None)"
   ],
   "metadata": {
    "collapsed": false,
    "pycharm": {
     "name": "#%%\n"
    }
   }
  },
  {
   "cell_type": "code",
   "execution_count": null,
   "outputs": [],
   "source": [
    "demonstrate_relational_operators()"
   ],
   "metadata": {
    "collapsed": false,
    "pycharm": {
     "name": "#%%\n"
    }
   }
  },
  {
   "cell_type": "markdown",
   "source": [
    "## Logical operators\n",
    "Define a simple function to demonstrate logical operators."
   ],
   "metadata": {
    "collapsed": false,
    "pycharm": {
     "name": "#%% md\n"
    }
   }
  },
  {
   "cell_type": "code",
   "execution_count": null,
   "outputs": [],
   "source": [
    "def demonstrate_logical_operators():\n",
    "    \"\"\"Working with logical operators.\n",
    "    - logical operations with True, False and None\n",
    "    - logical operations with dates\n",
    "        - make sure to read this: https://docs.python.org/3/library/stdtypes.html#boolean-operations-and-or-not !!!\n",
    "          (or just this: https://stackoverflow.com/questions/44612144/logical-operators-in-python)\n",
    "    - logical operations with None (incl. None and int, None and date, etc.)\n",
    "    - None and date vs. None > date\n",
    "    \"\"\"\n",
    "\n",
    "    print(True and None)\n",
    "    print(True or None)\n",
    "    print(True and not None)\n",
    "    print()\n",
    "\n",
    "    print(1 and 5)\n",
    "    print('' and 5)\n",
    "    print()\n",
    "\n",
    "    from datetime import date\n",
    "    d1 = date.today()\n",
    "    print(d1 and None)\n",
    "    print(d1 and not None)\n",
    "    # print(d1 > None)"
   ],
   "metadata": {
    "collapsed": false,
    "pycharm": {
     "name": "#%%\n"
    }
   }
  },
  {
   "cell_type": "code",
   "execution_count": null,
   "outputs": [],
   "source": [
    "demonstrate_logical_operators()"
   ],
   "metadata": {
    "collapsed": false,
    "pycharm": {
     "name": "#%%\n"
    }
   }
  }
 ],
 "metadata": {
  "kernelspec": {
   "display_name": "Python 3",
   "language": "python",
   "name": "python3"
  },
  "language_info": {
   "codemirror_mode": {
    "name": "ipython",
    "version": 2
   },
   "file_extension": ".py",
   "mimetype": "text/x-python",
   "name": "python",
   "nbconvert_exporter": "python",
   "pygments_lexer": "ipython2",
   "version": "2.7.6"
  }
 },
 "nbformat": 4,
 "nbformat_minor": 0
}