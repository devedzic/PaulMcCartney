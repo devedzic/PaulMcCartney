{
 "cells": [
  {
   "cell_type": "markdown",
   "source": [
    "# Dictionaries\n",
    "The notebook created after the *dictionaries* module.\n",
    "\n",
    "Demonstrates working with dictionaries in Python."
   ],
   "metadata": {
    "collapsed": false,
    "pycharm": {
     "name": "#%% md\n"
    }
   }
  },
  {
   "cell_type": "markdown",
   "source": [
    "From: https://qr.ae/TWCAvj:\n",
    "\n",
    "Python uses dictionaries all over the place:\n",
    "- the variables and functions in a module - stored in a dictionary (can be shown using `globals()`)\n",
    "- the local variables in a function - stored in a dictionary (can be shown using `locals()`; see *functions.py*, *10-functions.ipynb*)\n",
    "- the implementation of a function - a dictionary\n",
    "- a class is a dictionary\n",
    "- an instance of a class is another dictionary\n",
    "- the modules your program has imported - you guessed it - another dictionary\n",
    "- even Python set objects are implemented as modified dictionaries\n",
    "\n",
    "To paraphrase Tim Peter's 'Zen of Python': \"dictionaries are great - let's do more of them\".\n",
    "Read more at https://qr.ae/TWCAvj."
   ],
   "metadata": {
    "collapsed": false,
    "pycharm": {
     "name": "#%% md\n"
    }
   }
  },
  {
   "cell_type": "markdown",
   "source": [
    "## Creating and using dictionaries\n",
    "Define a simple function to demonstrate working with simple dictionaries."
   ],
   "metadata": {
    "collapsed": false,
    "pycharm": {
     "name": "#%% md\n"
    }
   }
  },
  {
   "cell_type": "code",
   "execution_count": null,
   "metadata": {
    "collapsed": true,
    "pycharm": {
     "name": "#%%\n"
    }
   },
   "outputs": [],
   "source": [
    "def demonstrate_dictionaries():\n",
    "    \"\"\"Creating and using dictionaries.\n",
    "    - create a blank (empty) dictionary\n",
    "    - create a non-empty dictionary\n",
    "    - access dictionary values by the corresponding keys (syntax: value = d[key])\n",
    "    - print a non-empty dictionary\n",
    "        - print all items using the items() function\n",
    "        - print one item per line\n",
    "    - pprint dictionary in one column\n",
    "    - add/remove items to/from a dictionary\n",
    "    - update a dictionary with the items from another dictionary or from an iterable of (k, v) pairs using dict.update()\n",
    "    - using the keys() and values() functions\n",
    "    \"\"\"\n",
    "\n",
    "    # a = 1\n",
    "    # b = 2\n",
    "    # print(locals())\n",
    "    # print(globals())\n",
    "    # print()\n",
    "\n",
    "    paul = {}\n",
    "    print(type(paul))\n",
    "    print()\n",
    "\n",
    "    paul = {'name': 'Paul', 'family_name': 'McCartney'}\n",
    "    print(paul)\n",
    "    print()\n",
    "\n",
    "    print(paul['name'])\n",
    "    print()\n",
    "\n",
    "    paul['birthplace'] = 'Liverpool'\n",
    "    print(paul)\n",
    "    print()\n",
    "\n",
    "    paul[1] = 1\n",
    "    print(paul)\n",
    "    print()\n",
    "\n",
    "    songs = {1: 'Oh, Darling', 2: 'The Fool on the Hill'}\n",
    "    paul.update(songs)\n",
    "    paul.update([(3, 'I\\'ve Just Seen a Face')])\n",
    "    print(paul)\n",
    "    print()\n",
    "\n",
    "    from pprint import pprint\n",
    "    # pprint(paul, width=1)\n",
    "    pprint(paul)\n",
    "    print()\n",
    "\n",
    "    print(paul.items())\n",
    "    print(paul.keys())\n",
    "    print(paul.values())\n",
    "    print(list(paul.items()))\n",
    "    print(list(paul.keys()))\n",
    "    print(list(paul.values()))\n",
    "    print(type(paul.items()))"
   ]
  },
  {
   "cell_type": "code",
   "execution_count": null,
   "outputs": [],
   "source": [
    "demonstrate_dictionaries()"
   ],
   "metadata": {
    "collapsed": false,
    "pycharm": {
     "name": "#%%\n"
    }
   }
  },
  {
   "cell_type": "markdown",
   "source": [
    "## Sorting dictionaries\n",
    "Define a simple function to demonstrate sorting dictionaries."
   ],
   "metadata": {
    "collapsed": false,
    "pycharm": {
     "name": "#%% md\n"
    }
   }
  },
  {
   "cell_type": "code",
   "execution_count": null,
   "outputs": [],
   "source": [
    "def sort_dictionary(d, by):\n",
    "    \"\"\"Sorting a dictionary by keys or by values.\n",
    "    - using zip()\n",
    "    - using operator.itemgetter()\n",
    "    - using lambda\n",
    "    \"\"\"\n",
    "\n",
    "    # if by == 'k' or by == 'K':\n",
    "    #     return dict(sorted(zip(d.keys(), d.values())))\n",
    "    # elif by == 'v' or by == 'V':\n",
    "    #     return dict(sorted(zip(d.values(), d.keys())))\n",
    "    # else:\n",
    "    #     return None\n",
    "\n",
    "    # from operator import itemgetter\n",
    "    # if by == 'k' or by == 'K':\n",
    "    #     return dict(sorted(d.items(), key=itemgetter(0)))\n",
    "    # elif by == 'v' or by == 'V':\n",
    "    #     return dict(sorted(d.items(), key=itemgetter(1)))\n",
    "    # else:\n",
    "    #     return None\n",
    "\n",
    "    if by == 'k' or by == 'K':\n",
    "        return dict(sorted(d.items(), key=lambda item: item[0]))\n",
    "    elif by == 'v' or by == 'V':\n",
    "        return dict(sorted(d.items(), key=lambda item: item[1]))\n",
    "    else:\n",
    "        return None"
   ],
   "metadata": {
    "collapsed": false,
    "pycharm": {
     "name": "#%%\n"
    }
   }
  },
  {
   "cell_type": "code",
   "execution_count": null,
   "outputs": [],
   "source": [
    "def demonstrate_dict_sorting():\n",
    "    \"\"\"Demonstrate sorting a dictionary.\n",
    "    \"\"\"\n",
    "\n",
    "    songs = {3: 'The Long and Winding Road', 1: 'Oh, Darling', 2: 'The Fool on the Hill'}\n",
    "    print(sort_dictionary(songs, by='k'))\n",
    "    print(sort_dictionary(songs, by=12))"
   ],
   "metadata": {
    "collapsed": false,
    "pycharm": {
     "name": "#%%\n"
    }
   }
  },
  {
   "cell_type": "code",
   "execution_count": null,
   "outputs": [],
   "source": [
    "demonstrate_dict_sorting()"
   ],
   "metadata": {
    "collapsed": false,
    "pycharm": {
     "name": "#%%\n"
    }
   }
  }
 ],
 "metadata": {
  "kernelspec": {
   "display_name": "Python 3",
   "language": "python",
   "name": "python3"
  },
  "language_info": {
   "codemirror_mode": {
    "name": "ipython",
    "version": 2
   },
   "file_extension": ".py",
   "mimetype": "text/x-python",
   "name": "python",
   "nbconvert_exporter": "python",
   "pygments_lexer": "ipython2",
   "version": "2.7.6"
  }
 },
 "nbformat": 4,
 "nbformat_minor": 0
}