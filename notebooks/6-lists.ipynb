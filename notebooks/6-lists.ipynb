{
 "cells": [
  {
   "cell_type": "markdown",
   "source": [
    "# Lists\n",
    "The notebook created after the *lists* module.\n",
    "\n",
    "Demonstrates working with lists in Python."
   ],
   "metadata": {
    "collapsed": false,
    "pycharm": {
     "name": "#%% md\n"
    }
   }
  },
  {
   "cell_type": "markdown",
   "source": [
    "## Simple operations with lists\n",
    "Define a simple function to demonstrate simple operations with lists."
   ],
   "metadata": {
    "collapsed": false,
    "pycharm": {
     "name": "#%% md\n"
    }
   }
  },
  {
   "cell_type": "code",
   "execution_count": null,
   "metadata": {
    "collapsed": true,
    "pycharm": {
     "name": "#%%\n"
    }
   },
   "outputs": [],
   "source": [
    "def demonstrate_lists():\n",
    "    \"\"\"Using just the simplest operations with lists.\n",
    "    - create a non-empty list with different kinds of elements\n",
    "    - accessing/slicing a list\n",
    "    - comparing 2 lists (== vs. is)\n",
    "    - concatenating 2 lists (the + operator)\n",
    "    - looping through a list\n",
    "    \"\"\"\n",
    "\n",
    "    paul = ['Paul McCartney', 1942, True]\n",
    "\n",
    "    print(paul[0])\n",
    "    print(paul[1:])\n",
    "    print(paul[:-1])\n",
    "    print(paul == ['Paul McCartney', 1942, True])\n",
    "    print(paul is ['Paul McCartney', 1942, True])\n",
    "    print(paul + ['Liverpool'])\n",
    "    for i in paul:\n",
    "        print(i)"
   ]
  },
  {
   "cell_type": "code",
   "execution_count": null,
   "outputs": [],
   "source": [
    "demonstrate_lists()"
   ],
   "metadata": {
    "collapsed": false,
    "pycharm": {
     "name": "#%%\n"
    }
   }
  },
  {
   "cell_type": "markdown",
   "source": [
    "## Important methods of the *list* class\n",
    "Define a simple function to demonstrate frequently used methods of the *list* class."
   ],
   "metadata": {
    "collapsed": false,
    "pycharm": {
     "name": "#%% md\n"
    }
   }
  },
  {
   "cell_type": "code",
   "execution_count": null,
   "outputs": [],
   "source": [
    "def demonstrate_list_methods():\n",
    "    \"\"\"Using\n",
    "    append()\n",
    "    insert()\n",
    "    remove()\n",
    "    pop()\n",
    "    extend()\n",
    "    count()\n",
    "    index()\n",
    "    reverse()\n",
    "    len()\n",
    "    ...\n",
    "    Also, \"in\" and \"not in\" operators can be used to search lists\n",
    "    for the occurrence of a given element.\n",
    "    \"\"\"\n",
    "\n",
    "    paul = ['Paul McCartney', 1942, True]\n",
    "    print(paul)\n",
    "    print()\n",
    "\n",
    "    print(paul.append('Liverpool'))\n",
    "    print(paul)\n",
    "    print(paul.insert(2, 'The Beatles'))\n",
    "    print(paul)\n",
    "    paul.remove('The Beatles')\n",
    "    print(paul)\n",
    "    paul.pop(1)\n",
    "    print(paul)\n",
    "    paul.extend(['The Beatles'])\n",
    "    print(paul)\n",
    "    print(paul.count(True))\n",
    "    print(paul.index('The Beatles'))\n",
    "    paul.reverse()\n",
    "    print(paul)\n",
    "    print(len(paul))"
   ],
   "metadata": {
    "collapsed": false,
    "pycharm": {
     "name": "#%%\n"
    }
   }
  },
  {
   "cell_type": "code",
   "execution_count": null,
   "outputs": [],
   "source": [
    "demonstrate_list_methods()"
   ],
   "metadata": {
    "collapsed": false,
    "pycharm": {
     "name": "#%%\n"
    }
   }
  },
  {
   "cell_type": "markdown",
   "source": [
    "## Arrays\n",
    "Define a simple function to demonstrate arrays in Python."
   ],
   "metadata": {
    "collapsed": false,
    "pycharm": {
     "name": "#%% md\n"
    }
   }
  },
  {
   "cell_type": "code",
   "execution_count": null,
   "outputs": [],
   "source": [
    "def demonstrate_arrays():\n",
    "    \"\"\"Using array.array() to build list-based numeric arrays.\n",
    "    Demonstrating that lists and arrays are different types.\n",
    "    \"\"\"\n",
    "\n",
    "    from array import array\n",
    "    a = array('i', [1, 2, 3, 4])\n",
    "    print(a)\n",
    "    print(type(a))"
   ],
   "metadata": {
    "collapsed": false,
    "pycharm": {
     "name": "#%%\n"
    }
   }
  },
  {
   "cell_type": "code",
   "execution_count": null,
   "outputs": [],
   "source": [
    "demonstrate_arrays()"
   ],
   "metadata": {
    "collapsed": false,
    "pycharm": {
     "name": "#%%\n"
    }
   }
  },
  {
   "cell_type": "markdown",
   "source": [
    "## Populating an empty list\n",
    "Define a simple function to demonstrate creating an empty list and populating it with random values."
   ],
   "metadata": {
    "collapsed": false,
    "pycharm": {
     "name": "#%% md\n"
    }
   }
  },
  {
   "cell_type": "code",
   "execution_count": null,
   "outputs": [],
   "source": [
    "def populate_empty_list():\n",
    "    \"\"\"Creating an empty list and populating it with random values\n",
    "    using random.seed() and random.randint()\n",
    "    \"\"\"\n",
    "\n",
    "    from random import randint, seed\n",
    "    l = []\n",
    "    seed(12)\n",
    "    for i in range(100):\n",
    "        l.append(randint(0, 1000))\n",
    "    print(l[23:34])"
   ],
   "metadata": {
    "collapsed": false,
    "pycharm": {
     "name": "#%%\n"
    }
   }
  },
  {
   "cell_type": "code",
   "execution_count": null,
   "outputs": [],
   "source": [
    "populate_empty_list()"
   ],
   "metadata": {
    "collapsed": false,
    "pycharm": {
     "name": "#%%\n"
    }
   }
  },
  {
   "cell_type": "markdown",
   "source": [
    "## Duplicating a list\n",
    "Define a simple function to demonstrate duplicating a list (as opposed to just copying pointers)."
   ],
   "metadata": {
    "collapsed": false,
    "pycharm": {
     "name": "#%% md\n"
    }
   }
  },
  {
   "cell_type": "code",
   "execution_count": null,
   "outputs": [],
   "source": [
    "def duplicate_list():\n",
    "    \"\"\"Duplicating lists (carefully :)).\n",
    "    Don't use l2 = l1, but either of the following:\n",
    "    - l2 = l1.copy()\n",
    "    - l2 = l1 + []\n",
    "    - l2 = l1[:]\n",
    "    \"\"\"\n",
    "\n",
    "    paul = ['Paul McCartney', 1942, True]\n",
    "    mcCartney = paul\n",
    "    print(mcCartney is paul)\n",
    "    mcCartney = paul.copy()\n",
    "    print(mcCartney is paul)"
   ],
   "metadata": {
    "collapsed": false,
    "pycharm": {
     "name": "#%%\n"
    }
   }
  },
  {
   "cell_type": "code",
   "execution_count": null,
   "outputs": [],
   "source": [
    "duplicate_list()"
   ],
   "metadata": {
    "collapsed": false,
    "pycharm": {
     "name": "#%%\n"
    }
   }
  },
  {
   "cell_type": "markdown",
   "source": [
    "## List comprehension\n",
    "Define a simple function to demonstrate list comprehension."
   ],
   "metadata": {
    "collapsed": false,
    "pycharm": {
     "name": "#%% md\n"
    }
   }
  },
  {
   "cell_type": "code",
   "execution_count": null,
   "outputs": [],
   "source": [
    "def demonstrate_list_comprehension():\n",
    "    \"\"\"Showing examples of list comprehension.\n",
    "    - list comprehension over a list of strings\n",
    "    - list comprehension with enumerate(), to find indices of all occurrences of an element in a list\n",
    "    Using str() and join() in printing results.\n",
    "    \"\"\"\n",
    "\n",
    "    songs = ['Hey Jude', 'Eleanor Rigby', 'Let It Be', 'Penny Lane']\n",
    "\n",
    "    print([song for song in songs if 'L' in song])\n",
    "\n",
    "    fw = [title.split()[0] for title in songs]\n",
    "    print(fw)\n",
    "    fl = [w[0] for w in fw]\n",
    "    print(fl)\n",
    "    result = ''.join([l for l in fl]).capitalize() + '!'\n",
    "    print(result)"
   ],
   "metadata": {
    "collapsed": false,
    "pycharm": {
     "name": "#%%\n"
    }
   }
  },
  {
   "cell_type": "code",
   "execution_count": null,
   "outputs": [],
   "source": [
    "demonstrate_list_comprehension()"
   ],
   "metadata": {
    "collapsed": false,
    "pycharm": {
     "name": "#%%\n"
    }
   }
  }
 ],
 "metadata": {
  "kernelspec": {
   "display_name": "Python 3",
   "language": "python",
   "name": "python3"
  },
  "language_info": {
   "codemirror_mode": {
    "name": "ipython",
    "version": 2
   },
   "file_extension": ".py",
   "mimetype": "text/x-python",
   "name": "python",
   "nbconvert_exporter": "python",
   "pygments_lexer": "ipython2",
   "version": "2.7.6"
  }
 },
 "nbformat": 4,
 "nbformat_minor": 0
}