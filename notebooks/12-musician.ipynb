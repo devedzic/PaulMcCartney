{
 "cells": [
  {
   "cell_type": "markdown",
   "source": [
    "# Musician\n",
    "The notebook created after the *musician* module.\n",
    "\n",
    "Demonstrates domain classes, methods and functions related to the concept of musician, as well as the mandatory `__init__()`, `__str__()` and `__eq__()` methods.\n",
    "\n",
    "Introduces properties, classmethods (`@property`, `@classmethod`) and alternative constructors.\n",
    "\n",
    "Shows how to serialize `Musician` objects to JSON."
   ],
   "metadata": {
    "collapsed": false,
    "pycharm": {
     "name": "#%% md\n"
    }
   }
  },
  {
   "cell_type": "markdown",
   "source": [
    "## Setup / Data"
   ],
   "metadata": {
    "collapsed": false,
    "pycharm": {
     "name": "#%% md\n"
    }
   }
  },
  {
   "cell_type": "code",
   "execution_count": null,
   "outputs": [],
   "source": [
    "from util import utility\n",
    "from music.enums import Vocals, Instrument\n",
    "\n",
    "from testdata.musicians import *\n",
    "\n",
    "import json"
   ],
   "metadata": {
    "collapsed": false,
    "pycharm": {
     "name": "#%%\n"
    }
   }
  },
  {
   "cell_type": "markdown",
   "source": [
    "## The *Musician* class\n",
    "The class describing the concept of musician. It is assumed that a musician is sufficiently described by their name and whether they are a solo musician or a member of a band.\n",
    "\n",
    "Illustrates some important concepts of Python classes:\n",
    "    - `self`\n",
    "    - `__init__()`\n",
    "    - `__str__()`\n",
    "    - `__eq__(self, other)` is an equivalent of Java `equals()` and should be overridden in classes\n",
    "    - `__dict__` attribute of all objects\n",
    "    - data fields (instance variables)\n",
    "    - methods - calling them by `self.<method>(...)` from the same class where they are defined\n"
   ],
   "metadata": {
    "collapsed": false,
    "pycharm": {
     "name": "#%% md\n"
    }
   }
  },
  {
   "cell_type": "markdown",
   "source": [
    "Properties are 'private' fields/attributes. They allow programmers to create methods that behave like attributes. With properties, one can change how they compute the target attribute whenever they need to do so. See [here](https://realpython.com/python-property/) for a more detailed explanation.\n",
    "\n",
    "In general, avoid turning attributes that don’t require extra processing into properties. Using properties in those situations can make the code unnecessarily verbose, confusing and slower than code based on regular attributes."
   ],
   "metadata": {
    "collapsed": false,
    "pycharm": {
     "name": "#%% md\n"
    }
   }
  },
  {
   "cell_type": "code",
   "execution_count": null,
   "outputs": [],
   "source": [
    "class Musician:\n",
    "    \"\"\"The class describing the concept of musician.\n",
    "    It is assumed that a musician is sufficiently described by their\n",
    "    name and whether they are a solo musician or a member of a band.\n",
    "\n",
    "    This class illustrates some important concepts of Python classes:\n",
    "    - self\n",
    "    - __init__()\n",
    "    - __str__()\n",
    "    - __eq__(self, other) is the equivalent of Java equals() and should be overridden in classes\n",
    "    - __dict__ attribute of all objects\n",
    "    - data fields (instance variables)\n",
    "    - methods - calling them by self.<method>(...) from the same class where they are defined\n",
    "    \"\"\"\n",
    "\n",
    "    def __init__(self, name, is_band_member=True):\n",
    "        self.name = name\n",
    "        self.is_band_member = is_band_member\n",
    "        self.__n = 'lll'                                    # 'private' field\n",
    "        self._m = 'mmm'\n",
    "        self.__immutable_property = 'I am immutable'\n",
    "\n",
    "    def __str__(self):\n",
    "        band_name_str = f'(band member)' if self.is_band_member else f'(solo musician)'\n",
    "        return f'{self.name} {band_name_str}'\n",
    "\n",
    "    def __eq__(self, other):\n",
    "        t = isinstance(other, Musician)\n",
    "        n = self.name == other.name if t else False\n",
    "        b = self.is_band_member == other.is_band_member if t else False\n",
    "        return t and n and b\n",
    "\n",
    "    # Properties: 'private' fields/attributes:\n",
    "    #   @property\n",
    "    #   def <attr>(self):\n",
    "    #       \"\"\" The docstring for <attr> must go here.\"\"\"\n",
    "    #       return self.__<attr>\n",
    "    #   @<attr>.setter\n",
    "    #   def <attr>(self, <attr>):\n",
    "    #       self.__<attr> = <attr> if ... else ...\n",
    "    #   @<attr>.deleter\n",
    "    #   def <attr>(self, <attr>):\n",
    "    #       del self.__<attr>\n",
    "\n",
    "    # Properties allow programmers to create methods that behave like attributes.\n",
    "    # With properties, one can change how they compute the target attribute whenever they need to do so.\n",
    "    # A more detailed explanation: https://realpython.com/python-property/.\n",
    "    # In general, avoid turning attributes that don’t require extra processing into properties.\n",
    "    # Using properties in those situations can make the code unnecessarily verbose, confusing and slower\n",
    "    # than code based on regular attributes.\n",
    "\n",
    "    # Make name a property (after setting up __init__(), __str__(), __eq__(), methods,...)\n",
    "\n",
    "    # Run setters and getters in the debugger\n",
    "\n",
    "    @property\n",
    "    def name(self):\n",
    "        return self.__name\n",
    "\n",
    "    @name.setter\n",
    "    def name(self, name):\n",
    "        self.__name = name if isinstance(name, str) else 'unknown'\n",
    "\n",
    "    # Add an immutable property (no setter for it)\n",
    "    @property\n",
    "    def immutable_property(self):\n",
    "        return self.__immutable_property\n",
    "\n",
    "    def play(self, song_title, *args, **kwargs):\n",
    "        \"\"\"Assumes that song_title, *args (expressions of gratitude) and kwargs.values() (messages) are strings.\n",
    "        Prints song_title, rhythm counts, expressions of gratitude and messages. A call example:\n",
    "            <musician>.play(song_title, *['Thank you!', 'You're wonderful!], love='We love you!')\n",
    "        Convention: if rhythm count is provided, it is passed as rhythm_count='...' and is the first kwarg.\n",
    "        \"\"\"\n",
    "\n",
    "        rhythm_count = ' - ' + kwargs['rhythm_count'] + ' - ' if 'rhythm_count' in kwargs.keys() else ''\n",
    "        g = ' '.join([g for g in args]) if args else ''\n",
    "        if 'rhythm_count' in kwargs.keys():\n",
    "            del kwargs['rhythm_count']              # if not deleted, it will appear in m (see the next line)\n",
    "        m = ' '.join([v for v in kwargs.values()]) if kwargs else ''\n",
    "        return f'{self.name} playing {song_title}{rhythm_count}... (playing) ... {g} {m}'\n",
    "\n",
    "    def play_song(self, song_title, *args, **kwargs):\n",
    "        \"\"\"Demonstrates calling another method from the same class (self.<method>(...) as a mandatory syntax).\n",
    "        \"\"\"\n",
    "\n",
    "        return self.play(song_title, *args, **kwargs)\n",
    "\n",
    "    # Alternative constructor\n",
    "    @classmethod\n",
    "    def from_str(cls, musician_string):\n",
    "        \"\"\"Inverted __str__() method.\n",
    "        Assumes that musician_string is in the format generated by __str__().\n",
    "        \"\"\"\n",
    "\n",
    "        # band_name_str = f'(band member)' if self.is_band_member else f'(solo musician)'\n",
    "        # return f'{self.name} {band_name_str}'\n",
    "        n = musician_string.split('(')[0].rstrip()\n",
    "        b = musician_string.split('(')[1].startswith('b')\n",
    "        return cls(n, b)"
   ],
   "metadata": {
    "collapsed": false,
    "pycharm": {
     "name": "#%%\n"
    }
   }
  },
  {
   "cell_type": "markdown",
   "source": [
    "#### Printing objects"
   ],
   "metadata": {
    "collapsed": false,
    "pycharm": {
     "name": "#%% md\n"
    }
   }
  },
  {
   "cell_type": "code",
   "execution_count": null,
   "outputs": [],
   "source": [
    "paul = Musician('Paul McCartney', is_band_member=False)\n",
    "print(paul)"
   ],
   "metadata": {
    "collapsed": false,
    "pycharm": {
     "name": "#%%\n"
    }
   }
  },
  {
   "cell_type": "markdown",
   "source": [
    "#### Running setters and getters\n",
    "Make sure to run them in the debugger as well."
   ],
   "metadata": {
    "collapsed": false,
    "pycharm": {
     "name": "#%% md\n"
    }
   }
  },
  {
   "cell_type": "code",
   "execution_count": null,
   "outputs": [],
   "source": [
    "paul.is_band_member = True\n",
    "paul.name = 'Paul McC'\n",
    "print(paul)"
   ],
   "metadata": {
    "collapsed": false,
    "pycharm": {
     "name": "#%%\n"
    }
   }
  },
  {
   "cell_type": "markdown",
   "source": [
    "#### Comparing objects"
   ],
   "metadata": {
    "collapsed": false,
    "pycharm": {
     "name": "#%% md\n"
    }
   }
  },
  {
   "cell_type": "code",
   "execution_count": null,
   "outputs": [],
   "source": [
    "print(paul == Musician('Paul McC'))"
   ],
   "metadata": {
    "collapsed": false,
    "pycharm": {
     "name": "#%%\n"
    }
   }
  },
  {
   "cell_type": "markdown",
   "source": [
    "#### Accessing data fields/attributes\n",
    "Access data fields/attributes (instance variables), including 'private' ones (`<object>._Musician__n`), 'protected' ones (`<object>._Musician__m`) and\n",
    "immutable ones (`<object>.immutable_property`)."
   ],
   "metadata": {
    "collapsed": false,
    "pycharm": {
     "name": "#%% md\n"
    }
   }
  },
  {
   "cell_type": "code",
   "execution_count": null,
   "outputs": [],
   "source": [
    "print(paul._Musician__n)\n",
    "print(paul._m)\n",
    "print(paul.immutable_property)"
   ],
   "metadata": {
    "collapsed": false,
    "pycharm": {
     "name": "#%%\n"
    }
   }
  },
  {
   "cell_type": "markdown",
   "source": [
    "\n",
    "#### Adding new data fields/attributes to an object \"on the fly\"\n",
    "It is possible to add new data fields (instance variables) to an object after it is created. There are three ways to do it:\n",
    "1. `<object>.<new_attr> = <value>`\n",
    "2. `<object>.__setattr__('<new_attr>', <value>)`&nbsp;&nbsp;&nbsp;&nbsp;# counterpart: `<object>.__getattribute__('<attr>')`\n",
    "3. `setattr(<object>, '<new_attr>', <value>))`&nbsp;&nbsp;&nbsp;&nbsp;&nbsp;&nbsp;&nbsp;&nbsp;# counterpart: `getattr(<object>, '<attr>')`"
   ],
   "metadata": {
    "collapsed": false,
    "pycharm": {
     "name": "#%% md\n"
    }
   }
  },
  {
   "cell_type": "code",
   "execution_count": null,
   "outputs": [],
   "source": [
    "paul.year = 1942\n",
    "print(paul.year)"
   ],
   "metadata": {
    "collapsed": false,
    "pycharm": {
     "name": "#%%\n"
    }
   }
  },
  {
   "cell_type": "markdown",
   "source": [
    "#### Calling methods"
   ],
   "metadata": {
    "collapsed": false,
    "pycharm": {
     "name": "#%% md\n"
    }
   }
  },
  {
   "cell_type": "code",
   "execution_count": null,
   "outputs": [],
   "source": [
    "print(paul.play('I Saw Her Standing There', 'Thank You!',\n",
    "                rhythm_count='One, two, three, four!', love='We Love You!'))\n",
    "print(paul.play('I Saw Her Standing There', 'Thank You!',\n",
    "                love='We Love You!'))\n",
    "print(paul.play_song('I Saw Her Standing There', 'Thank You!',\n",
    "                love='We Love You!'))"
   ],
   "metadata": {
    "collapsed": false,
    "pycharm": {
     "name": "#%%\n"
    }
   }
  },
  {
   "cell_type": "markdown",
   "source": [
    "#### General object data fields and methods"
   ],
   "metadata": {
    "collapsed": false,
    "pycharm": {
     "name": "#%% md\n"
    }
   }
  },
  {
   "cell_type": "markdown",
   "source": [
    "Demonstrate object data fields and methods in Python Console for some built-in classes (`boolean`, `int`, `object`,...):\n",
    "- `True + 1`\n",
    "- `True.__int__()`\n",
    "- `(1).__class__.__name__`\n",
    "- `(1).__class__`\n",
    "- `o.__dir__()`\n",
    "- `o.__dir__`\n",
    "- `o.__dict_`"
   ],
   "metadata": {
    "collapsed": false,
    "pycharm": {
     "name": "#%% md\n"
    }
   }
  },
  {
   "cell_type": "code",
   "execution_count": null,
   "outputs": [],
   "source": [
    "print(True + 1)\n",
    "print(True.__int__())\n",
    "print((1).__class__)\n",
    "print((1).__class__.__name__)\n",
    "print((1).__dir__())\n",
    "print(object.__dict__)\n",
    "print()"
   ],
   "metadata": {
    "collapsed": false,
    "pycharm": {
     "name": "#%%\n"
    }
   }
  },
  {
   "cell_type": "markdown",
   "source": [
    "Demonstrate object data fields and methods for `Musician` objects:"
   ],
   "metadata": {
    "collapsed": false,
    "pycharm": {
     "name": "#%% md\n"
    }
   }
  },
  {
   "cell_type": "code",
   "execution_count": null,
   "outputs": [],
   "source": [
    "print(paul.__dict__)\n",
    "print(paul.__class__)\n",
    "print(paul.__class__.__name__)"
   ],
   "metadata": {
    "collapsed": false,
    "pycharm": {
     "name": "#%%\n"
    }
   }
  },
  {
   "cell_type": "markdown",
   "source": [
    "Demonstrate `@classmethod`s (`from_str()`)"
   ],
   "metadata": {
    "collapsed": false,
    "pycharm": {
     "name": "#%% md\n"
    }
   }
  },
  {
   "cell_type": "code",
   "execution_count": null,
   "outputs": [],
   "source": [
    "paul_str = str(paul)\n",
    "print(paul == Musician.from_str(paul_str))"
   ],
   "metadata": {
    "collapsed": false,
    "pycharm": {
     "name": "#%%\n"
    }
   }
  },
  {
   "cell_type": "markdown",
   "source": [
    "## JSON"
   ],
   "metadata": {
    "collapsed": false,
    "pycharm": {
     "name": "#%% md\n"
    }
   }
  },
  {
   "cell_type": "code",
   "execution_count": null,
   "outputs": [],
   "source": [
    "class MusicianEncoder(json.JSONEncoder):\n",
    "    \"\"\"JSON encoder for Musician objects (cls= parameter in json.dumps()).\n",
    "    \"\"\"\n",
    "\n",
    "    def default(self, musician):\n",
    "        # recommendation: always use double quotes with JSON\n",
    "\n",
    "        pass\n",
    "        # can simply return musician_py_to_json(musician), to avoid code duplication\n",
    "\n",
    "\n",
    "def musician_py_to_json(musician):\n",
    "    \"\"\"JSON encoder for Musician objects (default= parameter in json.dumps()).\n",
    "    \"\"\"\n",
    "\n",
    "    # recommendation: always use double quotes with JSON\n",
    "\n",
    "\n",
    "def musician_json_to_py(musician_json):\n",
    "    \"\"\"JSON decoder for Musician objects (object_hook= parameter in json.loads()).\n",
    "    \"\"\""
   ],
   "metadata": {
    "collapsed": false,
    "pycharm": {
     "name": "#%%\n"
    }
   }
  },
  {
   "cell_type": "markdown",
   "source": [
    "## Inheritance"
   ],
   "metadata": {
    "collapsed": false,
    "pycharm": {
     "name": "#%% md\n"
    }
   }
  },
  {
   "cell_type": "code",
   "execution_count": null,
   "outputs": [],
   "source": [
    "class Singer(Musician):\n",
    "    \"\"\"The class describing the concept of singer.\n",
    "    It is assumed that a singer is sufficiently described as a Musician,\n",
    "    with the addition of whether they are a lead or a background singer.\n",
    "\n",
    "    Useful link (related to inheritance in Python):\n",
    "    https://stackoverflow.com/questions/3394835/use-of-args-and-kwargs/3394902#3394902 (calling super() in constructors)\n",
    "    \"\"\"\n",
    "\n",
    "    # Version 1 - no multiple inheritance\n",
    "\n",
    "    # Version 2 - with multiple inheritance\n",
    "\n",
    "    def play(self, song_title, *args, **kwargs):\n",
    "        \"\"\"Overrides the play() method from superclass.\n",
    "        Assumes that song_title, *args (expressions of gratitude) and kwargs.values() (messages) are strings.\n",
    "        Prints song_title, expressions of gratitude and messages. A call example:\n",
    "            <singer>.play(song_title, *['Thank you!', 'You're wonderful!], love='We love you!')\n",
    "        \"\"\"\n",
    "\n",
    "\n",
    "class Songwriter(Musician):\n",
    "    \"\"\"The class describing the concept of songwriter.\n",
    "    It is assumed that a songwriter is sufficiently described as a musician\n",
    "    who writes songs and plays an instrument.\n",
    "    \"\"\"\n",
    "\n",
    "    # Version 1 - no multiple inheritance\n",
    "\n",
    "    # Version 2 - with multiple inheritance\n",
    "\n",
    "    def what_do_you_do(self):\n",
    "        \"\"\"Just a simple method to describe the concept of songwriter.\n",
    "        \"\"\"\n",
    "\n",
    "\n",
    "class SingerSongwriter(Singer, Songwriter):\n",
    "    \"\"\"The class describing the concept of singer-songwriter.\n",
    "    It is assumed that a singer-songwriter is sufficiently described as a Singer who is simultaneously a Songwriter.\n",
    "\n",
    "    Useful links :\n",
    "    https://stackoverflow.com/a/50465583/1899061 (designing classes (i.e. their __init__() methods) for multiple inh.)\n",
    "    https://stackoverflow.com/a/533675/1899061 (mixins explained, and what good they are in multiple inheritance)\n",
    "    \"\"\"\n",
    "\n",
    "\n",
    "if __name__ == \"__main__\":\n",
    "\n",
    "\n",
    "    # Demonstrate inheritance\n",
    "    # object class (like the Object class in Java; all classes inherit from object\n",
    "    #   try, e.g., list.__mro__ in the console)\n",
    "    #   object class defines object.__eq__(self, other) etc.\n",
    "    #   object.__ne__(self, other), the inverse of object.__eq__(self, other),\n",
    "    #   is provided by Python automatically once object.__eq__(self, other) is implemented\n",
    "    print()\n",
    "\n",
    "    # Demonstrate method overriding\n",
    "    print()\n",
    "\n",
    "    # Demonstrate multiple inheritance and MRO.\n",
    "    # Make sure to read this first: https://stackoverflow.com/a/50465583/1899061 (especially Scenario 3).\n",
    "    print()\n",
    "\n",
    "    # Demonstrate JSON encoding/decoding of simple data types.\n",
    "    # Refer to https://docs.python.org/3.3/library/json.html#encoders-and-decoders for details.\n",
    "    print()\n",
    "\n",
    "    # Demonstrate JSON encoding/decoding of Musician objects\n",
    "    # Single object\n",
    "    print()\n",
    "\n",
    "    # List of objects\n",
    "    print()\n",
    "\n"
   ],
   "metadata": {
    "collapsed": false,
    "pycharm": {
     "name": "#%%\n"
    }
   }
  }
 ],
 "metadata": {
  "kernelspec": {
   "display_name": "Python 3",
   "language": "python",
   "name": "python3"
  },
  "language_info": {
   "codemirror_mode": {
    "name": "ipython",
    "version": 2
   },
   "file_extension": ".py",
   "mimetype": "text/x-python",
   "name": "python",
   "nbconvert_exporter": "python",
   "pygments_lexer": "ipython2",
   "version": "2.7.6"
  }
 },
 "nbformat": 4,
 "nbformat_minor": 0
}