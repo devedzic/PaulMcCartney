{
 "cells": [
  {
   "cell_type": "markdown",
   "source": [
    "# Decorators\n",
    "The notebook created after the *decorators* module.\n",
    "\n",
    "Demonstrates peculiarities of using functions, such as using functions as arguments/parameters of other functions and as return values of other functions, and details of writing Python decorators using the decorator pattern."
   ],
   "metadata": {
    "collapsed": false,
    "pycharm": {
     "name": "#%% md\n"
    }
   }
  },
  {
   "cell_type": "markdown",
   "source": [
    "## Setup / Data"
   ],
   "metadata": {
    "collapsed": false,
    "pycharm": {
     "name": "#%% md\n"
    }
   }
  },
  {
   "cell_type": "code",
   "execution_count": 4,
   "outputs": [
    {
     "name": "stdout",
     "output_type": "stream",
     "text": [
      "Oh! Darling, 1969\n",
      "{'title': <class 'str'>, 'year': <class 'int'>, 'return': <class 'str'>}\n",
      "demonstrate_annotations:\n",
      " Demonstrates how to use annotations of\n",
      "    function parameters/arguments (<arg>: <type>) and of function return type (def f(...) -> <type>:).\n",
      "    - print the function parameters/arguments\n",
      "    - print the value of the __annotations__ attribute of this function\n",
      "    - print the name and the docstring of this function\n",
      "    - return a formatted string (including function parameters/arguments)\n",
      "    \n",
      "Calling demonstrate_annotations(\"Oh! Darling\", 1969).\n",
      "{'title': 'Oh! Darling', 'author': 'Paul McCartney', 'year': 1969}\n",
      "Oh! Darling, Paul McCartney, 1969\n",
      "('John Lennon', 'Paul McCartney', 'George Harrison', 'Ringo Starr')\n",
      "John Lennon Paul McCartney George Harrison Ringo Starr\n",
      "The Beatles: John Lennon, Paul McCartney, George Harrison, Ringo Starr\n",
      "The Beatles: John Lennon, Paul McCartney, George Harrison, Ringo Starr; not active (start: 1962, end: 1970)\n",
      "The Beatles; not active (start: 1962, end: 1970)\n"
     ]
    }
   ],
   "source": [
    "import functools\n",
    "\n",
    "from python.functions import *\n",
    "\n",
    "john = 'John Lennon'\n",
    "paul = 'Paul McCartney'\n",
    "george = 'George Harrison'\n",
    "ringo = 'Ringo Starr'\n",
    "the_beatles = [john, paul, george, ringo]"
   ],
   "metadata": {
    "collapsed": false,
    "pycharm": {
     "name": "#%%\n"
    }
   }
  },
  {
   "cell_type": "markdown",
   "source": [
    "## Functions as arguments/parameters of other functions\n",
    "Using a function as an argument/parameter of another function works because functions are objects."
   ],
   "metadata": {
    "collapsed": false,
    "pycharm": {
     "name": "#%% md\n"
    }
   }
  },
  {
   "cell_type": "markdown",
   "source": [
    "Try something like this in Python Console:\n",
    "\n",
    "p = *[1,2,3]\n",
    "Generates an error.\n",
    "Asterisk * isn't simply unary operator, it's argument-unpacking operator for function definitions and function calls.\n",
    "Heuristics: use it \"inside of something else\", like inside of (), [] and constructors.\n",
    "\n",
    "p = *[1,2,3],\n",
    "Generates a tuple, because of the comma (asterisk is actually \"inside creating a tuple\").\n",
    "\n",
    "p = 44, *[1,2,3]\n",
    "Generates another tuple.\n",
    "\n",
    "print(p)\n",
    "print(*p)"
   ],
   "metadata": {
    "collapsed": false,
    "pycharm": {
     "name": "#%% md\n"
    }
   }
  },
  {
   "cell_type": "markdown",
   "source": [
    "Define a simple function that illustrates using another function as its argument."
   ],
   "metadata": {
    "collapsed": false,
    "pycharm": {
     "name": "#%% md\n"
    }
   }
  },
  {
   "cell_type": "code",
   "execution_count": null,
   "outputs": [],
   "source": [
    "# Try also this in Python Console:\n",
    "# def f(*args):\n",
    "#     return sum(args)      # it must be sum(args), not sum(*args); e.g. in Python Console sum((1, 2)) is OK\n",
    "# def g(f, *args):\n",
    "#     return f(*args)       # heuristics: if *args is in a f. signature, use *args in the f. body as well\n",
    "# g(f, *(1, 2, 3))          # result: 6\n",
    "# g(f, *[1, 2, 3])          # result: 6"
   ],
   "metadata": {
    "collapsed": false,
    "pycharm": {
     "name": "#%%\n"
    }
   }
  },
  {
   "cell_type": "code",
   "execution_count": null,
   "metadata": {
    "collapsed": true,
    "pycharm": {
     "name": "#%%\n"
    }
   },
   "outputs": [],
   "source": [
    "def pass_simple_function_as_parameter_v1():\n",
    "    \"\"\"Demonstrates using another function as a parameter.\n",
    "    Case 1: 0 or more arguments\n",
    "    \"\"\"\n",
    "\n"
   ]
  },
  {
   "cell_type": "code",
   "execution_count": null,
   "outputs": [],
   "source": [
    "pass_simple_function_as_parameter_v1()"
   ],
   "metadata": {
    "collapsed": false,
    "pycharm": {
     "name": "#%%\n"
    }
   }
  },
  {
   "cell_type": "code",
   "execution_count": null,
   "outputs": [],
   "source": [
    "def pass_simple_function_as_parameter_v2():\n",
    "    \"\"\"Demonstrates using another function as a parameter. It works because functions are objects.\n",
    "    Case 2: 1 or more arguments (the first one is positional)\n",
    "    If a call to f includes positional arguments, then they are part of the *args argument of this function.\n",
    "    The same holds for optional *args in the call to f.\n",
    "    \"\"\"\n",
    "\n"
   ],
   "metadata": {
    "collapsed": false,
    "pycharm": {
     "name": "#%%\n"
    }
   }
  },
  {
   "cell_type": "code",
   "execution_count": null,
   "outputs": [],
   "source": [
    "pass_simple_function_as_parameter_v2()"
   ],
   "metadata": {
    "collapsed": false,
    "pycharm": {
     "name": "#%%\n"
    }
   }
  },
  {
   "cell_type": "markdown",
   "source": [
    "And now a general case."
   ],
   "metadata": {
    "collapsed": false,
    "pycharm": {
     "name": "#%% md\n"
    }
   }
  },
  {
   "cell_type": "code",
   "execution_count": null,
   "outputs": [],
   "source": [
    "def pass_function_as_parameter(f, *args, **kwargs):\n",
    "    \"\"\"Demonstrates using another function as a parameter. It works because functions are objects.\n",
    "    The argument/parameter list specified as in this function is a fairly general one -\n",
    "    it works regardless of the number of *args and **kwargs in the function call (both can be 0).\n",
    "    However, if f includes positional arguments, they must be passed in the call to this function.\n",
    "    In that case, they are treated as part of the *args argument of this function,\n",
    "    but must be passed explicitly in the call to this function.\n",
    "    Optional *args of f may or may not be passed in the call to this function (just like in the call to f).\n",
    "    Likewise, if f is called with keyword arguments,\n",
    "    they are included in the **kwargs argument of this function.\n",
    "    In other words, from https://stackoverflow.com/a/3394898/1899061:\n",
    "    You can use *args and **kwargs along with named arguments too. The explicit arguments get values first\n",
    "    and then everything else is passed to *args and **kwargs. The named arguments come first in the list. For example:\n",
    "        def table_things(titlestring, **kwargs)\n",
    "    If f has default arguments, they can be included in **kwargs in the beginning of f\n",
    "    (e.g., if f has a default arg d=4, then the first line of f would be kwargs['d'] = d),\n",
    "    and then f is called as f(*args, **kwargs), just as if d=4 was always part of **kwargs:\n",
    "    -------\n",
    "    def f(*args, year=1962, **kwargs):\n",
    "        kwargs['year'] = year\n",
    "\n",
    "        print(args)             # result: a tuple of args\n",
    "        print(*args)            # result: a sequence of args, 'untupled'\n",
    "        print(kwargs)\n",
    "\n",
    "    def g(h, *args, **kwargs):\n",
    "        return h(*args, **kwargs)\n",
    "\n",
    "    g(f, 'Paul', 'McCartney', True, birth=1942)\n",
    "    -------\n",
    "    See https://stackoverflow.com/a/34206138/1899061 for further details.\n",
    "    \"\"\"\n",
    "\n"
   ],
   "metadata": {
    "collapsed": false,
    "pycharm": {
     "name": "#%%\n"
    }
   }
  },
  {
   "cell_type": "code",
   "execution_count": null,
   "outputs": [],
   "source": [
    "pass_function_as_parameter(use_all_categories_of_args, 'The Beatles', *the_beatles, start=1962, end=1970)"
   ],
   "metadata": {
    "collapsed": false,
    "pycharm": {
     "name": "#%%\n"
    }
   }
  },
  {
   "cell_type": "markdown",
   "source": [
    "## Functions as return values of other functions\n",
    "Using a function as the return value of another function works because functions are objects. When returning a function, make sure to return just its name, without ( ), since with ( ) it's a function call!"
   ],
   "metadata": {
    "collapsed": false,
    "pycharm": {
     "name": "#%% md\n"
    }
   }
  },
  {
   "cell_type": "markdown",
   "source": [
    "Case 1: the function returned has no arguments."
   ],
   "metadata": {
    "collapsed": false,
    "pycharm": {
     "name": "#%% md\n"
    }
   }
  },
  {
   "cell_type": "code",
   "execution_count": null,
   "outputs": [],
   "source": [
    "def return_function(full_name, first_name_flag):\n",
    "    \"\"\"Demonstrates using a function as the return value from another function.\n",
    "    In this example, depending on the first_name_flag, return_function() returns one of the following functions:\n",
    "    - a function that returns a person's first name\n",
    "    - a function that returns a person's family name\n",
    "    \"\"\"\n",
    "\n"
   ],
   "metadata": {
    "collapsed": false,
    "pycharm": {
     "name": "#%%\n"
    }
   }
  },
  {
   "cell_type": "code",
   "execution_count": null,
   "outputs": [],
   "source": [
    "f = return_function('Paul McCartney', False)\n",
    "print(f())"
   ],
   "metadata": {
    "collapsed": false,
    "pycharm": {
     "name": "#%%\n"
    }
   }
  },
  {
   "cell_type": "markdown",
   "source": [
    "Case 2: the function returned has arguments"
   ],
   "metadata": {
    "collapsed": false,
    "pycharm": {
     "name": "#%% md\n"
    }
   }
  },
  {
   "cell_type": "code",
   "execution_count": null,
   "outputs": [],
   "source": [
    "def return_function_with_args(*args):\n",
    "    \"\"\"Demonstrates using a function as the return value from another function.\n",
    "    The returned function has parameters/arguments.\n",
    "    In this example, depending on len(args), return_function_with_args() returns one of the following functions:\n",
    "    - a function that returns an empty tuple (or an empty list)\n",
    "    - a function that returns a tuple of args (or a list of args, or...)\n",
    "    \"\"\"\n",
    "\n"
   ],
   "metadata": {
    "collapsed": false,
    "pycharm": {
     "name": "#%%\n"
    }
   }
  },
  {
   "cell_type": "code",
   "execution_count": null,
   "outputs": [],
   "source": [
    "# f = return_function_with_args()\n",
    "f = return_function_with_args(1)\n",
    "print(f('Paul', 'McCartney', 1942))"
   ],
   "metadata": {
    "collapsed": false,
    "pycharm": {
     "name": "#%%\n"
    }
   }
  },
  {
   "cell_type": "markdown",
   "source": [
    "## A simple decorator\n",
    "Define a very simple decorator function and illustrate its use."
   ],
   "metadata": {
    "collapsed": false,
    "pycharm": {
     "name": "#%% md\n"
    }
   }
  },
  {
   "cell_type": "code",
   "execution_count": null,
   "outputs": [],
   "source": [
    "def a_very_simple_decorator(f):\n",
    "    \"\"\"Illustrates the essential idea of decorators:\n",
    "        - take a function (f) as a parameter of a decorator function (decorator)\n",
    "        - use the parameter function f inside an inner wrapper function (g)\n",
    "        - return the inner wrapper function g from the decorator function\n",
    "    Then define f and run f = decorator(f) before calling f.\n",
    "    Even better, just put @decorator before the definition of f. Each call to f will then actually run decorator(f).\n",
    "    \"\"\"\n",
    "\n",
    "    # Examples (run them in Python Console):\n",
    "\n",
    "    # def decorator(f):\n",
    "    #     def g():\n",
    "    #         return f('Paul McCartney')\n",
    "    #     return g\n",
    "    #\n",
    "    # def something(x):\n",
    "    #     return x\n",
    "    # ...\n",
    "    # >>> something(4)\n",
    "    # 4\n",
    "    # ...\n",
    "    # >>> something = decorator(something)\n",
    "    # >>> something\n",
    "    # <function __main__.decorator.<locals>.g()>\n",
    "    # >>> something()\n",
    "    # Paul McCartney\n",
    "\n",
    "    # def decorator(f, *args):\n",
    "    #     def g():\n",
    "    #         print('Paul McCartney')\n",
    "    #         return f(*args)\n",
    "    #     return g\n",
    "    #\n",
    "    # def something(x):\n",
    "    #     return x\n",
    "    # ...\n",
    "    # >>> something(4)\n",
    "    # 4\n",
    "    # ...\n",
    "    # >>> something = decorator(something, 'Paul McCartney')\n",
    "    # >>> something\n",
    "    # <function __main__.decorator.<locals>.g()>\n",
    "    # >>> something()\n",
    "    # Paul McCartney\n",
    "    # Paul McCartney\n",
    "\n"
   ],
   "metadata": {
    "collapsed": false,
    "pycharm": {
     "name": "#%%\n"
    }
   }
  },
  {
   "cell_type": "markdown",
   "source": [
    "A simple function to decorate:"
   ],
   "metadata": {
    "collapsed": false,
    "pycharm": {
     "name": "#%% md\n"
    }
   }
  },
  {
   "cell_type": "code",
   "execution_count": 1,
   "outputs": [],
   "source": [
    "def songs(*args):\n",
    "    print(f'{\", \".join([arg for arg in args])}')"
   ],
   "metadata": {
    "collapsed": false,
    "pycharm": {
     "name": "#%%\n"
    }
   }
  },
  {
   "cell_type": "code",
   "execution_count": 2,
   "outputs": [
    {
     "name": "stdout",
     "output_type": "stream",
     "text": [
      "Yesterday, Let It Be, Cry For No One\n"
     ]
    }
   ],
   "source": [
    "songs('Yesterday', 'Let It Be', 'Cry For No One')"
   ],
   "metadata": {
    "collapsed": false,
    "pycharm": {
     "name": "#%%\n"
    }
   }
  },
  {
   "cell_type": "markdown",
   "source": [
    "Using `a_very_simple_decorator()` without the decorator syntax:"
   ],
   "metadata": {
    "collapsed": false,
    "pycharm": {
     "name": "#%% md\n"
    }
   }
  },
  {
   "cell_type": "code",
   "execution_count": 3,
   "outputs": [
    {
     "ename": "NameError",
     "evalue": "name 'a_very_simple_decorator' is not defined",
     "output_type": "error",
     "traceback": [
      "\u001B[1;31m---------------------------------------------------------------------------\u001B[0m",
      "\u001B[1;31mNameError\u001B[0m                                 Traceback (most recent call last)",
      "Input \u001B[1;32mIn [3]\u001B[0m, in \u001B[0;36m<cell line: 1>\u001B[1;34m()\u001B[0m\n\u001B[1;32m----> 1\u001B[0m f \u001B[38;5;241m=\u001B[39m \u001B[43ma_very_simple_decorator\u001B[49m(songs)\n\u001B[0;32m      2\u001B[0m f(\u001B[38;5;124m'\u001B[39m\u001B[38;5;124mYesterday\u001B[39m\u001B[38;5;124m'\u001B[39m, \u001B[38;5;124m'\u001B[39m\u001B[38;5;124mLet It Be\u001B[39m\u001B[38;5;124m'\u001B[39m, \u001B[38;5;124m'\u001B[39m\u001B[38;5;124mCry For No One\u001B[39m\u001B[38;5;124m'\u001B[39m)\n",
      "\u001B[1;31mNameError\u001B[0m: name 'a_very_simple_decorator' is not defined"
     ]
    }
   ],
   "source": [
    "f = a_very_simple_decorator(songs)\n",
    "f('Yesterday', 'Let It Be', 'Cry For No One')"
   ],
   "metadata": {
    "collapsed": false,
    "pycharm": {
     "name": "#%%\n"
    }
   }
  },
  {
   "cell_type": "code",
   "execution_count": null,
   "outputs": [],
   "source": [
    "songs = a_very_simple_decorator(songs)\n",
    "songs('Yesterday', 'Let It Be', 'Cry For No One')\n",
    "print()\n",
    "songs()"
   ],
   "metadata": {
    "collapsed": false,
    "pycharm": {
     "name": "#%%\n"
    }
   }
  },
  {
   "cell_type": "markdown",
   "source": [
    "## The decorator pattern"
   ],
   "metadata": {
    "collapsed": false,
    "pycharm": {
     "name": "#%% md\n"
    }
   }
  },
  {
   "cell_type": "code",
   "execution_count": null,
   "outputs": [],
   "source": [
    "# import functools\n",
    "# def decorator(f_to_decorate):\n",
    "#     @functools.wraps(f_to_decorate)\t\t\t      # preserves a function's identity after it is decorated\n",
    "#     def wrapper_decorator(*args, **kwargs):         # see https://stackoverflow.com/a/309000/1899061 for details\n",
    "#         # Do something before\n",
    "#         value = f_to_decorate(*args, **kwargs)      # (*args, **kwargs) are wrapper_decorator's formal arguments!\n",
    "#         # Do something after\n",
    "#         return value\n",
    "#     return wrapper_decorator"
   ],
   "metadata": {
    "collapsed": false,
    "pycharm": {
     "name": "#%%\n"
    }
   }
  },
  {
   "cell_type": "markdown",
   "source": [
    "An example decorator function: when printing a band name, print also its members and other details (if available)."
   ],
   "metadata": {
    "collapsed": false,
    "pycharm": {
     "name": "#%% md\n"
    }
   }
  },
  {
   "cell_type": "code",
   "execution_count": 6,
   "outputs": [],
   "source": [
    "def band_details(f_to_decorate):\n",
    "    \"\"\"Demonstrates how to develop a decorator using the decorator pattern (https://stackoverflow.com/a/3394911/1899061)\n",
    "    \"\"\"\n",
    "\n"
   ],
   "metadata": {
    "collapsed": false,
    "pycharm": {
     "name": "#%%\n"
    }
   }
  },
  {
   "cell_type": "markdown",
   "source": [
    "A simple function to apply the `@members` decorator to:"
   ],
   "metadata": {
    "collapsed": false,
    "pycharm": {
     "name": "#%% md\n"
    }
   }
  },
  {
   "cell_type": "code",
   "execution_count": 7,
   "outputs": [],
   "source": [
    "@band_details\n",
    "def print_band(name, *members, **years_active):\n",
    "    \"\"\"Prints the name and the members of a band, assuming that both name and *members are strings.\n",
    "    The decorator before the function signature (@members) illustrates how to apply a decorator;\n",
    "    omit it if decorating manually.\n",
    "    \"\"\"\n",
    "\n",
    "    print(name)"
   ],
   "metadata": {
    "collapsed": false,
    "pycharm": {
     "name": "#%%\n"
    }
   }
  },
  {
   "cell_type": "markdown",
   "source": [
    "And now decorate it:"
   ],
   "metadata": {
    "collapsed": false,
    "pycharm": {
     "name": "#%% md\n"
    }
   }
  },
  {
   "cell_type": "code",
   "execution_count": null,
   "outputs": [],
   "source": [
    "print_band('The Beatles', *the_beatles, )\n",
    "print_band('The Beatles', start=1962, end=1970)\n",
    "print_band('The Beatles', *the_beatles, start=1962, end=1970)"
   ],
   "metadata": {
    "collapsed": false,
    "pycharm": {
     "name": "#%%\n"
    }
   }
  },
  {
   "cell_type": "markdown",
   "source": [
    "Demonstrate the purpose of @functools.wraps(f_to_decorate):"
   ],
   "metadata": {
    "collapsed": false,
    "pycharm": {
     "name": "#%% md\n"
    }
   }
  },
  {
   "cell_type": "code",
   "execution_count": null,
   "outputs": [],
   "source": [
    "# Run the following line with and without @functools.wraps(f_to_decorate) in the decorator\n",
    "print(print_band.__name__)"
   ],
   "metadata": {
    "collapsed": false,
    "pycharm": {
     "name": "#%%\n"
    }
   }
  }
 ],
 "metadata": {
  "kernelspec": {
   "display_name": "Python 3",
   "language": "python",
   "name": "python3"
  },
  "language_info": {
   "codemirror_mode": {
    "name": "ipython",
    "version": 2
   },
   "file_extension": ".py",
   "mimetype": "text/x-python",
   "name": "python",
   "nbconvert_exporter": "python",
   "pygments_lexer": "ipython2",
   "version": "2.7.6"
  }
 },
 "nbformat": 4,
 "nbformat_minor": 0
}