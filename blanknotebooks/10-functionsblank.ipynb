{
 "cells": [
  {
   "cell_type": "markdown",
   "source": [
    "# Functions\n",
    "The notebook created after the *functions* module.\n",
    "\n",
    "Demonstrates details of writing Python functions: annotations, positional arguments, flexible argument lists, default args, kwargs."
   ],
   "metadata": {
    "collapsed": false,
    "pycharm": {
     "name": "#%% md\n"
    }
   }
  },
  {
   "cell_type": "markdown",
   "source": [
    "## Setup / Data"
   ],
   "metadata": {
    "collapsed": false,
    "pycharm": {
     "name": "#%% md\n"
    }
   }
  },
  {
   "cell_type": "code",
   "execution_count": null,
   "outputs": [],
   "source": [
    "song = 'Oh! Darling'\n",
    "year = 1969\n",
    "\n",
    "john = 'John Lennon'\n",
    "paul = 'Paul McCartney'\n",
    "george = 'George Harrison'\n",
    "ringo = 'Ringo Starr'\n",
    "the_beatles = [john, paul, george, ringo]"
   ],
   "metadata": {
    "collapsed": false,
    "pycharm": {
     "name": "#%%\n"
    }
   }
  },
  {
   "cell_type": "markdown",
   "source": [
    "## Annotations\n",
    "Define a simple function to demonstrate using annotations and the `__annotations__` attribute."
   ],
   "metadata": {
    "collapsed": false,
    "pycharm": {
     "name": "#%% md\n"
    }
   }
  },
  {
   "cell_type": "code",
   "execution_count": null,
   "outputs": [],
   "source": [
    "# def demonstrate_annotations(title, year):\n",
    "def demonstrate_annotations(title: str, year: int) -> str:\n",
    "    \"\"\"Demonstrates how to use annotations of\n",
    "    function parameters/arguments (<arg>: <type>) and of function return type (def f(...) -> <type>:).\n",
    "    - print the function parameters/arguments\n",
    "    - print the value of the __annotations__ attribute of this function\n",
    "    - print the name and the docstring of this function\n",
    "    - return a formatted string (including function parameters/arguments)\n",
    "    \"\"\"\n",
    "\n"
   ],
   "metadata": {
    "collapsed": false,
    "pycharm": {
     "name": "#%%\n"
    }
   }
  },
  {
   "cell_type": "code",
   "execution_count": null,
   "outputs": [],
   "source": [
    "print(demonstrate_annotations(song, year))"
   ],
   "metadata": {
    "collapsed": false,
    "pycharm": {
     "name": "#%%\n"
    }
   }
  },
  {
   "cell_type": "markdown",
   "source": [
    "## Default arguments and *locals()*\n",
    "Define a simple function to demonstrate using default arguments and the `locals()` built-in function."
   ],
   "metadata": {
    "collapsed": false,
    "pycharm": {
     "name": "#%% md\n"
    }
   }
  },
  {
   "cell_type": "code",
   "execution_count": null,
   "outputs": [],
   "source": [
    "# def show_song(title, author='Paul McCartney', year: int = 1969):\n",
    "def show_song(title, author='Paul McCartney', year=1969):\n",
    "\n",
    "    \"\"\"Demonstrates default arguments/parameters.\n",
    "    - print locals()\n",
    "    - print the function arguments/parameters in one line\n",
    "    \"\"\"\n",
    "\n"
   ],
   "metadata": {
    "collapsed": false,
    "pycharm": {
     "name": "#%%\n"
    }
   }
  },
  {
   "cell_type": "code",
   "execution_count": null,
   "outputs": [],
   "source": [
    "show_song(song)"
   ],
   "metadata": {
    "collapsed": false,
    "pycharm": {
     "name": "#%%\n"
    }
   }
  },
  {
   "cell_type": "markdown",
   "source": [
    "## Flexible argument list\n",
    "Define a simple function to demonstrate using a flexible argument list (0 or more arguments). Such arguments (if any) *must* come after positional arguments (if any) in the function signature.\n",
    "\n",
    "*Important:* flexible argument lists are internally represented as tuples, and that fact is often used in function bodies."
   ],
   "metadata": {
    "collapsed": false,
    "pycharm": {
     "name": "#%% md\n"
    }
   }
  },
  {
   "cell_type": "code",
   "execution_count": null,
   "outputs": [],
   "source": [
    "def use_flexible_arg_list(band: str, *members):\n",
    "    \"\"\"Demonstrates flexible number of arguments/parameters.\n",
    "    - print the band name and the list of band members in one line\n",
    "    \"\"\"\n",
    "\n"
   ],
   "metadata": {
    "collapsed": false,
    "pycharm": {
     "name": "#%%\n"
    }
   }
  },
  {
   "cell_type": "code",
   "execution_count": null,
   "outputs": [],
   "source": [
    "    use_flexible_arg_list('The Beatles', *the_beatles)\n",
    "    # use_flexible_arg_list('The Beatles')"
   ],
   "metadata": {
    "collapsed": false,
    "pycharm": {
     "name": "#%%\n"
    }
   }
  },
  {
   "cell_type": "markdown",
   "source": [
    "## Keyword arguments - kwargs\n",
    "Define a simple function to demonstrate using kwargs and all other kinds of arguments.\n",
    "\n",
    "When using all kinds of arguments, their mandatory order in the function signature is:\n",
    "1. formal positional arguments\n",
    "2. *args\n",
    "3. keyword (default) arguments\n",
    "4. **kwargs\n",
    "\n",
    "*Important:* kwargs are internally represented as dictionaries, and that fact is often used in function bodies."
   ],
   "metadata": {
    "collapsed": false,
    "pycharm": {
     "name": "#%% md\n"
    }
   }
  },
  {
   "cell_type": "code",
   "execution_count": null,
   "outputs": [],
   "source": [
    "def use_all_categories_of_args(band, *members, is_active=True, **details):\n",
    "    \"\"\"Demonstrates positional args, flexible args, keyword args, and kwargs (flexible keyword args).\n",
    "    - print all arguments/parameters, including the keyword arguments/parameters, in one line\n",
    "    \"\"\"\n",
    "\n"
   ],
   "metadata": {
    "collapsed": false,
    "pycharm": {
     "name": "#%%\n"
    }
   }
  },
  {
   "cell_type": "code",
   "execution_count": null,
   "outputs": [],
   "source": [
    "use_all_categories_of_args('The Beatles', is_active=False, start=1962, end=1970)\n",
    "use_all_categories_of_args('The Beatles', *the_beatles, is_active=False, start=1962, end=1970)"
   ],
   "metadata": {
    "collapsed": false,
    "pycharm": {
     "name": "#%%\n"
    }
   }
  }
 ],
 "metadata": {
  "kernelspec": {
   "display_name": "Python 3",
   "language": "python",
   "name": "python3"
  },
  "language_info": {
   "codemirror_mode": {
    "name": "ipython",
    "version": 2
   },
   "file_extension": ".py",
   "mimetype": "text/x-python",
   "name": "python",
   "nbconvert_exporter": "python",
   "pygments_lexer": "ipython2",
   "version": "2.7.6"
  }
 },
 "nbformat": 4,
 "nbformat_minor": 0
}