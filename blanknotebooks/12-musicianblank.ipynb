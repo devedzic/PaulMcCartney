{
 "cells": [
  {
   "cell_type": "markdown",
   "source": [
    "# Musician\n",
    "The notebook created after the *musician* module.\n",
    "\n",
    "Demonstrates domain classes, methods and functions related to the concept of musician, as well as the mandatory `__init__()`, `__str__()` and `__eq__()` methods.\n",
    "\n",
    "Introduces properties, classmethods (`@property`, `@classmethod`) and alternative constructors.\n",
    "\n",
    "Shows how to serialize `Musician` objects to JSON."
   ],
   "metadata": {
    "collapsed": false,
    "pycharm": {
     "name": "#%% md\n"
    }
   }
  },
  {
   "cell_type": "markdown",
   "source": [
    "## Setup / Data"
   ],
   "metadata": {
    "collapsed": false,
    "pycharm": {
     "name": "#%% md\n"
    }
   }
  },
  {
   "cell_type": "code",
   "execution_count": null,
   "outputs": [],
   "source": [
    "from util import utility\n",
    "from music.enums import Vocals, Instrument\n",
    "\n",
    "from testdata.musicians import *\n",
    "\n",
    "import json"
   ],
   "metadata": {
    "collapsed": false,
    "pycharm": {
     "name": "#%%\n"
    }
   }
  },
  {
   "cell_type": "markdown",
   "source": [
    "## The *Musician* class\n",
    "The class describing the concept of musician. It is assumed that a musician is sufficiently described by their name and whether they are a solo musician or a member of a band.\n",
    "\n",
    "Illustrates some important concepts of Python classes:\n",
    "    - `self`\n",
    "    - `__init__()`\n",
    "    - `__str__()`\n",
    "    - `__eq__(self, other)` is an equivalent of Java `equals()` and should be overridden in classes\n",
    "    - `__dict__` attribute of all objects\n",
    "    - data fields (instance variables)\n",
    "    - methods - calling them by `self.<method>(...)` from the same class where they are defined\n"
   ],
   "metadata": {
    "collapsed": false,
    "pycharm": {
     "name": "#%% md\n"
    }
   }
  },
  {
   "cell_type": "markdown",
   "source": [
    "Properties are 'private' fields/attributes. They allow programmers to create methods that behave like attributes. With properties, one can change how they compute the target attribute whenever they need to do so. See [here](https://realpython.com/python-property/) for a more detailed explanation.\n",
    "\n",
    "In general, avoid turning attributes that don’t require extra processing into properties. Using properties in those situations can make the code unnecessarily verbose, confusing and slower than code based on regular attributes."
   ],
   "metadata": {
    "collapsed": false,
    "pycharm": {
     "name": "#%% md\n"
    }
   }
  },
  {
   "cell_type": "code",
   "execution_count": null,
   "outputs": [],
   "source": [
    "class Musician:\n",
    "    \"\"\"The class describing the concept of musician.\n",
    "    It is assumed that a musician is sufficiently described by their\n",
    "    name and whether they are a solo musician or a member of a band.\n",
    "\n",
    "    This class illustrates some important concepts of Python classes:\n",
    "    - self\n",
    "    - __init__()\n",
    "    - __str__()\n",
    "    - __eq__(self, other) is the equivalent of Java equals() and should be overridden in classes\n",
    "    - __dict__ attribute of all objects\n",
    "    - data fields (instance variables)\n",
    "    - methods - calling them by self.<method>(...) from the same class where they are defined\n",
    "    \"\"\"\n",
    "\n",
    "    def __init__(self, name, is_band_member=True):\n",
    "        # self.__n = 'lll'                                    # 'private' field\n",
    "        pass\n",
    "\n",
    "    def __str__(self):\n",
    "        pass\n",
    "\n",
    "    def __eq__(self, other):\n",
    "        pass\n",
    "\n",
    "    # Properties: 'private' fields/attributes:\n",
    "    #   @property\n",
    "    #   def <attr>(self):\n",
    "    #       \"\"\" The docstring for <attr> must go here.\"\"\"\n",
    "    #       return self.__<attr>\n",
    "    #   @<attr>.setter\n",
    "    #   def <attr>(self, <attr>):\n",
    "    #       self.__<attr> = <attr> if ... else ...\n",
    "    #   @<attr>.deleter\n",
    "    #   def <attr>(self, <attr>):\n",
    "    #       del self.__<attr>\n",
    "\n",
    "    # Properties allow programmers to create methods that behave like attributes.\n",
    "    # With properties, one can change how they compute the target attribute whenever they need to do so.\n",
    "    # A more detailed explanation: https://realpython.com/python-property/.\n",
    "    # In general, avoid turning attributes that don’t require extra processing into properties.\n",
    "    # Using properties in those situations can make the code unnecessarily verbose, confusing and slower\n",
    "    # than code based on regular attributes.\n",
    "\n",
    "    # Make name a property (after setting up __init__(), __str__(), __eq__(), methods,...)\n",
    "\n",
    "    # Run setters and getters in the debugger\n",
    "\n",
    "    @property\n",
    "    def name(self):\n",
    "        pass\n",
    "\n",
    "    @name.setter\n",
    "    def name(self, name):\n",
    "        pass\n",
    "\n",
    "    # Add an immutable property (no setter for it)\n",
    "    @property\n",
    "    def immutable_property(self):\n",
    "        pass\n",
    "\n",
    "    def play(self, song_title, *args, **kwargs):\n",
    "        \"\"\"Assumes that song_title, *args (expressions of gratitude) and kwargs.values() (messages) are strings.\n",
    "        Prints song_title, rhythm counts, expressions of gratitude and messages. A call example:\n",
    "            <musician>.play(song_title, *['Thank you!', 'You're wonderful!], love='We love you!')\n",
    "        Convention: if rhythm count is provided, it is passed as rhythm_count='...' and is the first kwarg.\n",
    "        \"\"\"\n",
    "\n",
    "        pass\n",
    "\n",
    "    def play_song(self, song_title, *args, **kwargs):\n",
    "        \"\"\"Demonstrates calling another method from the same class (self.<method>(...) as a mandatory syntax).\n",
    "        \"\"\"\n",
    "\n",
    "        pass\n",
    "\n",
    "    # Alternative constructor\n",
    "    @classmethod\n",
    "    def from_str(cls, musician_string):\n",
    "        \"\"\"Inverted __str__() method.\n",
    "        Assumes that musician_string is in the format generated by __str__().\n",
    "        \"\"\"\n",
    "\n",
    "        pass"
   ],
   "metadata": {
    "collapsed": false,
    "pycharm": {
     "name": "#%%\n"
    }
   }
  },
  {
   "cell_type": "markdown",
   "source": [
    "#### Printing objects"
   ],
   "metadata": {
    "collapsed": false,
    "pycharm": {
     "name": "#%% md\n"
    }
   }
  },
  {
   "cell_type": "code",
   "execution_count": null,
   "outputs": [],
   "source": [],
   "metadata": {
    "collapsed": false,
    "pycharm": {
     "name": "#%%\n"
    }
   }
  },
  {
   "cell_type": "markdown",
   "source": [
    "#### Running setters and getters\n",
    "Make sure to run them in the debugger as well."
   ],
   "metadata": {
    "collapsed": false,
    "pycharm": {
     "name": "#%% md\n"
    }
   }
  },
  {
   "cell_type": "code",
   "execution_count": null,
   "outputs": [],
   "source": [],
   "metadata": {
    "collapsed": false,
    "pycharm": {
     "name": "#%%\n"
    }
   }
  },
  {
   "cell_type": "markdown",
   "source": [
    "#### Comparing objects"
   ],
   "metadata": {
    "collapsed": false,
    "pycharm": {
     "name": "#%% md\n"
    }
   }
  },
  {
   "cell_type": "code",
   "execution_count": null,
   "outputs": [],
   "source": [],
   "metadata": {
    "collapsed": false,
    "pycharm": {
     "name": "#%%\n"
    }
   }
  },
  {
   "cell_type": "markdown",
   "source": [
    "#### Accessing data fields/attributes\n",
    "Access data fields/attributes (instance variables), including 'private' ones (`<object>._Musician__n`), 'protected' ones (`<object>._Musician__m`) and\n",
    "immutable ones (`<object>.immutable_property`)."
   ],
   "metadata": {
    "collapsed": false,
    "pycharm": {
     "name": "#%% md\n"
    }
   }
  },
  {
   "cell_type": "code",
   "execution_count": null,
   "outputs": [],
   "source": [],
   "metadata": {
    "collapsed": false,
    "pycharm": {
     "name": "#%%\n"
    }
   }
  },
  {
   "cell_type": "markdown",
   "source": [
    "\n",
    "#### Adding new data fields/attributes to an object \"on the fly\"\n",
    "It is possible to add new data fields (instance variables) to an object after it is created. There are three ways to do it:\n",
    "1. `<object>.<new_attr> = <value>`\n",
    "2. `<object>.__setattr__('<new_attr>', <value>)`&nbsp;&nbsp;&nbsp;&nbsp;# counterpart: `<object>.__getattribute__('<attr>')`\n",
    "3. `setattr(<object>, '<new_attr>', <value>))`&nbsp;&nbsp;&nbsp;&nbsp;&nbsp;&nbsp;&nbsp;&nbsp;# counterpart: `getattr(<object>, '<attr>')`"
   ],
   "metadata": {
    "collapsed": false,
    "pycharm": {
     "name": "#%% md\n"
    }
   }
  },
  {
   "cell_type": "code",
   "execution_count": null,
   "outputs": [],
   "source": [],
   "metadata": {
    "collapsed": false,
    "pycharm": {
     "name": "#%%\n"
    }
   }
  },
  {
   "cell_type": "markdown",
   "source": [
    "#### Calling methods"
   ],
   "metadata": {
    "collapsed": false,
    "pycharm": {
     "name": "#%% md\n"
    }
   }
  },
  {
   "cell_type": "code",
   "execution_count": null,
   "outputs": [],
   "source": [],
   "metadata": {
    "collapsed": false,
    "pycharm": {
     "name": "#%%\n"
    }
   }
  },
  {
   "cell_type": "markdown",
   "source": [
    "#### General object data fields and methods"
   ],
   "metadata": {
    "collapsed": false,
    "pycharm": {
     "name": "#%% md\n"
    }
   }
  },
  {
   "cell_type": "markdown",
   "source": [
    "Demonstrate object data fields and methods in Python Console for some built-in classes (`boolean`, `int`, `object`,...):\n",
    "- `True + 1`\n",
    "- `True.__int__()`\n",
    "- `(1).__class__.__name__`\n",
    "- `(1).__class__`\n",
    "- `o.__dir__()`\n",
    "- `o.__dir__`\n",
    "- `o.__dict_`"
   ],
   "metadata": {
    "collapsed": false,
    "pycharm": {
     "name": "#%% md\n"
    }
   }
  },
  {
   "cell_type": "code",
   "execution_count": null,
   "outputs": [],
   "source": [],
   "metadata": {
    "collapsed": false,
    "pycharm": {
     "name": "#%%\n"
    }
   }
  },
  {
   "cell_type": "markdown",
   "source": [
    "Demonstrate object data fields and methods for `Musician` objects:"
   ],
   "metadata": {
    "collapsed": false,
    "pycharm": {
     "name": "#%% md\n"
    }
   }
  },
  {
   "cell_type": "code",
   "execution_count": null,
   "outputs": [],
   "source": [],
   "metadata": {
    "collapsed": false,
    "pycharm": {
     "name": "#%%\n"
    }
   }
  },
  {
   "cell_type": "markdown",
   "source": [
    "Demonstrate `@classmethod`s (`from_str()`)"
   ],
   "metadata": {
    "collapsed": false,
    "pycharm": {
     "name": "#%% md\n"
    }
   }
  },
  {
   "cell_type": "code",
   "execution_count": null,
   "outputs": [],
   "source": [],
   "metadata": {
    "collapsed": false,
    "pycharm": {
     "name": "#%%\n"
    }
   }
  },
  {
   "cell_type": "markdown",
   "source": [
    "## Inheritance\n",
    "#### Class *Singer*\n",
    "A `Singer` is sufficiently described as a `Musician`, with the addition of whether they are a lead or a background singer."
   ],
   "metadata": {
    "collapsed": false,
    "pycharm": {
     "name": "#%% md\n"
    }
   }
  },
  {
   "cell_type": "code",
   "execution_count": null,
   "outputs": [],
   "source": [
    "class Singer(Musician):\n",
    "    \"\"\"The class describing the concept of singer.\n",
    "    It is assumed that a singer is sufficiently described as a Musician,\n",
    "    with the addition of whether they are a lead or a background singer.\n",
    "\n",
    "    Useful link (related to inheritance in Python):\n",
    "    https://stackoverflow.com/questions/3394835/use-of-args-and-kwargs/3394902#3394902 (calling super() in constructors)\n",
    "    \"\"\"\n",
    "\n",
    "    # # Version 1 - no multiple inheritance\n",
    "    # def __init__(self, name, vocals, is_band_member=True, ):\n",
    "    #     super().__init__(name, is_band_member)\n",
    "    #     self.vocals = vocals if isinstance(vocals, Vocals) else None\n",
    "\n",
    "    # Version 2 - with multiple inheritance\n",
    "    def __init__(self, vocals=Vocals.LEAD_VOCALS, **kwargs):\n",
    "        pass\n",
    "\n",
    "    def __str__(self):\n",
    "        pass\n",
    "\n",
    "    def __eq__(self, other):\n",
    "        # Recommended if inheritance is involved\n",
    "        # (https://stackoverflow.com/questions/390250/elegant-ways-to-support-equivalence-equality-in-python-classes):\n",
    "        # if type(other) is type(self):\n",
    "        #     return self.__dict__ == other.__dict__\n",
    "        # return False\n",
    "\n",
    "        pass\n",
    "\n",
    "    def play(self, song_title, *args, **kwargs):\n",
    "        \"\"\"Overrides the play() method from superclass.\n",
    "        In addition to printing song_title, expressions of gratitude and messages,\n",
    "        it also prints an additional message in the end.\n",
    "        A call example:\n",
    "            <singer>.play(song_title, *['Thank you!', 'You're wonderful!], love='We love you!')\n",
    "        \"\"\"\n",
    "\n",
    "        pass"
   ],
   "metadata": {
    "collapsed": false,
    "pycharm": {
     "name": "#%%\n"
    }
   }
  },
  {
   "cell_type": "markdown",
   "source": [
    "#### Class *Songwriter*\n",
    "A `Songwriter` is sufficiently described as a `Musician` who writes songs and plays an instrument."
   ],
   "metadata": {
    "collapsed": false,
    "pycharm": {
     "name": "#%% md\n"
    }
   }
  },
  {
   "cell_type": "code",
   "execution_count": null,
   "outputs": [],
   "source": [
    "class Songwriter(Musician):\n",
    "    \"\"\"The class describing the concept of songwriter.\n",
    "    It is assumed that a songwriter is sufficiently described as a musician\n",
    "    who writes songs and plays an instrument.\n",
    "    \"\"\"\n",
    "\n",
    "    # # Version 1 - no multiple inheritance\n",
    "    # def __init__(self, name, instrument, is_band_member=True):\n",
    "    #     super().__init__(name, is_band_member)\n",
    "    #     self.instrument = instrument if isinstance(instrument, Instrument) else None\n",
    "\n",
    "    # Version 2 - with multiple inheritance\n",
    "    def __init__(self, instrument=Instrument.RHYTHM_GUITAR, **kwargs):\n",
    "        pass\n",
    "\n",
    "    def __str__(self):\n",
    "        pass\n",
    "\n",
    "    def __eq__(self, other):\n",
    "        # Recommended if inheritance is involved\n",
    "        # (https://stackoverflow.com/questions/390250/elegant-ways-to-support-equivalence-equality-in-python-classes):\n",
    "        # if type(other) is type(self):\n",
    "        #     return self.__dict__ == other.__dict__\n",
    "        # return False\n",
    "\n",
    "        pass\n",
    "\n",
    "    def what_do_you_do(self):\n",
    "        \"\"\"Just a simple method to describe the concept of songwriter.\n",
    "        \"\"\"\n",
    "\n",
    "        pass"
   ],
   "metadata": {
    "collapsed": false,
    "pycharm": {
     "name": "#%%\n"
    }
   }
  },
  {
   "cell_type": "markdown",
   "source": [
    "#### Demonstrate inheritance\n",
    "* the `object` class (like the `Object` class in Java; all classes inherit from `object`\n",
    "* try, e.g., list.__mro__ in the console\n",
    "* the `object` class defines `object.__eq__(self, other)` etc.\n",
    "* `object.__ne__(self, other)`, the inverse of `object.__eq__(self, other)`, is provided by Python automatically once `object.__eq__(self, other)` is implemented."
   ],
   "metadata": {
    "collapsed": false,
    "pycharm": {
     "name": "#%% md\n"
    }
   }
  },
  {
   "cell_type": "code",
   "execution_count": null,
   "outputs": [],
   "source": [
    "# Version 1 - no multiple inheritance\n",
    "pass"
   ],
   "metadata": {
    "collapsed": false,
    "pycharm": {
     "name": "#%%\n"
    }
   }
  },
  {
   "cell_type": "code",
   "execution_count": null,
   "outputs": [],
   "source": [
    "# Version 2 - with multiple inheritance\n",
    "pass"
   ],
   "metadata": {
    "collapsed": false,
    "pycharm": {
     "name": "#%%\n"
    }
   }
  },
  {
   "cell_type": "markdown",
   "source": [
    "#### Demonstrate method overriding"
   ],
   "metadata": {
    "collapsed": false,
    "pycharm": {
     "name": "#%% md\n"
    }
   }
  },
  {
   "cell_type": "code",
   "execution_count": null,
   "outputs": [],
   "source": [],
   "metadata": {
    "collapsed": false,
    "pycharm": {
     "name": "#%%\n"
    }
   }
  },
  {
   "cell_type": "markdown",
   "source": [
    "#### Multiple inheritance - the *SingerSongwriter* class\n",
    "A `SingerSongwriter` object represents a singer-songwriter, who is sufficiently described as a `Singer` who is simultaneously a `Songwriter`."
   ],
   "metadata": {
    "collapsed": false,
    "pycharm": {
     "name": "#%% md\n"
    }
   }
  },
  {
   "cell_type": "code",
   "execution_count": null,
   "outputs": [],
   "source": [
    "class SingerSongwriter(Singer, Songwriter):\n",
    "    \"\"\"The class describing the concept of singer-songwriter.\n",
    "    It is assumed that a singer-songwriter is sufficiently described as a Singer who is simultaneously a Songwriter.\n",
    "\n",
    "    Useful links :\n",
    "    https://stackoverflow.com/a/50465583/1899061 (designing classes (i.e. their __init__() methods) for multiple inh.)\n",
    "    https://stackoverflow.com/a/533675/1899061 (mixins explained, and what good they are in multiple inheritance)\n",
    "    \"\"\"\n",
    "\n",
    "    def __init__(self, **kwargs):\n",
    "        pass\n",
    "\n",
    "    def __str__(self):\n",
    "        pass\n",
    "\n",
    "    def __eq__(self, other):\n",
    "        # Recommended if inheritance is involved\n",
    "        # (https://stackoverflow.com/questions/390250/elegant-ways-to-support-equivalence-equality-in-python-classes):\n",
    "        # if type(other) is type(self):\n",
    "        #     return self.__dict__ == other.__dict__\n",
    "        # return False\n",
    "\n",
    "        pass"
   ],
   "metadata": {
    "collapsed": false,
    "pycharm": {
     "name": "#%%\n"
    }
   }
  },
  {
   "cell_type": "markdown",
   "source": [
    "Demonstrate multiple inheritance and MRO. Make sure to read [this](https://stackoverflow.com/a/50465583/1899061) (especially Scenario 3)."
   ],
   "metadata": {
    "collapsed": false,
    "pycharm": {
     "name": "#%% md\n"
    }
   }
  },
  {
   "cell_type": "code",
   "execution_count": null,
   "outputs": [],
   "source": [],
   "metadata": {
    "collapsed": false,
    "pycharm": {
     "name": "#%%\n"
    }
   }
  },
  {
   "cell_type": "markdown",
   "source": [
    "## JSON\n",
    "The traditional way to work with JSON would be something like the following class and functions:"
   ],
   "metadata": {
    "collapsed": false,
    "pycharm": {
     "name": "#%% md\n"
    }
   }
  },
  {
   "cell_type": "code",
   "execution_count": null,
   "outputs": [],
   "source": [
    "class MusicianEncoder(json.JSONEncoder):\n",
    "    \"\"\"JSON encoder for Musician objects (cls= parameter in json.dumps()).\n",
    "    \"\"\"\n",
    "\n",
    "    def default(self, musician):\n",
    "        # recommendation: always use double quotes with JSON\n",
    "\n",
    "        pass\n",
    "        # can simply return musician_py_to_json(musician), to avoid code duplication\n",
    "\n",
    "\n",
    "def musician_py_to_json(musician):\n",
    "    \"\"\"JSON encoder for Musician objects (default= parameter in json.dumps()).\n",
    "    \"\"\"\n",
    "\n",
    "    # recommendation: always use double quotes with JSON\n",
    "\n",
    "\n",
    "def musician_json_to_py(musician_json):\n",
    "    \"\"\"JSON decoder for Musician objects (object_hook= parameter in json.loads()).\n",
    "    \"\"\""
   ],
   "metadata": {
    "collapsed": false,
    "pycharm": {
     "name": "#%%\n"
    }
   }
  },
  {
   "cell_type": "markdown",
   "source": [
    "Demonstrate JSON encoding/decoding of simple data types.\n",
    "Refer to [this section in the Standard Library](https://docs.python.org/3.3/library/json.html#encoders-and-decoders) for details."
   ],
   "metadata": {
    "collapsed": false,
    "pycharm": {
     "name": "#%% md\n"
    }
   }
  },
  {
   "cell_type": "code",
   "execution_count": null,
   "outputs": [],
   "source": [],
   "metadata": {
    "collapsed": false,
    "pycharm": {
     "name": "#%%\n"
    }
   }
  },
  {
   "cell_type": "markdown",
   "source": [
    "It is much more complicated with classes, objects, dates, etc. However, with the `json_tricks` module (from the external `json-tricks` library) the things are largely simplified.\n",
    "\n",
    "From the [json-tricks external package](https://github.com/mverleg/pyjson_tricks) documentation:\n",
    "\n",
    "The JSON string resulting from applying the `json_tricks.dumps()` function stores the module and class name. The class must be importable from the same module when decoding (and should not have changed). If it isn't, you have to manually provide a dictionary to `cls_lookup_map` when loading in which the class name can be looked up. Note that if the class is imported, then `globals()` is such a dictionary (so try `loads(json, cls_lookup_map=glboals()))`.\n",
    "\n",
    "Also note that if the class is defined in the 'top' script (that you're calling directly), then this isn't a module and the import part cannot be extracted. Only the class name will be stored; it can then only be deserialized in the same script, or if you provide `cls_lookup_map`.\n",
    "\n",
    "That's why the following warning appears when serializing Band objects in this script:\n",
    "\n",
    "UserWarning: class <class '__main__.Musician'> seems to have been defined in the main file;\n",
    "unfortunately this means that it's module/import path is unknown,\n",
    "so you might have to provide cls_lookup_map when decoding.\n"
   ],
   "metadata": {
    "collapsed": false,
    "pycharm": {
     "name": "#%% md\n"
    }
   }
  },
  {
   "cell_type": "markdown",
   "source": [
    "JSON encoding of `Musician` objects using `json_tricks`:"
   ],
   "metadata": {
    "collapsed": false,
    "pycharm": {
     "name": "#%% md\n"
    }
   }
  },
  {
   "cell_type": "code",
   "execution_count": null,
   "outputs": [],
   "source": [
    "from json_tricks import loads, dumps"
   ],
   "metadata": {
    "collapsed": false,
    "pycharm": {
     "name": "#%%\n"
    }
   }
  },
  {
   "cell_type": "code",
   "execution_count": null,
   "outputs": [],
   "source": [
    "# Single object\n"
   ],
   "metadata": {
    "collapsed": false,
    "pycharm": {
     "name": "#%%\n"
    }
   }
  },
  {
   "cell_type": "code",
   "execution_count": null,
   "outputs": [],
   "source": [
    "# List of objects\n"
   ],
   "metadata": {
    "collapsed": false,
    "pycharm": {
     "name": "#%%\n"
    }
   }
  }
 ],
 "metadata": {
  "kernelspec": {
   "display_name": "Python 3",
   "language": "python",
   "name": "python3"
  },
  "language_info": {
   "codemirror_mode": {
    "name": "ipython",
    "version": 2
   },
   "file_extension": ".py",
   "mimetype": "text/x-python",
   "name": "python",
   "nbconvert_exporter": "python",
   "pygments_lexer": "ipython2",
   "version": "2.7.6"
  }
 },
 "nbformat": 4,
 "nbformat_minor": 0
}