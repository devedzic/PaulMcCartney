{
 "cells": [
  {
   "cell_type": "markdown",
   "source": [
    "# Band\n",
    "The notebook created after the *band* module.\n",
    "\n",
    "Demonstrates domain classes, methods and functions related to the concept of musical band, as well as the mandatory `__init__()`, `__str__()` and `__eq__()` methods. The `__eq__()` method notes the problem of comparing unhashable objects.\n",
    "\n",
    "Introduces static fields/attributes and static methods (`@staticmethod`).\n",
    "\n",
    "Illustrates iterators and generators.\n",
    "\n",
    "Shows how to serialize `Band` objects to JSON."
   ],
   "metadata": {
    "collapsed": false,
    "pycharm": {
     "name": "#%% md\n"
    }
   }
  },
  {
   "cell_type": "markdown",
   "source": [
    "## Setup / Data"
   ],
   "metadata": {
    "collapsed": false,
    "pycharm": {
     "name": "#%% md\n"
    }
   }
  },
  {
   "cell_type": "code",
   "execution_count": null,
   "outputs": [],
   "source": [
    "from datetime import date, datetime, time\n",
    "from pathlib import Path\n",
    "import json\n",
    "import sys\n",
    "import pickle\n",
    "\n",
    "from music.musician import Musician\n",
    "from util.utility import format_date, get_data_dir, get_project_dir\n",
    "from settings import PROJECT_DIR, DATA_DIR\n",
    "\n",
    "from testdata.musicians import *"
   ],
   "metadata": {
    "collapsed": false,
    "pycharm": {
     "name": "#%%\n"
    }
   }
  },
  {
   "cell_type": "markdown",
   "source": [
    "## The *Band* class\n",
    "The class describing the concept of musical band. It is assumed that a musician is sufficiently described by their name and whether they are a solo musician or a member of a band. It includes a list of `Musician` objects (band members) and the dates when the band started/stopped performing together.\n",
    "\n",
    "Introduces `@staticmethod`s, iterators (the `__iter__()` and `__next__()` methods) and generators. Implicitly introduces exception handling as well (in demonstrating iterators and generators)."
   ],
   "metadata": {
    "collapsed": false,
    "pycharm": {
     "name": "#%% md\n"
    }
   }
  },
  {
   "cell_type": "code",
   "execution_count": null,
   "outputs": [],
   "source": [
    "class Band():\n",
    "    \"\"\"The class describing the concept of a music group/band.\n",
    "    It includes a list of Musician objects (band members)\n",
    "    and the dates when the band started/stopped performing together.\n",
    "    \"\"\"\n",
    "\n",
    "    # Class variables: like static fields in Java; typically defined and initialized before __init__()\n",
    "    # Insert a class variable (static field), such as genres, date_pattern,...\n",
    "\n",
    "    def __init__(self, name, *members, start=date.today(), end=date.today()):\n",
    "        pass                                            # introduce and initialize iterator counter, self.__i\n",
    "\n",
    "        # Code to check if the band name is specified correctly (possibly raises BandNameError)\n",
    "\n",
    "    def __str__(self):\n",
    "        pass\n",
    "\n",
    "    def __eq__(self, other):\n",
    "        # Musician objects are unhashable, so comparing the members tuples from self and other directly does not work;\n",
    "        # see https://stackoverflow.com/a/14721133/1899061, https://stackoverflow.com/a/17236824/1899061\n",
    "        # return self == other if isinstance(other, Band) else False    # No! Musician objects are unhashable!\n",
    "        # However, this works:\n",
    "        # return self.__dict__ == other.__dict__ if isinstance(other, Band) else False\n",
    "\n",
    "        # members must be compared 'both ways', because the two tuples can be of different length\n",
    "\n",
    "        pass\n",
    "\n",
    "    @staticmethod\n",
    "    def is_date_valid(d):\n",
    "        \"\"\"It is assumed that a band does not perform together since more than ~60 years ago.\n",
    "        So, the valid date to denote the start of a band's career is between Jan 01, 1960, and today.\n",
    "        \"\"\"\n",
    "\n",
    "        pass\n",
    "\n",
    "    def __iter__(self):\n",
    "        \"\"\"Once __iter__() and __next__() are implemented in a class,\n",
    "        we can create an iterator object by calling the iter() built-in function on an object of the class,\n",
    "        and then call the next() built-in function on that object.\n",
    "        It is often sufficient to just return self in __iter__(),\n",
    "        if the iterator counter such as self.__i is introduced and initialized in __init__().\n",
    "        Alternatively, the iterator counter (self.__i) is introduced and initialized here.\n",
    "        \"\"\"\n",
    "\n",
    "        # self.__i = 0\n",
    "        return self               # sufficient if the iterator counter is introduced and initialized in __init__()\n",
    "\n",
    "    def __next__(self):\n",
    "        pass"
   ],
   "metadata": {
    "collapsed": false,
    "pycharm": {
     "name": "#%%\n"
    }
   }
  },
  {
   "cell_type": "markdown",
   "source": [
    "#### The basic methods\n",
    "Check the basic methods (`__init__()`, `__str__()`,...) of the `Band` class."
   ],
   "metadata": {
    "collapsed": false,
    "pycharm": {
     "name": "#%% md\n"
    }
   }
  },
  {
   "cell_type": "code",
   "execution_count": null,
   "outputs": [],
   "source": [],
   "metadata": {
    "collapsed": false,
    "pycharm": {
     "name": "#%%\n"
    }
   }
  },
  {
   "cell_type": "markdown",
   "source": [
    "#### Class variables\n",
    "Python class variables are much like `static` fields in Java. They are typically defined and initialized before `__init__()`."
   ],
   "metadata": {
    "collapsed": false,
    "pycharm": {
     "name": "#%% md\n"
    }
   }
  },
  {
   "cell_type": "code",
   "execution_count": null,
   "outputs": [],
   "source": [],
   "metadata": {
    "collapsed": false,
    "pycharm": {
     "name": "#%%\n"
    }
   }
  },
  {
   "cell_type": "markdown",
   "source": [
    "#### Class methods\n",
    "Check the date validator (the `@staticmethod` `is_date_valid(<date>)`)."
   ],
   "metadata": {
    "collapsed": false,
    "pycharm": {
     "name": "#%% md\n"
    }
   }
  },
  {
   "cell_type": "code",
   "execution_count": null,
   "outputs": [],
   "source": [],
   "metadata": {
    "collapsed": false,
    "pycharm": {
     "name": "#%%\n"
    }
   }
  },
  {
   "cell_type": "markdown",
   "source": [
    "#### Iterators\n",
    "Check the iterator defined in the `Band` class. After the iterator is exhausted, repeated attempts to run the iterator fail before the iterator is re-initialized."
   ],
   "metadata": {
    "collapsed": false,
    "pycharm": {
     "name": "#%% md\n"
    }
   }
  },
  {
   "cell_type": "code",
   "execution_count": null,
   "outputs": [],
   "source": [
    "# Repeated attempt to run the iterator fails, because the iterator is exhausted"
   ],
   "metadata": {
    "collapsed": false,
    "pycharm": {
     "name": "#%%\n"
    }
   }
  },
  {
   "cell_type": "markdown",
   "source": [
    "#### Generators\n",
    "Develop a simple generator to demonstrate generator objects and the `yield` command."
   ],
   "metadata": {
    "collapsed": false,
    "pycharm": {
     "name": "#%% md\n"
    }
   }
  },
  {
   "cell_type": "code",
   "execution_count": null,
   "outputs": [],
   "source": [
    "def next_member(band):\n",
    "    \"\"\"Generator that shows members of a band, one at a time.\n",
    "    yield produces a generator object, on which we call the next() built-in function.\n",
    "    A great tutorial on generators: https://realpython.com/introduction-to-python-generators/.\n",
    "    \"\"\"\n",
    "\n",
    "    pass"
   ],
   "metadata": {
    "collapsed": false,
    "pycharm": {
     "name": "#%%\n"
    }
   }
  },
  {
   "cell_type": "code",
   "execution_count": null,
   "outputs": [],
   "source": [],
   "metadata": {
    "collapsed": false,
    "pycharm": {
     "name": "#%%\n"
    }
   }
  },
  {
   "cell_type": "markdown",
   "source": [
    "#### Generator expressions"
   ],
   "metadata": {
    "collapsed": false,
    "pycharm": {
     "name": "#%% md\n"
    }
   }
  },
  {
   "cell_type": "code",
   "execution_count": null,
   "outputs": [],
   "source": [],
   "metadata": {
    "collapsed": false,
    "pycharm": {
     "name": "#%%\n"
    }
   }
  },
  {
   "cell_type": "markdown",
   "source": [
    "## JSON\n",
    "The traditional way to work with JSON would be something like the following class and functions:"
   ],
   "metadata": {
    "collapsed": false,
    "pycharm": {
     "name": "#%% md\n"
    }
   }
  },
  {
   "cell_type": "code",
   "execution_count": null,
   "outputs": [],
   "source": [
    "class BandEncoder(json.JSONEncoder):\n",
    "    \"\"\"JSON encoder for Band objects (cls= parameter in json.dumps()).\n",
    "    \"\"\"\n",
    "\n",
    "    def default(self, band):\n",
    "        # recommendation: always use double quotes with JSON\n",
    "\n",
    "        pass\n",
    "\n",
    "\n",
    "def band_py_to_json(band):\n",
    "    \"\"\"JSON encoder for Band objects (default= parameter in json.dumps()).\n",
    "    \"\"\"\n",
    "\n",
    "\n",
    "def band_json_to_py(band_json):\n",
    "    \"\"\"JSON decoder for Band objects (object_hook= parameter in json.loads()).\n",
    "    \"\"\""
   ],
   "metadata": {
    "collapsed": false,
    "pycharm": {
     "name": "#%%\n"
    }
   }
  },
  {
   "cell_type": "markdown",
   "source": [
    "Demonstrate JSON encoding/decoding of simple data types.\n",
    "Refer to [this section in the Standard Library](https://docs.python.org/3.3/library/json.html#encoders-and-decoders) for details."
   ],
   "metadata": {
    "collapsed": false,
    "pycharm": {
     "name": "#%% md\n"
    }
   }
  },
  {
   "cell_type": "code",
   "execution_count": null,
   "outputs": [],
   "source": [],
   "metadata": {
    "collapsed": false,
    "pycharm": {
     "name": "#%%\n"
    }
   }
  },
  {
   "cell_type": "markdown",
   "source": [
    "It is much more complicated with classes, objects, dates, etc. However, with the `json_tricks` module (from the external `json-tricks` library) the things are largely simplified.\n",
    "\n",
    "From the [json-tricks external package](https://github.com/mverleg/pyjson_tricks) documentation:\n",
    "\n",
    "The JSON string resulting from applying the `json_tricks.dumps()` function stores the module and class name. The class must be importable from the same module when decoding (and should not have changed). If it isn't, you have to manually provide a dictionary to `cls_lookup_map` when loading in which the class name can be looked up. Note that if the class is imported, then `globals()` is such a dictionary (so try `loads(json, cls_lookup_map=glboals()))`.\n",
    "\n",
    "Also note that if the class is defined in the 'top' script (that you're calling directly), then this isn't a module and the import part cannot be extracted. Only the class name will be stored; it can then only be deserialized in the same script, or if you provide `cls_lookup_map`.\n",
    "\n",
    "That's why the following warning appears when serializing Band objects in this script:\n",
    "\n",
    "UserWarning: class <class '__main__.Musician'> seems to have been defined in the main file;\n",
    "unfortunately this means that it's module/import path is unknown,\n",
    "so you might have to provide cls_lookup_map when decoding.\n"
   ],
   "metadata": {
    "collapsed": false,
    "pycharm": {
     "name": "#%% md\n"
    }
   }
  },
  {
   "cell_type": "markdown",
   "source": [
    "JSON encoding of `Band` objects using `json_tricks`:"
   ],
   "metadata": {
    "collapsed": false,
    "pycharm": {
     "name": "#%% md\n"
    }
   }
  },
  {
   "cell_type": "code",
   "execution_count": null,
   "outputs": [],
   "source": [
    "from json_tricks import loads, dumps"
   ],
   "metadata": {
    "collapsed": false,
    "pycharm": {
     "name": "#%%\n"
    }
   }
  },
  {
   "cell_type": "code",
   "execution_count": null,
   "outputs": [],
   "source": [
    "# Single object\n"
   ],
   "metadata": {
    "collapsed": false,
    "pycharm": {
     "name": "#%%\n"
    }
   }
  },
  {
   "cell_type": "code",
   "execution_count": null,
   "outputs": [],
   "source": [
    "# List of objects\n",
    "\n",
    "# theBeatles = Band('The Beatles', *[johnLennon, paulMcCartney, georgeHarrison, ringoStarr],\n",
    "#                   start=date(1957, 7, 6), end=date(1970, 4, 10))\n",
    "# theRollingStones = Band('The Rolling Stones', *[mickJagger, keithRichards, ronWood, charlieWatts],\n",
    "#                         start=date(1962, 7, 12))\n",
    "# pinkFloyd = Band('Pink Floyd', *[sydBarrett, davidGilmour, rogerWaters, nickMason, rickWright])\n",
    "\n",
    "# bands = [theBeatles, theRollingStones, pinkFloyd]\n"
   ],
   "metadata": {
    "collapsed": false,
    "pycharm": {
     "name": "#%%\n"
    }
   }
  },
  {
   "cell_type": "markdown",
   "source": [
    "# Exception handling\n",
    "Base class:"
   ],
   "metadata": {
    "collapsed": false,
    "pycharm": {
     "name": "#%% md\n"
    }
   }
  },
  {
   "cell_type": "code",
   "execution_count": null,
   "outputs": [],
   "source": [
    "class BandError(Exception):\n",
    "    \"\"\"Base class for exceptions in this module.\n",
    "    \"\"\"\n",
    "\n",
    "    pass"
   ],
   "metadata": {
    "collapsed": false,
    "pycharm": {
     "name": "#%%\n"
    }
   }
  },
  {
   "cell_type": "markdown",
   "source": [
    "A simple user-defined exception:"
   ],
   "metadata": {
    "collapsed": false,
    "pycharm": {
     "name": "#%% md\n"
    }
   }
  },
  {
   "cell_type": "code",
   "execution_count": null,
   "outputs": [],
   "source": [
    "class BandNameError(BandError):\n",
    "    \"\"\"Exception raised when the name of a band is specified incorrectly.\n",
    "    \"\"\"\n",
    "\n",
    "    def __init__(self, name):\n",
    "        pass"
   ],
   "metadata": {
    "collapsed": false,
    "pycharm": {
     "name": "#%%\n"
    }
   }
  },
  {
   "cell_type": "markdown",
   "source": [
    "#### Catching exceptions - *try-except* block\n",
    "If an exception is caught as `e`, then `e.args[0]` is the type of exception (relevant for exception handling).\n",
    "To write error messages to the exception console, use `sys.stderr.write(f'...')`.\n"
   ],
   "metadata": {
    "collapsed": false,
    "pycharm": {
     "name": "#%% md\n"
    }
   }
  },
  {
   "cell_type": "code",
   "execution_count": null,
   "outputs": [],
   "source": [
    "# theBeatles = Band('The Beatles', *[johnLennon, paulMcCartney, georgeHarrison, ringoStarr, ],\n",
    "#                   start=date(1957, 7, 6), end=date(1970, 4, 10))\n"
   ],
   "metadata": {
    "collapsed": false,
    "pycharm": {
     "name": "#%%\n"
    }
   }
  },
  {
   "cell_type": "markdown",
   "source": [
    "#### Catching multiple exceptions and the *finally* clause"
   ],
   "metadata": {
    "collapsed": false,
    "pycharm": {
     "name": "#%% md\n"
    }
   }
  },
  {
   "cell_type": "code",
   "execution_count": null,
   "outputs": [],
   "source": [
    "# Catching multiple exceptions and the 'finally' clause\n",
    "# theBeatles = Band('The Beatles', *[johnLennon, paulMcCartney, georgeHarrison, ringoStarr, ],\n",
    "#                   start=date(1957, 7, 6), end=date(1970, 4, 10))\n"
   ],
   "metadata": {
    "collapsed": false,
    "pycharm": {
     "name": "#%%\n"
    }
   }
  },
  {
   "cell_type": "markdown",
   "source": [
    "#### Using the *else* clause\n",
    "If present in the `try-except` block, the `else` clause must be after all `except` clauses."
   ],
   "metadata": {
    "collapsed": false,
    "pycharm": {
     "name": "#%% md\n"
    }
   }
  },
  {
   "cell_type": "code",
   "execution_count": null,
   "outputs": [],
   "source": [
    "# theBeatles = Band('The Beatles', *[johnLennon, paulMcCartney, georgeHarrison, ringoStarr, ],\n",
    "#                   start=date(1957, 7, 6), end=date(1970, 4, 10))\n"
   ],
   "metadata": {
    "collapsed": false,
    "pycharm": {
     "name": "#%%\n"
    }
   }
  },
  {
   "cell_type": "markdown",
   "source": [],
   "metadata": {
    "collapsed": false,
    "pycharm": {
     "name": "#%% md\n"
    }
   }
  },
  {
   "cell_type": "markdown",
   "source": [
    "#### Catching 'any' exception\n",
    "An empty `except` clause catches any exception that can possibly be raised in the `try` block."
   ],
   "metadata": {
    "collapsed": false,
    "pycharm": {
     "name": "#%% md\n"
    }
   }
  },
  {
   "cell_type": "code",
   "execution_count": null,
   "outputs": [],
   "source": [
    "# theBeatles = Band('The Beatles', *[johnLennon, paulMcCartney, georgeHarrison, ringoStarr, ],\n",
    "#                   start=date(1957, 7, 6), end=date(1970, 4, 10))\n"
   ],
   "metadata": {
    "collapsed": false,
    "pycharm": {
     "name": "#%%\n"
    }
   }
  },
  {
   "cell_type": "markdown",
   "source": [
    "#### Catching user-defined exceptions"
   ],
   "metadata": {
    "collapsed": false,
    "pycharm": {
     "name": "#%% md\n"
    }
   }
  },
  {
   "cell_type": "code",
   "execution_count": null,
   "outputs": [],
   "source": [
    "# theBeatles = Band('The Beatles', *[johnLennon, paulMcCartney, georgeHarrison, ringoStarr, ],\n",
    "#                   start=date(1957, 7, 6), end=date(1970, 4, 10))\n"
   ],
   "metadata": {
    "collapsed": false,
    "pycharm": {
     "name": "#%%\n"
    }
   }
  },
  {
   "cell_type": "markdown",
   "source": [
    "# Working with files\n",
    "For some reasons, `get_project_dir()` and `get_data_dir()` from `util.utility` return `None` when called from here. Thus `DATA_DIR` is imported from *settings.py* and used here."
   ],
   "metadata": {
    "collapsed": false,
    "pycharm": {
     "name": "#%% md\n"
    }
   }
  },
  {
   "cell_type": "markdown",
   "source": [
    "#### Writing to a text file\n",
    "`<outfile>.write(str(<obj>)`, `<outfile>.writelines([str(<obj>)+'\\n' for <obj> in <objs>]`"
   ],
   "metadata": {
    "collapsed": false,
    "pycharm": {
     "name": "#%% md\n"
    }
   }
  },
  {
   "cell_type": "code",
   "execution_count": null,
   "outputs": [],
   "source": [
    "# theBeatles = Band('The Beatles', *[johnLennon, paulMcCartney, georgeHarrison, ringoStarr],\n",
    "#                       start=date(1957, 7, 6), end=date(1970, 4, 10))\n",
    "# theRollingStones = Band('The Rolling Stones', *[mickJagger, keithRichards, ronWood, charlieWatts],\n",
    "#                         start=date(1962, 7, 12))\n",
    "# pinkFloyd = Band('Pink Floyd', *[sydBarrett, davidGilmour, rogerWaters, nickMason, rickWright])\n",
    "# bands = [theBeatles, theRollingStones, pinkFloyd]"
   ],
   "metadata": {
    "collapsed": false,
    "pycharm": {
     "name": "#%%\n"
    }
   }
  },
  {
   "cell_type": "code",
   "execution_count": null,
   "outputs": [],
   "source": [
    "# print(type(get_data_dir()))                 # get_data_dir() returns None for some reasons and is not used here\n"
   ],
   "metadata": {
    "collapsed": false,
    "pycharm": {
     "name": "#%%\n"
    }
   }
  },
  {
   "cell_type": "markdown",
   "source": [
    "#### Reading from a text file\n",
    "`<infile>.readline()`, `<infile>.readlines()`"
   ],
   "metadata": {
    "collapsed": false,
    "pycharm": {
     "name": "#%% md\n"
    }
   }
  },
  {
   "cell_type": "code",
   "execution_count": null,
   "outputs": [],
   "source": [
    "# print(type(get_data_dir()))                 # get_data_dir() returns None for some reasons and is not used here\n"
   ],
   "metadata": {
    "collapsed": false,
    "pycharm": {
     "name": "#%%\n"
    }
   }
  },
  {
   "cell_type": "markdown",
   "source": [
    "#### Writing to a binary file\n",
    "`pickle.dump(<obj>, <outfile>)`\n"
   ],
   "metadata": {
    "collapsed": false,
    "pycharm": {
     "name": "#%% md\n"
    }
   }
  },
  {
   "cell_type": "code",
   "execution_count": null,
   "outputs": [],
   "source": [
    "# print(type(get_data_dir()))                 # get_data_dir() returns None for some reasons and is not used here\n"
   ],
   "metadata": {
    "collapsed": false,
    "pycharm": {
     "name": "#%%\n"
    }
   }
  },
  {
   "cell_type": "markdown",
   "source": [
    "#### Reading from a binary file\n",
    "`pickle.load(<infile>)`"
   ],
   "metadata": {
    "collapsed": false,
    "pycharm": {
     "name": "#%% md\n"
    }
   }
  },
  {
   "cell_type": "code",
   "execution_count": null,
   "outputs": [],
   "source": [
    "# print(type(get_data_dir()))                 # get_data_dir() returns None for some reasons and is not used here\n"
   ],
   "metadata": {
    "collapsed": false,
    "pycharm": {
     "name": "#%%\n"
    }
   }
  }
 ],
 "metadata": {
  "kernelspec": {
   "display_name": "Python 3",
   "language": "python",
   "name": "python3"
  },
  "language_info": {
   "codemirror_mode": {
    "name": "ipython",
    "version": 2
   },
   "file_extension": ".py",
   "mimetype": "text/x-python",
   "name": "python",
   "nbconvert_exporter": "python",
   "pygments_lexer": "ipython2",
   "version": "2.7.6"
  }
 },
 "nbformat": 4,
 "nbformat_minor": 0
}