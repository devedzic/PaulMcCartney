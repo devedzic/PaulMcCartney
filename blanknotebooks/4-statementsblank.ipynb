{
 "cells": [
  {
   "cell_type": "markdown",
   "source": [
    "# Statements\n",
    "The notebook created after the *statements* module.\n",
    "\n",
    "Demonstrates peculiarities of `if`, `for`, `while` and other statements."
   ],
   "metadata": {
    "collapsed": false,
    "pycharm": {
     "name": "#%% md\n"
    }
   }
  },
  {
   "cell_type": "markdown",
   "source": [
    "## Branching\n",
    "Define a simple function to demonstrate details and peculiarities of `if` statements."
   ],
   "metadata": {
    "collapsed": false,
    "pycharm": {
     "name": "#%% md\n"
    }
   }
  },
  {
   "cell_type": "code",
   "execution_count": null,
   "outputs": [],
   "source": [
    "def demonstrate_branching():\n",
    "    \"\"\"Details and peculiarities of if statements.\n",
    "    - is compares id()'s, == compares contents\n",
    "    - id()'s are the same for equal strings and numbers, but not for lists, user class instances,...\n",
    "    - the condition of an if-statement need not necessarily be a boolean\n",
    "    - there can be more than one elif after if (no switch statement, use multiple elif instead)\n",
    "    \"\"\"\n",
    "\n"
   ],
   "metadata": {
    "collapsed": false,
    "pycharm": {
     "name": "#%%\n"
    }
   }
  },
  {
   "cell_type": "code",
   "execution_count": null,
   "outputs": [],
   "source": [
    "demonstrate_branching()"
   ],
   "metadata": {
    "collapsed": false,
    "pycharm": {
     "name": "#%%\n"
    }
   }
  },
  {
   "cell_type": "markdown",
   "source": [
    "## Loops\n",
    "Define a simple function to demonstrate different kinds of loops, as well as `break` and `continue` statements.."
   ],
   "metadata": {
    "collapsed": false,
    "pycharm": {
     "name": "#%% md\n"
    }
   }
  },
  {
   "cell_type": "code",
   "execution_count": null,
   "outputs": [],
   "source": [
    "def demonstrate_loops():\n",
    "    \"\"\"Different kinds of loops. Also break and continue.\n",
    "    - it is not necessary to iterate through all elements of an iterable\n",
    "    - step in range()\n",
    "    - unimportant counter (_)\n",
    "    - break and continue\n",
    "    - while loop\n",
    "    \"\"\"\n",
    "\n"
   ],
   "metadata": {
    "collapsed": false,
    "pycharm": {
     "name": "#%%\n"
    }
   }
  },
  {
   "cell_type": "code",
   "execution_count": null,
   "outputs": [],
   "source": [
    "demonstrate_loops()"
   ],
   "metadata": {
    "collapsed": false,
    "pycharm": {
     "name": "#%%\n"
    }
   }
  }
 ],
 "metadata": {
  "kernelspec": {
   "display_name": "Python 3",
   "language": "python",
   "name": "python3"
  },
  "language_info": {
   "codemirror_mode": {
    "name": "ipython",
    "version": 2
   },
   "file_extension": ".py",
   "mimetype": "text/x-python",
   "name": "python",
   "nbconvert_exporter": "python",
   "pygments_lexer": "ipython2",
   "version": "2.7.6"
  }
 },
 "nbformat": 4,
 "nbformat_minor": 0
}