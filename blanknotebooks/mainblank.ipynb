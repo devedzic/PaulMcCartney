{
 "cells": [
  {
   "cell_type": "code",
   "execution_count": 2,
   "id": "f04a23ea-0e2c-4973-aa25-19b87c229c71",
   "metadata": {
    "pycharm": {
     "name": "#%%\n"
    }
   },
   "outputs": [
    {
     "data": {
      "text/plain": [
       "'The very first Python script - main.py.\\n'"
      ]
     },
     "execution_count": 2,
     "metadata": {},
     "output_type": "execute_result"
    }
   ],
   "source": [
    "# %load M:\\Vladan\\Courses\\P3\\Python\\Python projects\\PyCharm projects\\imagine\\blankscripts\\mainblank.py\n",
    "\"\"\"The very first Python script - main.py.\n",
    "\"\"\"\n",
    "\n",
    "\n",
    "# Hello world: the print() built-in function and the + operator.\n",
    "\n",
    "\n",
    "# The input() built-in function\n",
    "\n",
    "\n",
    "# A simple function and function call\n",
    "\n",
    "\n",
    "# A simple loop and the range() built-in function\n",
    "\n",
    "\n",
    "# A simple list, accessing list elements, printing lists\n",
    "\n",
    "\n",
    "# Looping through list elements - for and enumerate()\n",
    "\n",
    "\n",
    "# Global variables: __name__, __file__, __doc__,...\n",
    "\n"
   ]
  }
 ],
 "metadata": {
  "kernelspec": {
   "display_name": "Python 3 (ipykernel)",
   "language": "python",
   "name": "python3"
  },
  "language_info": {
   "codemirror_mode": {
    "name": "ipython",
    "version": 3
   },
   "file_extension": ".py",
   "mimetype": "text/x-python",
   "name": "python",
   "nbconvert_exporter": "python",
   "pygments_lexer": "ipython3",
   "version": "3.10.0"
  }
 },
 "nbformat": 4,
 "nbformat_minor": 5
}